{
  "nbformat": 4,
  "nbformat_minor": 0,
  "metadata": {
    "colab": {
      "name": "Simple Frezon C with VAE ver9 varD5 L6 GOOD.ipynb",
      "version": "0.3.2",
      "provenance": [],
      "collapsed_sections": [],
      "include_colab_link": true
    },
    "kernelspec": {
      "name": "python3",
      "display_name": "Python 3"
    },
    "accelerator": "GPU"
  },
  "cells": [
    {
      "cell_type": "markdown",
      "metadata": {
        "id": "view-in-github",
        "colab_type": "text"
      },
      "source": [
        "<a href=\"https://colab.research.google.com/github/rajagopalmotivate/DeepLearnIITMA1/blob/master/Simple_Frezon_C_with_VAE_ver9_varD5_L6_GOOD.ipynb\" target=\"_parent\"><img src=\"https://colab.research.google.com/assets/colab-badge.svg\" alt=\"Open In Colab\"/></a>"
      ]
    },
    {
      "metadata": {
        "id": "ESVlIQR5k9so",
        "colab_type": "code",
        "cellView": "both",
        "colab": {}
      },
      "cell_type": "code",
      "source": [
        "#@title\n"
      ],
      "execution_count": 0,
      "outputs": []
    },
    {
      "metadata": {
        "id": "6-TIAq9sk-KW",
        "colab_type": "code",
        "cellView": "form",
        "colab": {}
      },
      "cell_type": "code",
      "source": [
        "#@title\n",
        "import tensorflow as tf\n",
        "(x_train, y_train), (x_test, y_test) = tf.keras.datasets.fashion_mnist.load_data()"
      ],
      "execution_count": 0,
      "outputs": []
    },
    {
      "metadata": {
        "id": "dVxDy1qVlGfH",
        "colab_type": "code",
        "outputId": "5ac452bf-8013-4d20-97f3-119a3dbc3846",
        "cellView": "both",
        "colab": {
          "base_uri": "https://localhost:8080/",
          "height": 35
        }
      },
      "cell_type": "code",
      "source": [
        "#@title\n",
        "import matplotlib.pyplot as plt\n",
        "image_index = 100 \n",
        "print(y_train[image_index])\n",
        "#plt.imshow(x_train[image_index], cmap='Greys')"
      ],
      "execution_count": 0,
      "outputs": [
        {
          "output_type": "stream",
          "text": [
            "8\n"
          ],
          "name": "stdout"
        }
      ]
    },
    {
      "metadata": {
        "id": "lcD8qBFrlHPX",
        "colab_type": "code",
        "outputId": "a6f917da-07e4-414c-8e08-c9cf3ff34e99",
        "cellView": "form",
        "colab": {
          "base_uri": "https://localhost:8080/",
          "height": 72
        }
      },
      "cell_type": "code",
      "source": [
        "#@title\n",
        "# Reshaping the array to 4-dims \n",
        "x_train = x_train.reshape(x_train.shape[0], 28, 28, 1)\n",
        "x_test = x_test.reshape(x_test.shape[0], 28, 28, 1)\n",
        "input_shape = (28, 28, 1)\n",
        "# Making sure that the values are float \n",
        "x_train = x_train.astype('float32')\n",
        "x_test = x_test.astype('float32')\n",
        "# Normalizing the RGB codes by dividing it to the max RGB value.\n",
        "x_train /= 255\n",
        "x_test /= 255\n",
        "print('x_train shape:', x_train.shape)\n",
        "print('Number of images in x_train', x_train.shape[0])\n",
        "print('Number of images in x_test', x_test.shape[0])"
      ],
      "execution_count": 0,
      "outputs": [
        {
          "output_type": "stream",
          "text": [
            "x_train shape: (60000, 28, 28, 1)\n",
            "Number of images in x_train 60000\n",
            "Number of images in x_test 10000\n"
          ],
          "name": "stdout"
        }
      ]
    },
    {
      "metadata": {
        "id": "LOzRBmQ6lUu5",
        "colab_type": "code",
        "colab": {}
      },
      "cell_type": "code",
      "source": [
        ""
      ],
      "execution_count": 0,
      "outputs": []
    },
    {
      "metadata": {
        "id": "SsVIjJgilYt5",
        "colab_type": "code",
        "cellView": "form",
        "colab": {}
      },
      "cell_type": "code",
      "source": [
        "#@title\n",
        "from keras.models import Sequential\n",
        "from keras.layers import Dense, Conv2D, Dropout, Flatten, MaxPooling2D\n",
        "# Creating a Sequential Model and adding the layers\n",
        "#model00 = Sequential()\n",
        "#model00.add(Conv2D(28, kernel_size=(3,3), input_shape=input_shape))\n",
        "#model00.add(MaxPooling2D(pool_size=(2, 2)))\n",
        "#model00.add(Flatten()) # Flattening the 2D arrays for fully connected layers\n",
        "#model00.add(Dense(128, activation=tf.nn.relu))\n",
        "#model00.add(Dropout(0.2))\n",
        "#model00.add(Dense(10,activation=tf.nn.softmax))"
      ],
      "execution_count": 0,
      "outputs": []
    },
    {
      "metadata": {
        "id": "vsN5NEsMHQs-",
        "colab_type": "code",
        "cellView": "form",
        "colab": {}
      },
      "cell_type": "code",
      "source": [
        "#@title\n",
        "from keras.models import Sequential\n",
        "from keras.layers import Dense, Conv2D, Dropout, Flatten, MaxPooling2D\n",
        "from keras.models import Model\n",
        "from keras.layers import Input\n",
        "\n",
        "\n",
        "inputtoClassifer = Input(shape=(28,28, 1),  name='inputtoclassifer')\n",
        "model00layer1  = Conv2D(28, kernel_size=(3,3)) (inputtoClassifer)\n",
        "model00layer2  = MaxPooling2D(pool_size=(2, 2)) (model00layer1)\n",
        "model00layer3 = Flatten() (model00layer2)\n",
        "model00layer4 = Dense(128, activation=tf.nn.relu) (model00layer3)\n",
        "model00layer5 = Dropout(0.2) (model00layer4)\n",
        "model00layer6 = Dense(10,activation=tf.nn.softmax) (model00layer5)\n",
        "\n",
        "model00 = Model(inputs=inputtoClassifer, outputs=model00layer6 )\n"
      ],
      "execution_count": 0,
      "outputs": []
    },
    {
      "metadata": {
        "id": "sST6pIE0lZUi",
        "colab_type": "code",
        "outputId": "b3c5c03d-8fc9-4ff3-8b68-2114d0d5be6b",
        "cellView": "both",
        "colab": {
          "base_uri": "https://localhost:8080/",
          "height": 181
        }
      },
      "cell_type": "code",
      "source": [
        "#@title\n",
        "model00.compile(optimizer='adam', \n",
        "              loss='sparse_categorical_crossentropy', \n",
        "              metrics=['accuracy'])\n",
        "model00.fit(x=x_train,y=y_train, epochs=4)"
      ],
      "execution_count": 0,
      "outputs": [
        {
          "output_type": "stream",
          "text": [
            "Epoch 1/4\n",
            "60000/60000 [==============================] - 12s 202us/step - loss: 0.4226 - acc: 0.8484\n",
            "Epoch 2/4\n",
            "60000/60000 [==============================] - 12s 193us/step - loss: 0.2877 - acc: 0.8955\n",
            "Epoch 3/4\n",
            "60000/60000 [==============================] - 12s 193us/step - loss: 0.2425 - acc: 0.9110\n",
            "Epoch 4/4\n",
            "60000/60000 [==============================] - 11s 191us/step - loss: 0.2126 - acc: 0.9218\n"
          ],
          "name": "stdout"
        },
        {
          "output_type": "execute_result",
          "data": {
            "text/plain": [
              "<keras.callbacks.History at 0x7fd397a31978>"
            ]
          },
          "metadata": {
            "tags": []
          },
          "execution_count": 94
        }
      ]
    },
    {
      "metadata": {
        "id": "IWD2s9GclZpT",
        "colab_type": "code",
        "cellView": "form",
        "outputId": "816d5021-89cd-4f9a-da41-470fbef35a57",
        "colab": {
          "base_uri": "https://localhost:8080/",
          "height": 54
        }
      },
      "cell_type": "code",
      "source": [
        "#@title\n",
        "model00.evaluate(x_test, y_test)\n"
      ],
      "execution_count": 0,
      "outputs": [
        {
          "output_type": "stream",
          "text": [
            "10000/10000 [==============================] - 1s 88us/step\n"
          ],
          "name": "stdout"
        },
        {
          "output_type": "execute_result",
          "data": {
            "text/plain": [
              "[0.2636349117398262, 0.908]"
            ]
          },
          "metadata": {
            "tags": []
          },
          "execution_count": 95
        }
      ]
    },
    {
      "metadata": {
        "id": "PhnVsz3vlg4h",
        "colab_type": "code",
        "cellView": "form",
        "outputId": "066fd8a0-78ed-44ee-c071-3ddef6ec2876",
        "colab": {
          "base_uri": "https://localhost:8080/",
          "height": 35
        }
      },
      "cell_type": "code",
      "source": [
        "#@title\n",
        "image_index = 114\n",
        "#plt.imshow(x_test[image_index].reshape(28, 28),cmap='Greys')\n",
        "img_rows = 28\n",
        "img_cols = 28\n",
        "\n",
        "pred = model00.predict(x_test[image_index].reshape(1, img_rows, img_cols, 1))\n",
        "print(pred.argmax())"
      ],
      "execution_count": 0,
      "outputs": [
        {
          "output_type": "stream",
          "text": [
            "5\n"
          ],
          "name": "stdout"
        }
      ]
    },
    {
      "metadata": {
        "id": "2DVJFVvdlZ46",
        "colab_type": "code",
        "cellView": "form",
        "outputId": "e0bc2ec4-514e-41f5-e745-0bd749a8eae3",
        "colab": {
          "base_uri": "https://localhost:8080/",
          "height": 35
        }
      },
      "cell_type": "code",
      "source": [
        "#@title\n",
        "all_layers = model00.layers\n",
        "print(len(all_layers))"
      ],
      "execution_count": 0,
      "outputs": [
        {
          "output_type": "stream",
          "text": [
            "7\n"
          ],
          "name": "stdout"
        }
      ]
    },
    {
      "metadata": {
        "id": "J1fV-Yx_z5E2",
        "colab_type": "code",
        "colab": {}
      },
      "cell_type": "code",
      "source": [
        ""
      ],
      "execution_count": 0,
      "outputs": []
    },
    {
      "metadata": {
        "id": "TyPsutAuz21N",
        "colab_type": "code",
        "colab": {}
      },
      "cell_type": "code",
      "source": [
        "for i in range(len(all_layers)):\n",
        "    all_layers[i].trainable = False"
      ],
      "execution_count": 0,
      "outputs": []
    },
    {
      "metadata": {
        "id": "N_AwAqp22dI8",
        "colab_type": "code",
        "cellView": "form",
        "colab": {}
      },
      "cell_type": "code",
      "source": [
        "#@title\n",
        "model00.trainable = False\n",
        "model00.compile(optimizer='adam', \n",
        "              loss='sparse_categorical_crossentropy', \n",
        "              metrics=['accuracy'])"
      ],
      "execution_count": 0,
      "outputs": []
    },
    {
      "metadata": {
        "id": "YziP8bt32BpW",
        "colab_type": "code",
        "colab": {}
      },
      "cell_type": "code",
      "source": [
        "#model00.fit(x=x_train,y=y_train, epochs=1)"
      ],
      "execution_count": 0,
      "outputs": []
    },
    {
      "metadata": {
        "id": "jN9ISfA8bvfh",
        "colab_type": "code",
        "colab": {}
      },
      "cell_type": "code",
      "source": [
        "from keras.models import load_model\n",
        "\n",
        "model00.save('Feb28model00.h5')  # creates a HDF5 file \n",
        "#del model00  # deletes the existing model\n",
        "\n",
        "# returns a compiled model\n",
        "# identical to the previous one\n",
        "#model00 = load_model('Feb28model00.h5')"
      ],
      "execution_count": 0,
      "outputs": []
    },
    {
      "metadata": {
        "id": "L9Oxlj7Zcxe7",
        "colab_type": "code",
        "colab": {}
      },
      "cell_type": "code",
      "source": [
        "#modulerize"
      ],
      "execution_count": 0,
      "outputs": []
    },
    {
      "metadata": {
        "id": "v4Z9KXCYcVDj",
        "colab_type": "code",
        "cellView": "form",
        "colab": {}
      },
      "cell_type": "code",
      "source": [
        "#@title\n",
        "from keras.models import load_model\n",
        "\n",
        "#model00 = load_model('Feb28model00.h5')"
      ],
      "execution_count": 0,
      "outputs": []
    },
    {
      "metadata": {
        "id": "Prjj96flkZXm",
        "colab_type": "code",
        "cellView": "form",
        "colab": {}
      },
      "cell_type": "code",
      "source": [
        "#@title\n",
        "from keras.utils import plot_model\n",
        "from google.colab import files\n",
        "\n"
      ],
      "execution_count": 0,
      "outputs": []
    },
    {
      "metadata": {
        "id": "O8hlwu0hLbAL",
        "colab_type": "code",
        "cellView": "form",
        "colab": {}
      },
      "cell_type": "code",
      "source": [
        "#@title\n",
        "plot_model(model00, to_file='model00.png', show_shapes=True)\n",
        "\n",
        "files.download('model00.png')\n",
        "\n"
      ],
      "execution_count": 0,
      "outputs": []
    },
    {
      "metadata": {
        "id": "pSHxxMjRWUie",
        "colab_type": "code",
        "colab": {}
      },
      "cell_type": "code",
      "source": [
        ""
      ],
      "execution_count": 0,
      "outputs": []
    },
    {
      "metadata": {
        "id": "iMq_bzTcWUlf",
        "colab_type": "code",
        "colab": {}
      },
      "cell_type": "code",
      "source": [
        ""
      ],
      "execution_count": 0,
      "outputs": []
    },
    {
      "metadata": {
        "id": "SinnbbgZWUoZ",
        "colab_type": "code",
        "colab": {}
      },
      "cell_type": "code",
      "source": [
        ""
      ],
      "execution_count": 0,
      "outputs": []
    },
    {
      "metadata": {
        "id": "Q_FQyjXUWUre",
        "colab_type": "code",
        "colab": {}
      },
      "cell_type": "code",
      "source": [
        ""
      ],
      "execution_count": 0,
      "outputs": []
    },
    {
      "metadata": {
        "id": "x1oalCEzWUuQ",
        "colab_type": "code",
        "cellView": "form",
        "colab": {}
      },
      "cell_type": "code",
      "source": [
        "#@title\n",
        "\n",
        "\n",
        "from keras.layers import Dense, Input\n",
        "from keras.layers import Conv2D, Flatten, Lambda\n",
        "from keras.layers import Reshape, Conv2DTranspose\n",
        "from keras.models import Model\n",
        "from keras.datasets import mnist, fashion_mnist, cifar10\n",
        "from keras.losses import mse, binary_crossentropy\n",
        "from keras import backend as K\n",
        "\n",
        "import numpy as np\n",
        "import matplotlib.pyplot as plt\n",
        "import argparse\n",
        "import os\n",
        "import copy\n",
        "\n",
        "\n",
        "# reparameterization trick\n",
        "# instead of sampling from Q(z|X), sample eps = N(0,I)\n",
        "# then z = z_mean + sqrt(var)*eps\n",
        "def sampling(args):\n",
        "    \"\"\"Reparameterization trick by sampling fr an isotropic unit Gaussian.\n",
        "    # Arguments:\n",
        "        args (tensor): mean and log of variance of Q(z|X)\n",
        "    # Returns:\n",
        "        z (tensor): sampled latent vector\n",
        "    \"\"\"\n",
        "\n",
        "    z_mean, z_log_var = args\n",
        "    batch = K.shape(z_mean)[0]\n",
        "    dim = K.int_shape(z_mean)[1]\n",
        "    # by default, random_normal has mean=0 and std=1.0\n",
        "    epsilon =  K.random_normal(shape=(batch, dim))\n",
        "    return z_mean + K.exp(0.5 * z_log_var) * epsilon\n",
        "\n",
        "\n",
        "\n",
        "\n",
        "\n"
      ],
      "execution_count": 0,
      "outputs": []
    },
    {
      "metadata": {
        "id": "IOEATKNyWYOV",
        "colab_type": "code",
        "cellView": "both",
        "colab": {}
      },
      "cell_type": "code",
      "source": [
        "#@title\n",
        "def plot_results2(models,\n",
        "                 data,\n",
        "                 batch_size=128,\n",
        "                 model_name=\"vae_mnist\"):\n",
        "    \"\"\"Plots labels and MNIST digits as function of 2-dim latent vector\n",
        "    # Arguments:\n",
        "        models (tuple): encoder and decoder models\n",
        "        data (tuple): test data and label\n",
        "        batch_size (int): prediction batch size\n",
        "        model_name (string): which model is using this function\n",
        "    \"\"\"\n",
        "\n",
        "    encoder, decoder = models\n",
        "    x_test, y_test = data\n",
        "    \n",
        "   # os.makedirs(model_name, exist_ok=True)\n",
        "\n",
        "    filename = os.path.join(model_name, \"vae_mean.png\")\n",
        "    # display a 2D plot of the digit classes in the latent space\n",
        "    z_mean, _, z = encoder.predict(x_test,\n",
        "                                   batch_size=batch_size)\n",
        "    \n",
        "    print(z_mean[:, 0])\n",
        "    plt.figure(figsize=(12, 10))\n",
        "    plt.scatter(z_mean[:, 0], z_mean[:, 1], c='r')\n",
        "\n",
        "#    plt.colorbar()\n",
        "    plt.xlabel(\"z[0]\")\n",
        "    plt.ylabel(\"z[1]\")\n",
        " #   plt.savefig(filename)\n",
        "   # plt.show()\n",
        "    plt.scatter(z[:, 0], z[:, 1], c='g')\n",
        "    plt.show()\n",
        "\n",
        "\n",
        "\n",
        "\n",
        "\n"
      ],
      "execution_count": 0,
      "outputs": []
    },
    {
      "metadata": {
        "id": "8QimGXqLWbJr",
        "colab_type": "code",
        "cellView": "form",
        "colab": {}
      },
      "cell_type": "code",
      "source": [
        "#@title\n",
        "def plot_results(models,\n",
        "                 data,\n",
        "                 batch_size=128,\n",
        "                 model_name=\"vae_mnist\"):\n",
        "    \"\"\"Plots labels and MNIST digits as function of 2-dim latent vector\n",
        "    # Arguments:\n",
        "        models (tuple): encoder and decoder models\n",
        "        data (tuple): test data and label\n",
        "        batch_size (int): prediction batch size\n",
        "        model_name (string): which model is using this function\n",
        "    \"\"\"\n",
        "\n",
        "    encoder, decoder = models\n",
        "    x_test, y_test = data\n",
        "    os.makedirs(model_name, exist_ok=True)\n",
        "\n",
        "    filename = os.path.join(model_name, \"vae_mean.png\")\n",
        "    # display a 2D plot of the digit classes in the latent space\n",
        "    z_mean, _, _ = encoder.predict(x_test,\n",
        "                                   batch_size=batch_size)\n",
        "  #  plt.figure(figsize=(12, 10))\n",
        "  #  plt.scatter(z_mean[:, 0], z_mean[:, 1], c=y_test)\n",
        "  #  plt.colorbar()\n",
        "  #  plt.xlabel(\"z[0]\")\n",
        "  #  plt.ylabel(\"z[1]\")\n",
        "   # plt.savefig(filename)\n",
        "   # plt.show()\n",
        "\n",
        "    filename = os.path.join(model_name, \"digits_over_latent.png\")\n",
        "    # display a 30x30 2D manifold of digits\n",
        "    n = 30\n",
        "    digit_size = 32\n",
        "    figure = np.zeros((digit_size * n, digit_size * n, 3))\n",
        "    # linearly spaced coordinates corresponding to the 2D plot\n",
        "    # of digit classes in the latent space\n",
        "    grid_x = np.linspace(-4, 4, n)\n",
        "    grid_y = np.linspace(-4, 4, n)[::-1]\n",
        "\n",
        "    for i, yi in enumerate(grid_y):\n",
        "        for j, xi in enumerate(grid_x):\n",
        "            z_sample = np.array([[xi, yi]])\n",
        "            x_decoded = decoder.predict(z_sample)\n",
        "            digit = x_decoded[0].reshape(digit_size, digit_size, 3)\n",
        "            figure[i * digit_size: (i + 1) * digit_size,\n",
        "                   j * digit_size: (j + 1) * digit_size] = digit\n",
        "\n",
        "    plt.figure(figsize=(10, 10))\n",
        "    start_range = digit_size // 2\n",
        "    end_range = n * digit_size + start_range + 1\n",
        "    pixel_range = np.arange(start_range, end_range, digit_size)\n",
        "    sample_range_x = np.round(grid_x, 1)\n",
        "    sample_range_y = np.round(grid_y, 1)\n",
        "    plt.xticks(pixel_range, sample_range_x)\n",
        "    plt.yticks(pixel_range, sample_range_y)\n",
        "    plt.xlabel(\"z[0]\")\n",
        "    plt.ylabel(\"z[1]\")\n",
        "    plt.imshow(figure, cmap='Greys_r')\n",
        "    plt.savefig(filename)\n",
        "    plt.show()"
      ],
      "execution_count": 0,
      "outputs": []
    },
    {
      "metadata": {
        "id": "1E6E0pndWdTD",
        "colab_type": "code",
        "cellView": "form",
        "colab": {}
      },
      "cell_type": "code",
      "source": [
        "#@title\n",
        "# MNIST dataset\n",
        "#(x_train, y_train), (x_test, y_test) = cifar10.load_data()\n",
        "\n",
        "(x_train, y_train), (x_test, y_test) = fashion_mnist.load_data()\n",
        "\n",
        "\n",
        "image_size = x_train.shape[1]\n",
        "x_train = np.reshape(x_train, [-1, image_size, image_size, 1])\n",
        "x_test = np.reshape(x_test, [-1, image_size, image_size, 1])\n",
        "x_train = x_train.astype('float32') / 255\n",
        "x_test = x_test.astype('float32') / 255\n",
        "\n",
        "# network parameters\n",
        "input_shape = (image_size, image_size, 1)\n",
        "batch_size = 128\n",
        "kernel_size = 5\n",
        "filters = 16\n",
        "latent_dim = 6\n",
        "epochs = 10\n",
        "\n",
        "# VAE model = encoder + decoder\n",
        "# build encoder model\n",
        "inputs = Input(shape=input_shape, name='encoder_input')\n",
        "x = inputs\n",
        "for i in range(2):\n",
        "    filters *= 2\n",
        "    x = Conv2D(filters=filters,\n",
        "               kernel_size=kernel_size,\n",
        "               activation='relu',\n",
        "               strides=2,\n",
        "               padding='same')(x)\n",
        "\n",
        "# shape info needed to build decoder model\n",
        "shape = K.int_shape(x)\n",
        "\n"
      ],
      "execution_count": 0,
      "outputs": []
    },
    {
      "metadata": {
        "id": "SXTaSMoyWfpv",
        "colab_type": "code",
        "cellView": "form",
        "colab": {}
      },
      "cell_type": "code",
      "source": [
        "#@title\n",
        "# generate latent vector Q(z|X)\n",
        "x = Flatten()(x)\n",
        "x = Dense(1024, activation='relu')(x)\n",
        "z_mean = Dense(latent_dim, name='z_mean')(x)\n",
        "z_log_var = Dense(latent_dim, name='z_log_var')(x)\n",
        "\n"
      ],
      "execution_count": 0,
      "outputs": []
    },
    {
      "metadata": {
        "id": "w6jOPe08Wg6u",
        "colab_type": "code",
        "cellView": "form",
        "colab": {}
      },
      "cell_type": "code",
      "source": [
        "#@title\n",
        "# use reparameterization trick to push the sampling out as input\n",
        "# note that \"output_shape\" isn't necessary with the TensorFlow backend\n",
        "z = Lambda(sampling, output_shape=(latent_dim,), name='z')([z_mean, z_log_var])\n",
        "\n"
      ],
      "execution_count": 0,
      "outputs": []
    },
    {
      "metadata": {
        "id": "sQAlfjC5WhVk",
        "colab_type": "code",
        "cellView": "form",
        "outputId": "0020ab08-c8fc-495c-a352-e48fbdaf1aeb",
        "colab": {
          "base_uri": "https://localhost:8080/",
          "height": 454
        }
      },
      "cell_type": "code",
      "source": [
        "#@title\n",
        "# instantiate encoder model\n",
        "encoder = Model(inputs, [z_mean, z_log_var, z], name='encoder')\n",
        "encoder.summary()\n",
        "plot_model(encoder, to_file='vae_cnn_encoder.png', show_shapes=True)\n",
        "\n"
      ],
      "execution_count": 0,
      "outputs": [
        {
          "output_type": "stream",
          "text": [
            "__________________________________________________________________________________________________\n",
            "Layer (type)                    Output Shape         Param #     Connected to                     \n",
            "==================================================================================================\n",
            "encoder_input (InputLayer)      (None, 28, 28, 1)    0                                            \n",
            "__________________________________________________________________________________________________\n",
            "conv2d_5 (Conv2D)               (None, 14, 14, 32)   832         encoder_input[0][0]              \n",
            "__________________________________________________________________________________________________\n",
            "conv2d_6 (Conv2D)               (None, 7, 7, 64)     51264       conv2d_5[0][0]                   \n",
            "__________________________________________________________________________________________________\n",
            "flatten_4 (Flatten)             (None, 3136)         0           conv2d_6[0][0]                   \n",
            "__________________________________________________________________________________________________\n",
            "dense_7 (Dense)                 (None, 1024)         3212288     flatten_4[0][0]                  \n",
            "__________________________________________________________________________________________________\n",
            "z_mean (Dense)                  (None, 6)            6150        dense_7[0][0]                    \n",
            "__________________________________________________________________________________________________\n",
            "z_log_var (Dense)               (None, 6)            6150        dense_7[0][0]                    \n",
            "__________________________________________________________________________________________________\n",
            "z (Lambda)                      (None, 6)            0           z_mean[0][0]                     \n",
            "                                                                 z_log_var[0][0]                  \n",
            "==================================================================================================\n",
            "Total params: 3,276,684\n",
            "Trainable params: 3,276,684\n",
            "Non-trainable params: 0\n",
            "__________________________________________________________________________________________________\n"
          ],
          "name": "stdout"
        }
      ]
    },
    {
      "metadata": {
        "id": "cm3JWx_sWiwq",
        "colab_type": "code",
        "cellView": "form",
        "outputId": "27aecfb8-4736-47e1-cfae-abbeae092ba0",
        "colab": {
          "base_uri": "https://localhost:8080/",
          "height": 363
        }
      },
      "cell_type": "code",
      "source": [
        "#@title\n",
        "# build decoder model\n",
        "latent_inputs = Input(shape=(latent_dim,), name='z_sampling')\n",
        "x = Dense(shape[1] * shape[2] * shape[3], activation='relu')(latent_inputs)\n",
        "x = Reshape((shape[1], shape[2], shape[3]))(x)\n",
        "\n",
        "for i in range(2):\n",
        "    x = Conv2DTranspose(filters=filters,\n",
        "                        kernel_size=kernel_size,\n",
        "                        activation='relu',\n",
        "                        strides=2,\n",
        "                        padding='same')(x)\n",
        "    filters //= 2\n",
        "\n",
        "outputs = Conv2DTranspose(filters=1,\n",
        "                          kernel_size=kernel_size,\n",
        "                          activation='sigmoid',\n",
        "                          padding='same',\n",
        "                          name='decoder_output')(x)\n",
        "\n",
        "# instantiate decoder model\n",
        "decoder = Model(latent_inputs, outputs, name='decoder')\n",
        "decoder.summary()\n",
        "plot_model(decoder, to_file='vae_cnn_decoder.png', show_shapes=True)\n",
        "\n",
        "\n",
        "decoderVisvalizer = Model(latent_inputs, x, name='decoderVisuvalizer')\n",
        "plot_model(decoderVisvalizer, to_file='decoderVisuvalizer.png', show_shapes=True)\n",
        "\n",
        "\n"
      ],
      "execution_count": 0,
      "outputs": [
        {
          "output_type": "stream",
          "text": [
            "_________________________________________________________________\n",
            "Layer (type)                 Output Shape              Param #   \n",
            "=================================================================\n",
            "z_sampling (InputLayer)      (None, 6)                 0         \n",
            "_________________________________________________________________\n",
            "dense_8 (Dense)              (None, 3136)              21952     \n",
            "_________________________________________________________________\n",
            "reshape_2 (Reshape)          (None, 7, 7, 64)          0         \n",
            "_________________________________________________________________\n",
            "conv2d_transpose_3 (Conv2DTr (None, 14, 14, 64)        102464    \n",
            "_________________________________________________________________\n",
            "conv2d_transpose_4 (Conv2DTr (None, 28, 28, 32)        51232     \n",
            "_________________________________________________________________\n",
            "decoder_output (Conv2DTransp (None, 28, 28, 1)         801       \n",
            "=================================================================\n",
            "Total params: 176,449\n",
            "Trainable params: 176,449\n",
            "Non-trainable params: 0\n",
            "_________________________________________________________________\n"
          ],
          "name": "stdout"
        }
      ]
    },
    {
      "metadata": {
        "id": "cCIFEUQ6oBPv",
        "colab_type": "code",
        "colab": {}
      },
      "cell_type": "code",
      "source": [
        ""
      ],
      "execution_count": 0,
      "outputs": []
    },
    {
      "metadata": {
        "id": "nJTcdpPlWliN",
        "colab_type": "code",
        "cellView": "form",
        "colab": {}
      },
      "cell_type": "code",
      "source": [
        "#@title\n",
        "# instantiate VAE model\n",
        "outputs = decoder( encoder(inputs)[2] )\n",
        "vae = Model(inputs, outputs, name='vae')\n",
        "\n"
      ],
      "execution_count": 0,
      "outputs": []
    },
    {
      "metadata": {
        "id": "SSaRBHSvnp5c",
        "colab_type": "code",
        "colab": {}
      },
      "cell_type": "code",
      "source": [
        ""
      ],
      "execution_count": 0,
      "outputs": []
    },
    {
      "metadata": {
        "id": "lDvdngZ_n7RS",
        "colab_type": "code",
        "colab": {}
      },
      "cell_type": "code",
      "source": [
        ""
      ],
      "execution_count": 0,
      "outputs": []
    },
    {
      "metadata": {
        "id": "eb617TgHnNp7",
        "colab_type": "code",
        "colab": {}
      },
      "cell_type": "code",
      "source": [
        "classiferoutputtensor = model00 ( decoder( encoder(inputs)[2] ) )"
      ],
      "execution_count": 0,
      "outputs": []
    },
    {
      "metadata": {
        "id": "GVnIkGCynEv_",
        "colab_type": "code",
        "colab": {}
      },
      "cell_type": "code",
      "source": [
        "vaec = Model(inputs, classiferoutputtensor, name='vaec')"
      ],
      "execution_count": 0,
      "outputs": []
    },
    {
      "metadata": {
        "id": "j5W-U0OlnFVo",
        "colab_type": "code",
        "colab": {}
      },
      "cell_type": "code",
      "source": [
        ""
      ],
      "execution_count": 0,
      "outputs": []
    },
    {
      "metadata": {
        "id": "VnqqweoPWoWN",
        "colab_type": "code",
        "cellView": "form",
        "outputId": "4b1c651b-f449-4267-e941-f0083348d6f8",
        "colab": {
          "base_uri": "https://localhost:8080/",
          "height": 54
        }
      },
      "cell_type": "code",
      "source": [
        "#@title\n",
        "whatisthis = encoder(inputs)\n",
        "print(whatisthis)\n",
        "\n",
        "print(whatisthis[2])"
      ],
      "execution_count": 0,
      "outputs": [
        {
          "output_type": "stream",
          "text": [
            "[<tf.Tensor 'encoder_3/z_mean/BiasAdd:0' shape=(?, 6) dtype=float32>, <tf.Tensor 'encoder_3/z_log_var/BiasAdd:0' shape=(?, 6) dtype=float32>, <tf.Tensor 'encoder_3/z/add:0' shape=(?, 6) dtype=float32>]\n",
            "Tensor(\"encoder_3/z/add:0\", shape=(?, 6), dtype=float32)\n"
          ],
          "name": "stdout"
        }
      ]
    },
    {
      "metadata": {
        "id": "1gyoQcvjWpp9",
        "colab_type": "code",
        "cellView": "form",
        "outputId": "ccb9a1ce-e9e2-4053-cad8-8a04c781989a",
        "colab": {
          "base_uri": "https://localhost:8080/",
          "height": 108
        }
      },
      "cell_type": "code",
      "source": [
        "#@title\n",
        "\n",
        "#models = (encoder, decoder)\n",
        "#data = (x_test, y_test)\n",
        "\n",
        "typeoflossfun = True \n",
        "    # VAE loss = mse_loss or xent_loss + kl_loss\n",
        "if typeoflossfun:\n",
        "        reconstruction_loss = mse(K.flatten(inputs), K.flatten(outputs))\n",
        "else:\n",
        "        reconstruction_loss = binary_crossentropy(K.flatten(inputs),\n",
        "                                                  K.flatten(outputs))\n",
        "\n",
        "print(reconstruction_loss.shape)\n",
        "\n",
        "reconstruction_loss *= image_size * image_size\n",
        "print(reconstruction_loss.shape)\n",
        "kl_loss = 1 + z_log_var - K.square(z_mean) - K.exp(z_log_var)\n",
        "\n",
        "print(kl_loss.shape)\n",
        "\n",
        "kl_loss = K.sum(kl_loss, axis=-1)\n",
        "print(kl_loss.shape)\n",
        "\n",
        "kl_loss *= -0.5\n",
        "\n",
        "\n",
        "vae_loss = K.mean(reconstruction_loss + kl_loss)\n",
        "\n",
        "\n",
        "print(vae_loss.shape)\n",
        "\n",
        "\n",
        "vae.add_loss(vae_loss)\n",
        "\n",
        "\n"
      ],
      "execution_count": 0,
      "outputs": [
        {
          "output_type": "stream",
          "text": [
            "()\n",
            "()\n",
            "(?, 6)\n",
            "(?,)\n",
            "()\n"
          ],
          "name": "stdout"
        }
      ]
    },
    {
      "metadata": {
        "id": "riLpWR2AcSP1",
        "colab_type": "code",
        "cellView": "form",
        "colab": {}
      },
      "cell_type": "code",
      "source": [
        "#@title ## Condition #1: Ensure the VAEC creates designs as similar to the design cluster you want\n",
        "\n",
        "\n",
        "#@markdown #### 1. Consider this:\n",
        "\n",
        "Desing_Consideration_1 = True #@param {type:\"boolean\"}\n",
        "#@markdown    checked - recommendend to check atleast 1 design consideration to convert VAE to VAEC\n",
        "\n",
        "\n",
        "\n",
        "#@markdown #### 2. Should the output be Similar or Dissimilar to this design condition?:\n",
        "\n",
        "Include_Excluse_Condition_1 = False #@param [\"False\", \"True\"] {type:\"raw\"}\n",
        "#@markdown    true - find me designs that have the condition \n",
        "#@markdown    false - find me designs that DO NOT have the condition \n",
        "\n",
        "#@markdown #### 3. Choose the Design condition (cluster):\n",
        "\n",
        "\n",
        "Condition_1_cluster_number = 1 #@param {type:\"slider\", min:0, max:10, step:1}\n",
        "#@markdown   Choose  the cluster no you want the generated design to look like \n",
        "\n",
        "\n",
        "Desing_Consideration_1 = int(Desing_Consideration_1)\n"
      ],
      "execution_count": 0,
      "outputs": []
    },
    {
      "metadata": {
        "id": "g4g4WmFHeLKX",
        "colab_type": "code",
        "cellView": "form",
        "colab": {}
      },
      "cell_type": "code",
      "source": [
        "#@title ## Condition #2: Add the next design consideration to the VAEC \n",
        "\n",
        "#@markdown #### 1. Consider this design constraint:\n",
        "\n",
        "Desing_Consideration_2 = True #@param {type:\"boolean\"}\n",
        "#@markdown   not selected  - ignore this design consideration  \n",
        "\n",
        "\n",
        "\n",
        "#@markdown #### 2. Should the output be Similar or Dissimilar to this design condition?:\n",
        "\n",
        "Include_Excluse_Condition_2 = True #@param [\"False\", \"True\"] {type:\"raw\"}\n",
        "#@markdown    true - find me designs that have the condition \n",
        "#@markdown    false - find me designs that DO NOT have the condition \n",
        "\n",
        "#@markdown #### 3. Choose the Design condition (cluster):\n",
        "\n",
        "\n",
        "Condition_2_cluster_number = 6 #@param {type:\"slider\", min:0, max:10, step:1}\n",
        "#@markdown   Choose  the cluster no you want the generated design to look like \n",
        "\n",
        "\n",
        "Desing_Consideration_2 = int(Desing_Consideration_2)\n"
      ],
      "execution_count": 0,
      "outputs": []
    },
    {
      "metadata": {
        "id": "W0WKUHVPjOJq",
        "colab_type": "code",
        "colab": {}
      },
      "cell_type": "code",
      "source": [
        ""
      ],
      "execution_count": 0,
      "outputs": []
    },
    {
      "metadata": {
        "id": "mkzqVP4rtcgs",
        "colab_type": "code",
        "outputId": "b71a2f71-9217-4db4-e6ce-bdaf1c8c5e7b",
        "colab": {
          "base_uri": "https://localhost:8080/",
          "height": 72
        }
      },
      "cell_type": "code",
      "source": [
        "\n",
        "\n",
        "\n",
        "#classifer_loss = K.sum(classifer_loss, axis=-1)\n",
        "\n",
        "\n",
        "myvalue = classiferoutputtensor[:,Condition_1_cluster_number:Condition_1_cluster_number+1]\n",
        "\n",
        "myvalue2 = classiferoutputtensor[:,Condition_2_cluster_number:Condition_2_cluster_number+1]\n",
        "\n",
        "if(Include_Excluse_Condition_1):\n",
        "  myvalue = myvalue - 1\n",
        "  myvalue = - 1 * myvalue\n",
        "\n",
        "if(Include_Excluse_Condition_2):\n",
        "  myvalue2 = myvalue2 - 1\n",
        "  myvalue2 = - 1 * myvalue2\n",
        "\n",
        "\n",
        "print('myvalue shape')\n",
        "\n",
        "print(myvalue.shape)\n",
        "\n",
        "\n",
        "classifer_loss = K.sum(myvalue, axis=-1)\n",
        "\n",
        "classifer_loss2 = K.sum(myvalue2, axis=-1)\n",
        "\n",
        "\n",
        "\n",
        "print(classifer_loss.shape)\n",
        "\n",
        "vaec_loss = K.mean( reconstruction_loss + kl_loss + 1000 * classifer_loss * Desing_Consideration_1 +  1000 * classifer_loss2 * Desing_Consideration_2  )\n",
        "\n",
        "\n",
        "\n"
      ],
      "execution_count": 0,
      "outputs": [
        {
          "output_type": "stream",
          "text": [
            "myvalue shape\n",
            "(?, 1)\n",
            "(?,)\n"
          ],
          "name": "stdout"
        }
      ]
    },
    {
      "metadata": {
        "id": "ZiECb-_1hRz9",
        "colab_type": "code",
        "cellView": "both",
        "colab": {}
      },
      "cell_type": "code",
      "source": [
        "#@title\n",
        "\n",
        "\n",
        "\n",
        "if False: \n",
        "\n",
        "  #classifer_loss = K.sum(classifer_loss, axis=-1)\n",
        "\n",
        "\n",
        "  myvalue = classiferoutputtensor[:,1:2]\n",
        "\n",
        "  myvalue2 = classiferoutputtensor[:,4:5]\n",
        "\n",
        "  #myvalue = myvalue - 1\n",
        "\n",
        "  myvalue2 = myvalue2 - 1\n",
        "\n",
        "  #myvalue = - 1 * myvalue\n",
        "\n",
        "  myvalue2 = - 1 * myvalue2\n",
        "\n",
        "\n",
        "  print('myvalue shape')\n",
        "\n",
        "  print(myvalue.shape)\n",
        "\n",
        "\n",
        "  classifer_loss = K.sum(myvalue, axis=-1)\n",
        "\n",
        "  classifer_loss2 = K.sum(myvalue2, axis=-1)\n",
        "\n",
        "\n",
        "\n",
        "  print(classifer_loss.shape)\n",
        "\n",
        "  vaec_loss = K.mean( reconstruction_loss + kl_loss + 1000 * classifer_loss   )\n",
        "\n",
        "  print(vaec_loss.shape)\n",
        "\n",
        "\n",
        "\n",
        "\n"
      ],
      "execution_count": 0,
      "outputs": []
    },
    {
      "metadata": {
        "id": "YFybEFMGhSjV",
        "colab_type": "code",
        "outputId": "7260ab08-4270-449a-e424-9f799806fa52",
        "colab": {
          "base_uri": "https://localhost:8080/",
          "height": 35
        }
      },
      "cell_type": "code",
      "source": [
        "\n",
        "print(vaec_loss.shape)\n",
        "\n",
        "vaec.add_loss(vaec_loss)"
      ],
      "execution_count": 0,
      "outputs": [
        {
          "output_type": "stream",
          "text": [
            "()\n"
          ],
          "name": "stdout"
        }
      ]
    },
    {
      "metadata": {
        "id": "cYCv8emyrXcw",
        "colab_type": "code",
        "outputId": "892cd29d-28e5-4290-8de9-6f04818fb51e",
        "colab": {
          "base_uri": "https://localhost:8080/",
          "height": 35
        }
      },
      "cell_type": "code",
      "source": [
        "print(vae_loss.shape)"
      ],
      "execution_count": 0,
      "outputs": [
        {
          "output_type": "stream",
          "text": [
            "()\n"
          ],
          "name": "stdout"
        }
      ]
    },
    {
      "metadata": {
        "id": "XNu-wOKerVzr",
        "colab_type": "code",
        "outputId": "b274ea6d-59fc-4c91-aebe-3e8ef770bd98",
        "colab": {
          "base_uri": "https://localhost:8080/",
          "height": 254
        }
      },
      "cell_type": "code",
      "source": [
        "\n",
        "\n",
        "vae.compile(optimizer='rmsprop')\n",
        "\n",
        "vae.summary()\n",
        "    \n",
        "plot_model(vae, to_file='vae_cnn.png', show_shapes=True)        \n",
        "#vae.save_weights('vae_cnn_mnist.h5')"
      ],
      "execution_count": 0,
      "outputs": [
        {
          "output_type": "stream",
          "text": [
            "_________________________________________________________________\n",
            "Layer (type)                 Output Shape              Param #   \n",
            "=================================================================\n",
            "encoder_input (InputLayer)   (None, 28, 28, 1)         0         \n",
            "_________________________________________________________________\n",
            "encoder (Model)              [(None, 6), (None, 6), (N 3276684   \n",
            "_________________________________________________________________\n",
            "decoder (Model)              (None, 28, 28, 1)         176449    \n",
            "=================================================================\n",
            "Total params: 3,453,133\n",
            "Trainable params: 3,453,133\n",
            "Non-trainable params: 0\n",
            "_________________________________________________________________\n"
          ],
          "name": "stdout"
        }
      ]
    },
    {
      "metadata": {
        "id": "1Ldeg8qYvIXo",
        "colab_type": "code",
        "outputId": "ed45432f-bb4d-43cf-f7dd-32e9db2eabe1",
        "colab": {
          "base_uri": "https://localhost:8080/",
          "height": 290
        }
      },
      "cell_type": "code",
      "source": [
        "import keras.optimizers\n",
        "myoptimizer = keras.optimizers.RMSprop(lr=0.01)\n",
        "\n",
        "\n",
        "#vaec.compile(optimizer='rmsprop')\n",
        "vaec.compile(optimizer=myoptimizer)\n",
        "\n",
        "vaec.summary()\n",
        "plot_model(vaec, to_file='vaec.png', show_shapes=True)\n"
      ],
      "execution_count": 0,
      "outputs": [
        {
          "output_type": "stream",
          "text": [
            "_________________________________________________________________\n",
            "Layer (type)                 Output Shape              Param #   \n",
            "=================================================================\n",
            "encoder_input (InputLayer)   (None, 28, 28, 1)         0         \n",
            "_________________________________________________________________\n",
            "encoder (Model)              [(None, 6), (None, 6), (N 3276684   \n",
            "_________________________________________________________________\n",
            "decoder (Model)              (None, 28, 28, 1)         176449    \n",
            "_________________________________________________________________\n",
            "model_2 (Model)              (None, 10)                607394    \n",
            "=================================================================\n",
            "Total params: 4,060,527\n",
            "Trainable params: 3,453,133\n",
            "Non-trainable params: 607,394\n",
            "_________________________________________________________________\n"
          ],
          "name": "stdout"
        }
      ]
    },
    {
      "metadata": {
        "id": "_xY32wxBWsAv",
        "colab_type": "code",
        "colab": {}
      },
      "cell_type": "code",
      "source": [
        "files.download('vae_cnn_decoder.png')\n",
        "files.download('vae_cnn_encoder.png')\n",
        "files.download('vae_cnn.png')\n",
        "files.download('decoderVisuvalizer.png')\n",
        "files.download('vaec.png')\n",
        "\n",
        "\n"
      ],
      "execution_count": 0,
      "outputs": []
    },
    {
      "metadata": {
        "id": "4ukkHVwXkp3F",
        "colab_type": "code",
        "colab": {}
      },
      "cell_type": "code",
      "source": [
        ""
      ],
      "execution_count": 0,
      "outputs": []
    },
    {
      "metadata": {
        "id": "5daajGTpWvp5",
        "colab_type": "code",
        "outputId": "3e29c085-1bf1-4f71-e2be-65f27ba610ef",
        "colab": {
          "base_uri": "https://localhost:8080/",
          "height": 90
        }
      },
      "cell_type": "code",
      "source": [
        "        # train the autoencoder\n",
        "vae.fit(x_train,\n",
        "                epochs=1,\n",
        "                batch_size=batch_size,\n",
        "                validation_data=(x_test, None))"
      ],
      "execution_count": 0,
      "outputs": [
        {
          "output_type": "stream",
          "text": [
            "Train on 60000 samples, validate on 10000 samples\n",
            "Epoch 1/1\n",
            "60000/60000 [==============================] - 19s 323us/step - loss: 39.1630 - val_loss: 29.7013\n"
          ],
          "name": "stdout"
        },
        {
          "output_type": "execute_result",
          "data": {
            "text/plain": [
              "<keras.callbacks.History at 0x7fd3974326a0>"
            ]
          },
          "metadata": {
            "tags": []
          },
          "execution_count": 128
        }
      ]
    },
    {
      "metadata": {
        "id": "VsAclVFVvW8I",
        "colab_type": "code",
        "outputId": "1cf8bd79-e5cc-406c-ee41-f99c98eeaef0",
        "colab": {
          "base_uri": "https://localhost:8080/",
          "height": 72
        }
      },
      "cell_type": "code",
      "source": [
        "vaec.fit(x=x_train,\n",
        "                epochs=1,\n",
        "                batch_size=batch_size\n",
        "                )"
      ],
      "execution_count": 0,
      "outputs": [
        {
          "output_type": "stream",
          "text": [
            "Epoch 1/1\n",
            "60000/60000 [==============================] - 19s 319us/step - loss: 61.5615\n"
          ],
          "name": "stdout"
        },
        {
          "output_type": "execute_result",
          "data": {
            "text/plain": [
              "<keras.callbacks.History at 0x7fd396d8b5c0>"
            ]
          },
          "metadata": {
            "tags": []
          },
          "execution_count": 129
        }
      ]
    },
    {
      "metadata": {
        "id": "pb43dEe3wFrf",
        "colab_type": "code",
        "colab": {}
      },
      "cell_type": "code",
      "source": [
        ""
      ],
      "execution_count": 0,
      "outputs": []
    },
    {
      "metadata": {
        "id": "BmTPRN2twPOf",
        "colab_type": "code",
        "colab": {}
      },
      "cell_type": "code",
      "source": [
        ""
      ],
      "execution_count": 0,
      "outputs": []
    },
    {
      "metadata": {
        "id": "oISzz4JxWxFO",
        "colab_type": "code",
        "colab": {}
      },
      "cell_type": "code",
      "source": [
        "digit_size = 28"
      ],
      "execution_count": 0,
      "outputs": []
    },
    {
      "metadata": {
        "id": "jcz8gdIaW8No",
        "colab_type": "code",
        "cellView": "both",
        "outputId": "98054bc0-889c-46bd-9ece-8d0b15ef3108",
        "colab": {
          "base_uri": "https://localhost:8080/",
          "height": 204
        }
      },
      "cell_type": "code",
      "source": [
        "#@title 1. Given this design, create variations of this design. { run: \"auto\" }\n",
        "\n",
        "\n",
        "\n",
        "input_design_number = \"21\" #@param [\"1\", \"2\", \"3\"] {allow-input: true}\n",
        "\n",
        "level_of_variation = 9 #@param {type:\"slider\", min:0, max:30, step:1}\n",
        "\n",
        "\n",
        "\n",
        "imagenumber = int(input_design_number)\n",
        "\n",
        "whatisthis = encoder.predict(x_train[0+imagenumber:1+imagenumber])\n",
        "\n",
        "thislatentvector = whatisthis[2]\n",
        "\n",
        "imagenumber = imagenumber\n",
        "aimageset = x_train[0+imagenumber:1+imagenumber]\n",
        "aimage = aimageset[0]\n",
        "\n",
        "#print(aimage.shape)\n",
        "\n",
        "plt.figure(figsize=(4, 1))\n",
        "plt.imshow(aimage.reshape(digit_size, digit_size))\n",
        "plt.show()\n",
        "\n",
        "#print( whatisthis[2])\n",
        "\n",
        "  \n",
        "#z_sample = np.array( [[i1, i2, i3, i4, i5, i6, i7, i8, i9, i10, i11, i12]] )\n",
        "\n",
        "z_sample = thislatentvector\n",
        "\n",
        "\n",
        "newZ_sample = copy.deepcopy (thislatentvector)\n",
        "\n",
        "generatedlatenvector = thislatentvector[0]\n",
        "newgeneratedlatenvector = copy.deepcopy(generatedlatenvector)\n",
        "\n",
        "print(len(generatedlatenvector))\n",
        "\n",
        "plt.figure(figsize=(16, 16))\n",
        "\n",
        "pltcount = 1 \n",
        "for k in range(-4, 4, 1):\n",
        "  for i in range(len(generatedlatenvector)):\n",
        "    newgeneratedlatenvector[i] = generatedlatenvector[i] + 0.01*k * level_of_variation\n",
        "  x_decoded = decoder.predict( [[newgeneratedlatenvector]] )\n",
        "  digit = x_decoded[0].reshape(digit_size, digit_size)\n",
        "  plt.subplot(16 , 16 , pltcount)\n",
        "  plt.imshow(digit)\n",
        "  plt.axis('off')\n",
        "\n",
        "  pltcount = pltcount + 1\n",
        "  if(pltcount>=16):\n",
        "    break\n",
        "plt.show()\n",
        "\n",
        "\n",
        "\n",
        "\n",
        "\n",
        "\n",
        "\n",
        "\n",
        "\n",
        "\n",
        "\n"
      ],
      "execution_count": 0,
      "outputs": [
        {
          "output_type": "display_data",
          "data": {
            "image/png": "[encoded data removed]",
            "text/plain": [
              "<Figure size 288x72 with 1 Axes>"
            ]
          },
          "metadata": {
            "tags": []
          }
        },
        {
          "output_type": "stream",
          "text": [
            "6\n"
          ],
          "name": "stdout"
        },
        {
          "output_type": "display_data",
          "data": {
            "image/png": "[encoded data removed]",
            "text/plain": [
              "<Figure size 1152x1152 with 8 Axes>"
            ]
          },
          "metadata": {
            "tags": []
          }
        }
      ]
    },
    {
      "metadata": {
        "id": "oMbr8VpDp4E0",
        "colab_type": "code",
        "cellView": "form",
        "outputId": "400c2257-4794-4370-d67a-8eafff2edb8f",
        "colab": {
          "base_uri": "https://localhost:8080/",
          "height": 2063
        }
      },
      "cell_type": "code",
      "source": [
        "#@title 1. Given this design, create variations of this design. { run: \"auto\" }\n",
        "\n",
        "\n",
        "input_class_number = 3 #@param {type:\"slider\", min:0, max:10, step:1}\n",
        "\n",
        "input_design_number = \"21\" #@param [\"1\", \"2\", \"3\"] {allow-input: true}\n",
        "\n",
        "level_of_variation = 15 #@param {type:\"slider\", min:0, max:30, step:1}\n",
        "\n",
        "\n",
        "imagenumber = int(input_design_number)\n",
        "\n",
        "counting = 0 \n",
        "\n",
        "while counting < 10:\n",
        "   \n",
        "  counting = counting + 1 \n",
        "   \n",
        "\n",
        "  while (y_train[imagenumber] != input_class_number) :\n",
        "     imagenumber = imagenumber + 1\n",
        "\n",
        "\n",
        "  print(imagenumber)\n",
        "  whatisthis = encoder.predict(x_train[0+imagenumber:1+imagenumber])\n",
        "\n",
        "  thislatentvector = whatisthis[2]\n",
        "\n",
        "  imagenumber = imagenumber\n",
        "  aimageset = x_train[0+imagenumber:1+imagenumber]\n",
        "  aimage = aimageset[0]\n",
        "\n",
        "  #print(aimage.shape)\n",
        "\n",
        "  plt.figure(figsize=(4, 1))\n",
        "  plt.imshow(aimage.reshape(digit_size, digit_size))\n",
        "  plt.show()\n",
        "\n",
        "  #print( whatisthis[2])\n",
        "\n",
        "\n",
        "  #z_sample = np.array( [[i1, i2, i3, i4, i5, i6, i7, i8, i9, i10, i11, i12]] )\n",
        "\n",
        "  z_sample = thislatentvector\n",
        "\n",
        "\n",
        "  newZ_sample = copy.deepcopy (thislatentvector)\n",
        "\n",
        "  generatedlatenvector = thislatentvector[0]\n",
        "  newgeneratedlatenvector = copy.deepcopy(generatedlatenvector)\n",
        "\n",
        "  print(len(generatedlatenvector))\n",
        "\n",
        "  plt.figure(figsize=(16, 16))\n",
        "\n",
        "  pltcount = 1 \n",
        "  for k in range(-4, 4, 1):\n",
        "    for i in range(len(generatedlatenvector)):\n",
        "      newgeneratedlatenvector[i] = generatedlatenvector[i] + 0.01*k * level_of_variation\n",
        "    x_decoded = decoder.predict( [[newgeneratedlatenvector]] )\n",
        "    digit = x_decoded[0].reshape(digit_size, digit_size)\n",
        "    plt.subplot(16 , 16 , pltcount)\n",
        "    plt.imshow(digit)\n",
        "    plt.axis('off')\n",
        "\n",
        "    pltcount = pltcount + 1\n",
        "    if(pltcount>=16):\n",
        "      break\n",
        "  plt.show()\n",
        "  \n",
        "  imagenumber = imagenumber + 1\n",
        "\n",
        "\n",
        "\n",
        "\n",
        "\n",
        "\n",
        "\n",
        "\n",
        "\n",
        "\n",
        "\n",
        "\n"
      ],
      "execution_count": 0,
      "outputs": [
        {
          "output_type": "stream",
          "text": [
            "25\n"
          ],
          "name": "stdout"
        },
        {
          "output_type": "display_data",
          "data": {
            "image/png": "[encoded data removed]",
            "text/plain": [
              "<Figure size 288x72 with 1 Axes>"
            ]
          },
          "metadata": {
            "tags": []
          }
        },
        {
          "output_type": "stream",
          "text": [
            "6\n"
          ],
          "name": "stdout"
        },
        {
          "output_type": "display_data",
          "data": {
            "image/png": "[encoded data removed]",
            "text/plain": [
              "<Figure size 1152x1152 with 8 Axes>"
            ]
          },
          "metadata": {
            "tags": []
          }
        },
        {
          "output_type": "stream",
          "text": [
            "31\n"
          ],
          "name": "stdout"
        },
        {
          "output_type": "display_data",
          "data": {
            "image/png": "[encoded data removed]",
            "text/plain": [
              "<Figure size 288x72 with 1 Axes>"
            ]
          },
          "metadata": {
            "tags": []
          }
        },
        {
          "output_type": "stream",
          "text": [
            "6\n"
          ],
          "name": "stdout"
        },
        {
          "output_type": "display_data",
          "data": {
            "image/png": "[encoded data removed]",
            "text/plain": [
              "<Figure size 1152x1152 with 8 Axes>"
            ]
          },
          "metadata": {
            "tags": []
          }
        },
        {
          "output_type": "stream",
          "text": [
            "47\n"
          ],
          "name": "stdout"
        },
        {
          "output_type": "display_data",
          "data": {
            "image/png": "[encoded data removed]",
            "text/plain": [
              "<Figure size 288x72 with 1 Axes>"
            ]
          },
          "metadata": {
            "tags": []
          }
        },
        {
          "output_type": "stream",
          "text": [
            "6\n"
          ],
          "name": "stdout"
        },
        {
          "output_type": "display_data",
          "data": {
            "image/png": "[encoded data removed]",
            "text/plain": [
              "<Figure size 1152x1152 with 8 Axes>"
            ]
          },
          "metadata": {
            "tags": []
          }
        },
        {
          "output_type": "stream",
          "text": [
            "49\n"
          ],
          "name": "stdout"
        },
        {
          "output_type": "display_data",
          "data": {
            "image/png": "[encoded data removed]",
            "text/plain": [
              "<Figure size 288x72 with 1 Axes>"
            ]
          },
          "metadata": {
            "tags": []
          }
        },
        {
          "output_type": "stream",
          "text": [
            "6\n"
          ],
          "name": "stdout"
        },
        {
          "output_type": "display_data",
          "data": {
            "image/png": "[encoded data removed]",
            "text/plain": [
              "<Figure size 1152x1152 with 8 Axes>"
            ]
          },
          "metadata": {
            "tags": []
          }
        },
        {
          "output_type": "stream",
          "text": [
            "50\n"
          ],
          "name": "stdout"
        },
        {
          "output_type": "display_data",
          "data": {
            "image/png": "[encoded data removed]",
            "text/plain": [
              "<Figure size 288x72 with 1 Axes>"
            ]
          },
          "metadata": {
            "tags": []
          }
        },
        {
          "output_type": "stream",
          "text": [
            "6\n"
          ],
          "name": "stdout"
        },
        {
          "output_type": "display_data",
          "data": {
            "image/png": "[encoded data removed]",
            "text/plain": [
              "<Figure size 1152x1152 with 8 Axes>"
            ]
          },
          "metadata": {
            "tags": []
          }
        },
        {
          "output_type": "stream",
          "text": [
            "51\n"
          ],
          "name": "stdout"
        },
        {
          "output_type": "display_data",
          "data": {
            "image/png": "[encoded data removed]",
            "text/plain": [
              "<Figure size 288x72 with 1 Axes>"
            ]
          },
          "metadata": {
            "tags": []
          }
        },
        {
          "output_type": "stream",
          "text": [
            "6\n"
          ],
          "name": "stdout"
        },
        {
          "output_type": "display_data",
          "data": {
            "image/png": "[encoded data removed]",
            "text/plain": [
              "<Figure size 1152x1152 with 8 Axes>"
            ]
          },
          "metadata": {
            "tags": []
          }
        },
        {
          "output_type": "stream",
          "text": [
            "58\n"
          ],
          "name": "stdout"
        },
        {
          "output_type": "display_data",
          "data": {
            "image/png": "[encoded data removed]",
            "text/plain": [
              "<Figure size 288x72 with 1 Axes>"
            ]
          },
          "metadata": {
            "tags": []
          }
        },
        {
          "output_type": "stream",
          "text": [
            "6\n"
          ],
          "name": "stdout"
        },
        {
          "output_type": "display_data",
          "data": {
            "image/png": "[encoded data removed]",
            "text/plain": [
              "<Figure size 1152x1152 with 8 Axes>"
            ]
          },
          "metadata": {
            "tags": []
          }
        },
        {
          "output_type": "stream",
          "text": [
            "59\n"
          ],
          "name": "stdout"
        },
        {
          "output_type": "display_data",
          "data": {
            "image/png": "[encoded data removed]",
            "text/plain": [
              "<Figure size 288x72 with 1 Axes>"
            ]
          },
          "metadata": {
            "tags": []
          }
        },
        {
          "output_type": "stream",
          "text": [
            "6\n"
          ],
          "name": "stdout"
        },
        {
          "output_type": "display_data",
          "data": {
            "image/png": "[encoded data removed]",
            "text/plain": [
              "<Figure size 1152x1152 with 8 Axes>"
            ]
          },
          "metadata": {
            "tags": []
          }
        },
        {
          "output_type": "stream",
          "text": [
            "70\n"
          ],
          "name": "stdout"
        },
        {
          "output_type": "display_data",
          "data": {
            "image/png": "[encoded data removed]",
            "text/plain": [
              "<Figure size 288x72 with 1 Axes>"
            ]
          },
          "metadata": {
            "tags": []
          }
        },
        {
          "output_type": "stream",
          "text": [
            "6\n"
          ],
          "name": "stdout"
        },
        {
          "output_type": "display_data",
          "data": {
            "image/png": "[encoded data removed]",
            "text/plain": [
              "<Figure size 1152x1152 with 8 Axes>"
            ]
          },
          "metadata": {
            "tags": []
          }
        },
        {
          "output_type": "stream",
          "text": [
            "73\n"
          ],
          "name": "stdout"
        },
        {
          "output_type": "display_data",
          "data": {
            "image/png": "[encoded data removed]",
            "text/plain": [
              "<Figure size 288x72 with 1 Axes>"
            ]
          },
          "metadata": {
            "tags": []
          }
        },
        {
          "output_type": "stream",
          "text": [
            "6\n"
          ],
          "name": "stdout"
        },
        {
          "output_type": "display_data",
          "data": {
            "image/png": "[encoded data removed]",
            "text/plain": [
              "<Figure size 1152x1152 with 8 Axes>"
            ]
          },
          "metadata": {
            "tags": []
          }
        }
      ]
    },
    {
      "metadata": {
        "id": "oGT3AfThW0Yx",
        "colab_type": "code",
        "cellView": "both",
        "outputId": "01314109-833d-4a3c-f138-f7e508b29491",
        "colab": {
          "base_uri": "https://localhost:8080/",
          "height": 323
        }
      },
      "cell_type": "code",
      "source": [
        "#@title 1. Select the image and find its latent vector. { run: \"auto\" }\n",
        "\n",
        "digit_size = 28\n",
        "\n",
        "sampleimage = \"14\" #@param [\"1\", \"2\", \"3\"] {allow-input: true}\n",
        "\n",
        "imagenumber = int(sampleimage)\n",
        "\n",
        "whatisthis = encoder.predict(x_train[0+imagenumber:1+imagenumber])\n",
        "\n",
        "thislatentvector = whatisthis[2]\n",
        "\n",
        "imagenumber = imagenumber\n",
        "aimageset = x_train[0+imagenumber:1+imagenumber]\n",
        "aimage = aimageset[0]\n",
        "\n",
        "#print(aimage.shape)\n",
        "\n",
        "plt.figure(figsize=(8, 2))\n",
        "#plt.imshow(aimage)\n",
        "#plt.show()\n",
        "\n",
        "#print( whatisthis[2])\n",
        "\n",
        "  \n",
        "\n",
        "z_sample = thislatentvector\n",
        "\n",
        "print('LATENT vector SHAPE ' + str(z_sample.shape) )\n",
        "\n",
        "print('LATENT vector is ' + str(z_sample) )\n",
        "\n",
        "x_decoded = decoder.predict( [z_sample] )\n",
        "#digit = x_decoded[0].reshape(digit_size, digit_size, 1)\n",
        "digit = x_decoded[0].reshape(digit_size, digit_size)\n",
        "\n",
        "\n",
        "print(digit.shape)\n",
        "\n",
        "#for i in range(12):\n",
        "#  print(int(round( thislatentvector[0][i]) ))\n",
        "\n",
        "plt.axis('off')\n",
        "#plt.imshow(digit, cmap='gray')\n",
        "plt.imshow(digit)\n",
        "#plt.imshow(digit, cmap='Greys_r',)\n",
        "plt.show()\n",
        "\n",
        "\n",
        "#image_index = 4442\n",
        "#plt.imshow(x_test[image_index].reshape(28, 28),cmap='Greys')\n",
        "img_rows = 28\n",
        "img_cols = 28\n",
        "\n",
        "pred = model00.predict(digit.reshape(1, img_rows, img_cols, 1))\n",
        "\n",
        "print(pred)\n",
        "predtemp = K.sum(pred, axis=-1)\n",
        "print('predtemp')\n",
        "print(predtemp)\n",
        "print(predtemp[0])\n",
        "\n",
        "\n",
        "print(pred.argmax())"
      ],
      "execution_count": 0,
      "outputs": [
        {
          "output_type": "stream",
          "text": [
            "LATENT vector SHAPE (1, 6)\n",
            "LATENT vector is [[-0.97411454  1.0520891  -0.12343849  0.46889958 -1.1568816  -1.2672082 ]]\n",
            "(28, 28)\n"
          ],
          "name": "stdout"
        },
        {
          "output_type": "display_data",
          "data": {
            "image/png": "[encoded data removed]",
            "text/plain": [
              "<Figure size 576x144 with 1 Axes>"
            ]
          },
          "metadata": {
            "tags": []
          }
        },
        {
          "output_type": "stream",
          "text": [
            "[[3.1722766e-07 3.4463675e-11 1.4277708e-07 1.3865761e-09 4.7294509e-07\n",
            "  2.0973665e-09 9.9999881e-01 3.6586182e-11 1.9398895e-07 1.6077641e-08]]\n",
            "predtemp\n",
            "Tensor(\"Sum_10:0\", shape=(1,), dtype=float32)\n",
            "Tensor(\"strided_slice_8:0\", shape=(), dtype=float32)\n",
            "6\n"
          ],
          "name": "stdout"
        }
      ]
    },
    {
      "metadata": {
        "id": "X9fLxAjBWltB",
        "colab_type": "code",
        "colab": {}
      },
      "cell_type": "code",
      "source": [
        ""
      ],
      "execution_count": 0,
      "outputs": []
    },
    {
      "metadata": {
        "id": "qla6DoZ1Wi10",
        "colab_type": "code",
        "outputId": "8496a0b3-0c38-42e1-c962-7edbb5ecb996",
        "colab": {
          "base_uri": "https://localhost:8080/",
          "height": 108
        }
      },
      "cell_type": "code",
      "source": [
        "digit_size = 28\n",
        "\n",
        "sampleimage = \"70\" #@param [\"1\", \"2\", \"3\"] {allow-input: true}\n",
        "\n",
        "imagenumber = int(sampleimage)\n",
        "\n",
        "latentvector1 = encoder.predict(x_train[0+imagenumber:1+imagenumber])\n",
        "\n",
        "\n",
        "print( np.round(latentvector1,1))"
      ],
      "execution_count": 0,
      "outputs": [
        {
          "output_type": "stream",
          "text": [
            "[[[-0.1 -0.2  0.   0.1 -0.2  0.4]]\n",
            "\n",
            " [[-0.2 -2.  -1.5 -0.4 -2.9 -2.6]]\n",
            "\n",
            " [[-1.9 -0.2 -0.2  1.   0.2  0.6]]]\n"
          ],
          "name": "stdout"
        }
      ]
    },
    {
      "metadata": {
        "id": "7GMGPtWZWUxO",
        "colab_type": "code",
        "outputId": "fdc20583-91b4-4f3e-9fe3-f8ca838b4e0e",
        "colab": {
          "base_uri": "https://localhost:8080/",
          "height": 72
        }
      },
      "cell_type": "code",
      "source": [
        "digit_size = 28\n",
        "\n",
        "sampleimage = \"1\" #@param [\"1\", \"2\", \"3\"] {allow-input: true}\n",
        "\n",
        "imagenumber = int(sampleimage)\n",
        "\n",
        "latentvector1 = encoder.predict(x_train[0+imagenumber:1+imagenumber])\n",
        "\n",
        "latentvector1actual = latentvector1[2]\n",
        "\n",
        "latentvector1actual = latentvector1actual.reshape(6)\n",
        "\n",
        "print(latentvector1actual.shape[0])\n",
        "\n",
        "print( np.round(latentvector1actual, 2))\n",
        "\n",
        "print( np.round(latentvector1actual[2], 2))\n",
        "\n",
        "vector1 = latentvector1actual\n",
        "\n",
        "\n"
      ],
      "execution_count": 0,
      "outputs": [
        {
          "output_type": "stream",
          "text": [
            "6\n",
            "[-0.53 -0.49 -0.12 -0.1  -0.47  0.78]\n",
            "-0.12\n"
          ],
          "name": "stdout"
        }
      ]
    },
    {
      "metadata": {
        "id": "O3O7rAJTFCNJ",
        "colab_type": "code",
        "outputId": "5b86c1bd-46dc-44ea-f9bf-150c6ca32722",
        "cellView": "both",
        "colab": {
          "base_uri": "https://localhost:8080/",
          "height": 72
        }
      },
      "cell_type": "code",
      "source": [
        "digit_size = 28\n",
        "\n",
        "sampleimage = \"2100\" #@param [\"1\", \"2\", \"3\"] {allow-input: true}\n",
        "\n",
        "imagenumber = int(sampleimage)\n",
        "\n",
        "latentvector1 = encoder.predict(x_train[0+imagenumber:1+imagenumber])\n",
        "\n",
        "latentvector1actual = latentvector1[2]\n",
        "\n",
        "latentvector1actual = latentvector1actual.reshape(6)\n",
        "\n",
        "print(latentvector1actual.shape[0])\n",
        "\n",
        "print( np.round(latentvector1actual, 2))\n",
        "\n",
        "print( np.round(latentvector1actual[2], 2))\n",
        "\n",
        "vector2 = latentvector1actual\n"
      ],
      "execution_count": 0,
      "outputs": [
        {
          "output_type": "stream",
          "text": [
            "6\n",
            "[-1.81 -0.75  0.21 -0.73 -1.55  0.37]\n",
            "0.21\n"
          ],
          "name": "stdout"
        }
      ]
    },
    {
      "metadata": {
        "id": "SRND3jK3WU0P",
        "colab_type": "code",
        "outputId": "189845a8-9ce7-439d-f4d9-7531837490b5",
        "colab": {
          "base_uri": "https://localhost:8080/",
          "height": 54
        }
      },
      "cell_type": "code",
      "source": [
        "vector1 = vector1 * 10000\n",
        "vector2 = vector2 * 10000\n",
        "\n",
        "\n",
        "vector1 =  np.round(vector1)\n",
        "vector2 = np.round(vector2)\n",
        "\n",
        "newvector = copy.copy(vector2)\n",
        "\n",
        "print(vector1)\n",
        "print(vector2)"
      ],
      "execution_count": 0,
      "outputs": [
        {
          "output_type": "stream",
          "text": [
            "[-5275. -4920. -1172. -1033. -4719.  7753.]\n",
            "[-18088.  -7487.   2107.  -7272. -15523.   3704.]\n"
          ],
          "name": "stdout"
        }
      ]
    },
    {
      "metadata": {
        "id": "VtCSf3nyWU3N",
        "colab_type": "code",
        "outputId": "4b91ae6f-a4f1-4f88-96a9-9dacd97cec29",
        "colab": {
          "base_uri": "https://localhost:8080/",
          "height": 817
        }
      },
      "cell_type": "code",
      "source": [
        "countingdofast = 0\n",
        "plt.figure(figsize=(16, 16))\n",
        "pltcount = 1\n",
        "digit_size = 28\n",
        "divideby = 2\n",
        "\n",
        "\n",
        "for x1 in range( (int)(vector1[0]), (int)(vector2[0]),  (int)(np.round((vector2[0] - vector1[0])/divideby)) ):\n",
        "  for x2 in range( (int)(vector1[1]), (int)(vector2[1]),  (int)(np.round((vector2[1] - vector1[1])/divideby)) ):\n",
        "    for x3 in range( (int)(vector1[2]), (int)(vector2[2]),  (int)(np.round((vector2[2] - vector1[2])/divideby)) ):\n",
        "      for x4 in range( (int)(vector1[3]), (int)(vector2[3]),  (int)(np.round((vector2[3] - vector1[3])/divideby)) ):\n",
        "        for x5 in range( (int)(vector1[4]), (int)(vector2[4]),  (int)(np.round((vector2[4] - vector1[4])/divideby)) ):\n",
        "          for x6 in range( (int)(vector1[5]), (int)(vector2[5]),  (int)(np.round((vector2[5] - vector1[5])/divideby)) ):\n",
        "            newvector[0] =  x1\n",
        "            newvector[1] =  x2\n",
        "            newvector[2] =  x3\n",
        "            newvector[3] =  x4\n",
        "            newvector[4] =  x5\n",
        "            newvector[5] =  x6        \n",
        "            #print (newvector)\n",
        "            newvector = newvector / 10000\n",
        "            x_decoded = decoder.predict( [[newvector]] )\n",
        "            countingdofast = countingdofast + 1\n",
        "            digit = x_decoded[0].reshape(digit_size, digit_size)\n",
        "            plt.subplot(16 , 16 , pltcount)\n",
        "            plt.imshow(digit)\n",
        "            plt.axis('off')            \n",
        "            pltcount = pltcount + 1\n",
        "            if(pltcount>=16):\n",
        "              plt.show()\n",
        "              plt.figure(figsize=(16, 16))\n",
        "              pltcount = 1\n",
        "              \n",
        "\n",
        "  \n",
        "\n"
      ],
      "execution_count": 0,
      "outputs": [
        {
          "output_type": "display_data",
          "data": {
            "image/png": "[encoded data removed]",
            "text/plain": [
              "<Figure size 1152x1152 with 15 Axes>"
            ]
          },
          "metadata": {
            "tags": []
          }
        },
        {
          "output_type": "display_data",
          "data": {
            "image/png": "[encoded data removed]",
            "text/plain": [
              "<Figure size 1152x1152 with 15 Axes>"
            ]
          },
          "metadata": {
            "tags": []
          }
        },
        {
          "output_type": "display_data",
          "data": {
            "image/png": "[encoded data removed]",
            "text/plain": [
              "<Figure size 1152x1152 with 15 Axes>"
            ]
          },
          "metadata": {
            "tags": []
          }
        },
        {
          "output_type": "display_data",
          "data": {
            "image/png": "[encoded data removed]",
            "text/plain": [
              "<Figure size 1152x1152 with 15 Axes>"
            ]
          },
          "metadata": {
            "tags": []
          }
        },
        {
          "output_type": "display_data",
          "data": {
            "image/png": "[encoded data removed]",
            "text/plain": [
              "<Figure size 1152x1152 with 15 Axes>"
            ]
          },
          "metadata": {
            "tags": []
          }
        },
        {
          "output_type": "display_data",
          "data": {
            "image/png": "[encoded data removed]",
            "text/plain": [
              "<Figure size 1152x1152 with 15 Axes>"
            ]
          },
          "metadata": {
            "tags": []
          }
        },
        {
          "output_type": "display_data",
          "data": {
            "image/png": "[encoded data removed]",
            "text/plain": [
              "<Figure size 1152x1152 with 15 Axes>"
            ]
          },
          "metadata": {
            "tags": []
          }
        },
        {
          "output_type": "display_data",
          "data": {
            "image/png": "[encoded data removed]",
            "text/plain": [
              "<Figure size 1152x1152 with 15 Axes>"
            ]
          },
          "metadata": {
            "tags": []
          }
        },
        {
          "output_type": "display_data",
          "data": {
            "image/png": "[encoded data removed]",
            "text/plain": [
              "<Figure size 1152x1152 with 15 Axes>"
            ]
          },
          "metadata": {
            "tags": []
          }
        },
        {
          "output_type": "display_data",
          "data": {
            "image/png": "[encoded data removed]",
            "text/plain": [
              "<Figure size 1152x1152 with 9 Axes>"
            ]
          },
          "metadata": {
            "tags": []
          }
        }
      ]
    },
    {
      "metadata": {
        "id": "UCkKzrr4WU52",
        "colab_type": "code",
        "colab": {}
      },
      "cell_type": "code",
      "source": [
        ""
      ],
      "execution_count": 0,
      "outputs": []
    },
    {
      "metadata": {
        "id": "DgZHEo3EWU8w",
        "colab_type": "code",
        "colab": {}
      },
      "cell_type": "code",
      "source": [
        ""
      ],
      "execution_count": 0,
      "outputs": []
    },
    {
      "metadata": {
        "id": "HyjxzcoYWU_y",
        "colab_type": "code",
        "colab": {}
      },
      "cell_type": "code",
      "source": [
        ""
      ],
      "execution_count": 0,
      "outputs": []
    },
    {
      "metadata": {
        "id": "Pv5UnJoSWVCr",
        "colab_type": "code",
        "colab": {}
      },
      "cell_type": "code",
      "source": [
        ""
      ],
      "execution_count": 0,
      "outputs": []
    },
    {
      "metadata": {
        "id": "GSO2c9K6WVF2",
        "colab_type": "code",
        "colab": {}
      },
      "cell_type": "code",
      "source": [
        ""
      ],
      "execution_count": 0,
      "outputs": []
    },
    {
      "metadata": {
        "id": "F4jSrZrmWVJD",
        "colab_type": "code",
        "colab": {}
      },
      "cell_type": "code",
      "source": [
        ""
      ],
      "execution_count": 0,
      "outputs": []
    },
    {
      "metadata": {
        "id": "GGtAxSloWVMS",
        "colab_type": "code",
        "colab": {}
      },
      "cell_type": "code",
      "source": [
        ""
      ],
      "execution_count": 0,
      "outputs": []
    }
  ]
}