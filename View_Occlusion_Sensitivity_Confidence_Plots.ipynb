{
  "nbformat": 4,
  "nbformat_minor": 0,
  "metadata": {
    "colab": {
      "name": "View Occlusion Sensitivity Confidence Plots.ipynb",
      "version": "0.3.2",
      "provenance": [],
      "collapsed_sections": [],
      "include_colab_link": true
    },
    "kernelspec": {
      "name": "python3",
      "display_name": "Python 3"
    },
    "accelerator": "GPU"
  },
  "cells": [
    {
      "cell_type": "markdown",
      "metadata": {
        "id": "view-in-github",
        "colab_type": "text"
      },
      "source": [
        "[View in Colaboratory](https://colab.research.google.com/github/rajagopalmotivate/DeepLearnIITMA1/blob/master/View_Occlusion_Sensitivity_Confidence_Plots.ipynb)"
      ]
    },
    {
      "metadata": {
        "id": "G4JcjSMkCr72",
        "colab_type": "code",
        "colab": {}
      },
      "cell_type": "code",
      "source": [
        ""
      ],
      "execution_count": 0,
      "outputs": []
    },
    {
      "metadata": {
        "id": "vKwRu2mxCtDP",
        "colab_type": "code",
        "colab": {
          "base_uri": "https://localhost:8080/",
          "height": 84
        },
        "outputId": "4fdf3da2-4fa1-433d-870f-692aba59431f"
      },
      "cell_type": "code",
      "source": [
        "!wget \"https://github.com/rajagopalmotivate/DeepLearnIITMA1/raw/master/mycifar_1B_model2101s.h5\"\n",
        "!wget \"https://github.com/rajagopalmotivate/DeepLearnIITMA1/raw/master/cifar_1B_model3201s.h5\"\n",
        "\n"
      ],
      "execution_count": 35,
      "outputs": [
        {
          "output_type": "stream",
          "text": [
            "\n",
            "Redirecting output to ‘wget-log.20’.\n",
            "\n",
            "Redirecting output to ‘wget-log.21’.\n"
          ],
          "name": "stdout"
        }
      ]
    },
    {
      "metadata": {
        "id": "rB1GaCgMC9sB",
        "colab_type": "code",
        "colab": {}
      },
      "cell_type": "code",
      "source": [
        "from keras import backend as K\n",
        "import tensorflow as tf\n",
        "from keras import Input\n",
        "from keras import layers\n",
        "from keras import datasets\n",
        "import numpy as np\n",
        "from keras import utils\n",
        "from keras.models import  Model\n",
        "from keras.utils import plot_model\n",
        "import keras\n",
        "import os\n",
        "from keras.callbacks import TensorBoard, ModelCheckpoint, EarlyStopping\n",
        "from keras.models import model_from_json\n",
        "import keras\n",
        "from sklearn.metrics import classification_report\n",
        "from decimal import Decimal\n",
        "import  matplotlib.pyplot as plt\n",
        "from scipy.misc import toimage\n",
        "from keras.preprocessing.image import ImageDataGenerator\n",
        "import copy\n",
        "import numpy as np\n",
        "\n",
        "import matplotlib.pyplot as plt\n",
        "from keras.models import load_model\n",
        "\n"
      ],
      "execution_count": 0,
      "outputs": []
    },
    {
      "metadata": {
        "id": "grBYyWVU11qs",
        "colab_type": "code",
        "colab": {}
      },
      "cell_type": "code",
      "source": [
        "model1 = load_model('mycifar_1B_model2101s.h5')\n",
        "model2 = load_model('cifar_1B_model3201s.h5')\n"
      ],
      "execution_count": 0,
      "outputs": []
    },
    {
      "metadata": {
        "id": "qoM3L_9crtdJ",
        "colab_type": "code",
        "colab": {}
      },
      "cell_type": "code",
      "source": [
        ""
      ],
      "execution_count": 0,
      "outputs": []
    },
    {
      "metadata": {
        "id": "JK81sgXDDQp0",
        "colab_type": "code",
        "colab": {}
      },
      "cell_type": "code",
      "source": [
        ""
      ],
      "execution_count": 0,
      "outputs": []
    },
    {
      "metadata": {
        "id": "m_8OsXtIwD83",
        "colab_type": "code",
        "colab": {}
      },
      "cell_type": "code",
      "source": [
        ""
      ],
      "execution_count": 0,
      "outputs": []
    },
    {
      "metadata": {
        "id": "eShC-VIqwKzQ",
        "colab_type": "code",
        "colab": {}
      },
      "cell_type": "code",
      "source": [
        ""
      ],
      "execution_count": 0,
      "outputs": []
    },
    {
      "metadata": {
        "id": "dZaMwDqpwMAS",
        "colab_type": "code",
        "colab": {}
      },
      "cell_type": "code",
      "source": [
        ""
      ],
      "execution_count": 0,
      "outputs": []
    },
    {
      "metadata": {
        "id": "J6j1FfXSohX4",
        "colab_type": "code",
        "colab": {}
      },
      "cell_type": "code",
      "source": [
        ""
      ],
      "execution_count": 0,
      "outputs": []
    },
    {
      "metadata": {
        "id": "BcfXMDXjzbKw",
        "colab_type": "code",
        "colab": {}
      },
      "cell_type": "code",
      "source": [
        ""
      ],
      "execution_count": 0,
      "outputs": []
    },
    {
      "metadata": {
        "id": "Qe_zJFe0ou4g",
        "colab_type": "code",
        "colab": {}
      },
      "cell_type": "code",
      "source": [
        ""
      ],
      "execution_count": 0,
      "outputs": []
    },
    {
      "metadata": {
        "id": "AvUIbOhXo2Ja",
        "colab_type": "code",
        "colab": {}
      },
      "cell_type": "code",
      "source": [
        "\n"
      ],
      "execution_count": 0,
      "outputs": []
    },
    {
      "metadata": {
        "id": "V1qfFnCyEzTi",
        "colab_type": "code",
        "colab": {}
      },
      "cell_type": "code",
      "source": [
        "#Find insights about a network such as how deep is the network, memorizationcapacity, generalizationcapacity, noofCNNs, kernalsize, amountofnonlinearity\n",
        "def extractNetworkInsights(anetwork, verbose=0):\n",
        "    #print('Analzing the Network insights')\n",
        "    layercount = 0\n",
        "    layercountCNN = 0\n",
        "    for alayer in anetwork.layers:\n",
        "      layercount = layercount + 1\n",
        "      aconfig = alayer.get_config()\n",
        "      if (verbose==0):\n",
        "        print(str(aconfig) )\n",
        "      if (verbose==1):  \n",
        "        if 'CNN' in str(aconfig.get(\"name\")):\n",
        "          layercountCNN = layercountCNN + 1 \n",
        "          print( str(layercount) + '   ' + str(aconfig.get(\"name\") +  '   Filters=' + str(aconfig.get(\"filters\") )))\n",
        "        elif ('Pool' in str(aconfig.get(\"name\"))):\n",
        "          print( str(layercount) + '   ' + str(aconfig.get(\"name\") +  '   PoolSize=' + str(aconfig.get(\"pool_size\") )))\n",
        "        elif 'dropout' in aconfig.get(\"name\"):\n",
        "          print( str(layercount) + '   ' + str(aconfig.get(\"name\") +  '   Rate=' + str(aconfig.get(\"rate\") )))\n",
        "        elif 'Dense' in aconfig.get(\"name\"):\n",
        "          print( str(layercount) + '   ' + str(aconfig.get(\"name\") +  '   Units=' + str(aconfig.get(\"units\") )) )         \n",
        "        else:\n",
        "          print( str(layercount) + '   ' + str(aconfig.get(\"name\")))\n",
        "    return str(layercountCNN) + ' CNN layers'"
      ],
      "execution_count": 0,
      "outputs": []
    },
    {
      "metadata": {
        "id": "md6j-gtOE9NF",
        "colab_type": "code",
        "colab": {
          "base_uri": "https://localhost:8080/",
          "height": 452
        },
        "outputId": "60628fc0-9228-4a23-ab5c-2db85ccf4984"
      },
      "cell_type": "code",
      "source": [
        "extractNetworkInsights(model1, verbose=1)"
      ],
      "execution_count": 39,
      "outputs": [
        {
          "output_type": "stream",
          "text": [
            "1   1\n",
            "2   CNNlayer1   Filters=32\n",
            "3   batch_normalization_1\n",
            "4   CNNlayer2   Filters=32\n",
            "5   batch_normalization_2\n",
            "6   MaxPool3   PoolSize=(2, 2)\n",
            "7   dropout_1   Rate=0.0\n",
            "8   CNNlayer4   Filters=64\n",
            "9   batch_normalization_3\n",
            "10   CNNlayer5   Filters=64\n",
            "11   batch_normalization_4\n",
            "12   MaxPool6   PoolSize=(1, 1)\n",
            "13   dropout_2   Rate=0.0\n",
            "14   CNNlayer7   Filters=128\n",
            "15   batch_normalization_5\n",
            "16   CNNlayer8   Filters=128\n",
            "17   batch_normalization_6\n",
            "18   MaxPool9   PoolSize=(1, 1)\n",
            "19   dropout_3   Rate=0.0\n",
            "20   Flatten10\n",
            "21   Dense11   Units=64\n",
            "22   dropout_4   Rate=0.2\n",
            "23   Dense13   Units=32\n",
            "24   dropout_5   Rate=0.2\n",
            "25   DenseMultiClassSoftmaxLayer   Units=10\n"
          ],
          "name": "stdout"
        },
        {
          "output_type": "execute_result",
          "data": {
            "text/plain": [
              "'6 CNN layers'"
            ]
          },
          "metadata": {
            "tags": []
          },
          "execution_count": 39
        }
      ]
    },
    {
      "metadata": {
        "id": "TXcSMYsoI3YR",
        "colab_type": "code",
        "colab": {
          "base_uri": "https://localhost:8080/",
          "height": 251
        },
        "outputId": "23f50755-7ad3-43b3-b020-8b00fc071614"
      },
      "cell_type": "code",
      "source": [
        "extractNetworkInsights(model2, verbose=1)"
      ],
      "execution_count": 40,
      "outputs": [
        {
          "output_type": "stream",
          "text": [
            "1   1\n",
            "2   CNNlayer1   Filters=32\n",
            "3   batch_normalization_1\n",
            "4   CNNlayer2   Filters=32\n",
            "5   batch_normalization_2\n",
            "6   MaxPool3   PoolSize=(2, 2)\n",
            "7   dropout_1   Rate=0.0\n",
            "8   Flatten4\n",
            "9   Dense5   Units=64\n",
            "10   dropout_2   Rate=0.2\n",
            "11   Dense7   Units=32\n",
            "12   dropout_3   Rate=0.2\n",
            "13   DenseMultiClassSoftmaxLayer   Units=10\n"
          ],
          "name": "stdout"
        },
        {
          "output_type": "execute_result",
          "data": {
            "text/plain": [
              "'2 CNN layers'"
            ]
          },
          "metadata": {
            "tags": []
          },
          "execution_count": 40
        }
      ]
    },
    {
      "metadata": {
        "id": "CNbfVIRsG-BR",
        "colab_type": "code",
        "colab": {}
      },
      "cell_type": "code",
      "source": [
        "(xtrain1, ytrain1), (xtest, ytest) = datasets.cifar10.load_data()\n",
        "labelsnames =  ['airplane','automobile','bird','cat','deer','dog','frog','horse','ship','truck']"
      ],
      "execution_count": 0,
      "outputs": []
    },
    {
      "metadata": {
        "id": "oM4pdA90MHYO",
        "colab_type": "code",
        "colab": {}
      },
      "cell_type": "code",
      "source": [
        "def showocculusionsenstivitySIGMOIDMODEL(myimageforconisderation, mygroundtruth, greboxsize, myloadedmodel):\n",
        "    myimageth1 = myimageforconisderation\n",
        "    groundtruth = mygroundtruth\n",
        "    myimageJ = myimageth1.copy()\n",
        "    ansThankyouF = myimageth1.copy()\n",
        "    ansThankyouFA = myimageth1.copy()\n",
        "    ansThankyouNANDRI = myimageth1.copy()\n",
        "    ansThankyouNANDRI2 = myimageth1.copy()\n",
        "    sampleocculusion = myimageth1.copy()\n",
        "    print('Occulsion size is a sqaure of width ' + str(greboxsize*2+1))\n",
        "\n",
        "    fig=plt.figure(figsize=(16, 16))\n",
        "    columns = 3\n",
        "    rows = 1\n",
        "    #image dime is 0 to 31\n",
        "    #5X5 grey box, hence move from 2 to 29\n",
        "    for i in range(0, 32):\n",
        "        for j in range(0,32):\n",
        "            myimageJ = myimageth1.copy()\n",
        "            myimageJ[i-greboxsize:i+greboxsize, j-greboxsize:j+greboxsize] = [127, 127, 127]        \n",
        "            myimageJnormalized = myimageJ.astype('float16') * 1/255\n",
        "            imageforprediction = np.expand_dims(myimageJnormalized, axis=0)\n",
        "            result = myloadedmodel.predict(imageforprediction)\n",
        "            y_classes = result[0].round(1).argmax(axis=-1)\n",
        "            confidence = result[0][y_classes]*100\n",
        "            #print(confidence)\n",
        "            predictedlabel = y_classes\n",
        "            grouthtruthlabel = groundtruth[0]\n",
        "            if(predictedlabel == grouthtruthlabel):\n",
        "                 ansThankyouF[i,j] = [0,  ansThankyouF[i,j, 1], 0]\n",
        "                 ansThankyouFA[i,j] = [0, 250, 0]\n",
        "                 ansThankyouNANDRI[i,j] = [ansThankyouNANDRI[i,j, 0], confidence * 200/100, ansThankyouNANDRI[i,j, 2]]\n",
        "                 if(confidence>97):\n",
        "                     ansThankyouNANDRI2[i,j] = [0,  confidence * 230/100, 0 ]\n",
        "                 else:\n",
        "                     ansThankyouNANDRI2[i,j] = [0, confidence * 200/100 , confidence * 200/100 ]\n",
        "                # ansThankyouNANDRI[i,j] = [ansThankyouF[i,j, 0], confidence * 254/100, ansThankyouF[i,j, 2]]\n",
        "                # ansThankyouNANDRI[i,j] = [0, confidence * 254/100, ansThankyouF[i,j, 2]\n",
        "            else:\n",
        "                ansThankyouFA[i,j] = [255, 0, 0]\n",
        "                ansThankyouNANDRI[i,j]= [ (100-confidence) * 245/100, ansThankyouNANDRI[i,j, 1], ansThankyouNANDRI[i,j, 2]]\n",
        "                ansThankyouNANDRI2[i,j] = [ (confidence) * 245/100,0, 0]\n",
        "            if((i==10)&(j==10)):\n",
        "                sampleocculusion = myimageJ\n",
        "\n",
        "\n",
        "    #plt.title(str(j) + ' T: ' +  str(labelsnames[labelseq[0]]) +  ' P: ' +  str(labelsnames[y_classes[0]]) )\n",
        "\n",
        "    fig.add_subplot(1, 5, 1)\n",
        "    plt.imshow(sampleocculusion)\n",
        "    fig.add_subplot(1, 5, 2)\n",
        "    plt.imshow(ansThankyouFA)\n",
        "    fig.add_subplot(1, 5, 3)\n",
        "    plt.imshow(ansThankyouF)\n",
        "    fig.add_subplot(1, 5, 4)\n",
        "    plt.imshow(ansThankyouNANDRI)    \n",
        "    fig.add_subplot(1, 5, 5)\n",
        "    plt.imshow(ansThankyouNANDRI2)  \n",
        "    plt.show()"
      ],
      "execution_count": 0,
      "outputs": []
    },
    {
      "metadata": {
        "id": "8uyVjNyLMJjq",
        "colab_type": "code",
        "colab": {
          "base_uri": "https://localhost:8080/",
          "height": 422
        },
        "outputId": "2caf5cd5-5093-4c13-8437-0cbdbb2cb8e8"
      },
      "cell_type": "code",
      "source": [
        "showocculusionsenstivitySIGMOIDMODEL(xtest[131], ytest[131], 6, model1)\n",
        "showocculusionsenstivitySIGMOIDMODEL(xtest[131], ytest[131], 6, model2)\n"
      ],
      "execution_count": 45,
      "outputs": [
        {
          "output_type": "stream",
          "text": [
            "Box size is 13\n"
          ],
          "name": "stdout"
        },
        {
          "output_type": "display_data",
          "data": {
            "image/png": "[encoded data removed]",
            "text/plain": [
              "<matplotlib.figure.Figure at 0x7f32e10c00f0>"
            ]
          },
          "metadata": {
            "tags": []
          }
        },
        {
          "output_type": "stream",
          "text": [
            "Box size is 13\n"
          ],
          "name": "stdout"
        },
        {
          "output_type": "display_data",
          "data": {
            "image/png": "[encoded data removed]",
            "text/plain": [
              "<matplotlib.figure.Figure at 0x7f32de634c50>"
            ]
          },
          "metadata": {
            "tags": []
          }
        }
      ]
    },
    {
      "metadata": {
        "id": "ELWTDBtEOVVh",
        "colab_type": "code",
        "colab": {}
      },
      "cell_type": "code",
      "source": [
        "def getAccuracyWhenOcculded(myimageforconisderation, mygroundtruth, greboxsize, myloadedmodel):\n",
        "    myimageth1 = myimageforconisderation\n",
        "    groundtruth = mygroundtruth\n",
        "    myimageJ = myimageth1.copy()\n",
        "    ansThankyouF = myimageth1.copy()\n",
        "    ansThankyouFA = myimageth1.copy()\n",
        "    ansThankyouNANDRI = myimageth1.copy()\n",
        "    ansThankyouNANDRI2 = myimageth1.copy()\n",
        "    sampleocculusion = myimageth1.copy()\n",
        "   # print('Occulsion size is ' + str(greboxsize*2+1))\n",
        "\n",
        "    columns = 3\n",
        "    rows = 1\n",
        "    accurateprediction = 0\n",
        "    wrongprediction = 0\n",
        "    for i in range(0, 32):\n",
        "        for j in range(0,32):\n",
        "            myimageJ = myimageth1.copy()\n",
        "            myimageJ[i-greboxsize:i+greboxsize, j-greboxsize:j+greboxsize] = [127, 127, 127]        \n",
        "            myimageJnormalized = myimageJ.astype('float16') * 1/255\n",
        "            imageforprediction = np.expand_dims(myimageJnormalized, axis=0)\n",
        "            result = myloadedmodel.predict(imageforprediction)\n",
        "            y_classes = result[0].round(1).argmax(axis=-1)\n",
        "            confidence = result[0][y_classes]*100\n",
        "            #print(confidence)\n",
        "            predictedlabel = y_classes\n",
        "            grouthtruthlabel = groundtruth[0]\n",
        "            if(predictedlabel == grouthtruthlabel):\n",
        "              accurateprediction = accurateprediction + 1 \n",
        "            else:\n",
        "              wrongprediction = wrongprediction + 1\n",
        "    return accurateprediction, accurateprediction + wrongprediction "
      ],
      "execution_count": 0,
      "outputs": []
    },
    {
      "metadata": {
        "id": "xK8V3MUOG-0j",
        "colab_type": "code",
        "colab": {
          "base_uri": "https://localhost:8080/",
          "height": 67
        },
        "outputId": "8d40a503-5370-41c1-db12-a9098a15abea"
      },
      "cell_type": "code",
      "source": [
        "result = myloadedmodel.predict(xtrain1[108:109].astype('float16') * 1/255)\n",
        "print(result)\n",
        "print(result[0].round(1))"
      ],
      "execution_count": 44,
      "outputs": [
        {
          "output_type": "stream",
          "text": [
            "[[3.7144367e-19 0.0000000e+00 1.0000000e+00 4.8730431e-20 1.5907469e-21\n",
            "  3.5070101e-24 7.8994395e-22 1.6416125e-28 0.0000000e+00 0.0000000e+00]]\n",
            "[0. 0. 1. 0. 0. 0. 0. 0. 0. 0.]\n"
          ],
          "name": "stdout"
        }
      ]
    },
    {
      "metadata": {
        "id": "jzMu_nTIPwbm",
        "colab_type": "code",
        "colab": {
          "base_uri": "https://localhost:8080/",
          "height": 33
        },
        "outputId": "2bc3659e-072c-40d4-b5be-08b8dcd005b8"
      },
      "cell_type": "code",
      "source": [
        "print(getAccuracyWhenOcculded(xtest[131], ytest[131], 6, model1))"
      ],
      "execution_count": 47,
      "outputs": [
        {
          "output_type": "stream",
          "text": [
            "(893, 1024)\n"
          ],
          "name": "stdout"
        }
      ]
    },
    {
      "metadata": {
        "id": "Dg7w09awRgBd",
        "colab_type": "code",
        "colab": {
          "base_uri": "https://localhost:8080/",
          "height": 33
        },
        "outputId": "37fe4513-2d25-412a-a67b-ccbd05eea85d"
      },
      "cell_type": "code",
      "source": [
        "print(xtest.shape[0])"
      ],
      "execution_count": 56,
      "outputs": [
        {
          "output_type": "stream",
          "text": [
            "10000\n"
          ],
          "name": "stdout"
        }
      ]
    },
    {
      "metadata": {
        "id": "BN4z0D9PQ40W",
        "colab_type": "code",
        "colab": {}
      },
      "cell_type": "code",
      "source": [
        "def getAccuracyWhenOcculdedForaDataSet(testX, testY, greboxsize, myloadedmodel):\n",
        "  accuratepredictioncount = 0 \n",
        "  totalcount = 0 \n",
        "  numberofimages = testX.shape[0]\n",
        "  print('Analyzing number of artificially occuluded images ' + str(numberofimages))\n",
        "  for i in range(numberofimages):\n",
        "    perimageaccuracy, perimagetotal =  getAccuracyWhenOcculded(xtest[i], ytest[i], greboxsize, myloadedmodel)\n",
        "    accuratepredictioncount = accuratepredictioncount + perimageaccuracy\n",
        "    totalcount = perimagetotal + totalcount\n",
        "  print('Total images explored is ' + str(totalcount))\n",
        "  print('Total correct predictions inspite of occulusion  explored is ' + str(accuratepredictioncount))\n",
        "  accuracypercentage = 100*accuratepredictioncount / totalcount\n",
        "  print('occulusion is a sqaure of size  ' + str(greboxsize*2+1))\n",
        "  print('Accuracy of prediction during this type of occulusion is ' + str(accuracypercentage))\n",
        "  return accuracypercentage\n",
        "  "
      ],
      "execution_count": 0,
      "outputs": []
    },
    {
      "metadata": {
        "id": "UfJsPcxnQBkV",
        "colab_type": "code",
        "colab": {}
      },
      "cell_type": "code",
      "source": [
        "def illustrateocculusionsenstivity(myloadedmodel, myimageforconisderation, mygroundtruth, greboxsize, stepsize = 4, isShowCorrectlyClassified=True):\n",
        "    myimageth1 = myimageforconisderation\n",
        "    groundtruth = mygroundtruth\n",
        "    myimageJ = myimageth1.copy()\n",
        "    ansThankyouF = myimageth1.copy()\n",
        "    ansThankyouFA = myimageth1.copy()\n",
        "    sampleocculusion = myimageth1.copy()\n",
        "    print('Box size is ' + str(greboxsize*2+1))\n",
        "\n",
        "    fig=plt.figure(figsize=(8, 8))\n",
        "    columns = 6\n",
        "    rows = 6\n",
        "    Forplotingcorrectlypredictedplotindex = 1\n",
        "    Forplotingwronglypredictedplotindex = 1\n",
        "    Forplotingcurrentindex = 1\n",
        "    \n",
        "    \n",
        "    #image dime is 0 to 31\n",
        "    #5X5 grey box, hence move from 2 to 29\n",
        "    for i in range(5, 32, stepsize):\n",
        "        for j in range(5,32, stepsize):\n",
        "            myimageJ = myimageth1.copy()\n",
        "            Forplottingshowocculsion = myimageth1.copy()\n",
        "            myimageJ[i-greboxsize:i+greboxsize, j-greboxsize:j+greboxsize] = [127, 127, 127]        \n",
        "            myimageJnormalized = myimageJ.astype('float16') * 1/255\n",
        "            imageforprediction = np.expand_dims(myimageJnormalized, axis=0)\n",
        "            result = myloadedmodel.predict(imageforprediction, batch_size=1)\n",
        "            y_classes = result.argmax(axis=-1)  \n",
        "            predictedlabel = y_classes[0]\n",
        "            grouthtruthlabel = groundtruth[0]\n",
        "            if(predictedlabel == grouthtruthlabel):\n",
        "                 ansThankyouF[i,j] = [0,  ansThankyouF[i,j, 1], 0]\n",
        "                 ansThankyouFA[i,j] = [0, 250, 0]\n",
        "                 Forplotingcurrentindex = Forplotingcorrectlypredictedplotindex\n",
        "                 Forplotingcorrectlypredictedplotindex = Forplotingcorrectlypredictedplotindex + 1   \n",
        "                 if(Forplotingcorrectlypredictedplotindex >= 24 ):\n",
        "                        Forplotingcorrectlypredictedplotindex = 1   \n",
        "                 if((isShowCorrectlyClassified)):\n",
        "                    Forplottingshowocculsion[i-greboxsize:i+greboxsize, j-greboxsize:j+greboxsize]= [127, 127, 127]\n",
        "                    fig.add_subplot(rows, columns, Forplotingcurrentindex)\n",
        "                    plt.title(labelsnames[predictedlabel])\n",
        "                    plt.axis('off')\n",
        "                    plt.imshow(Forplottingshowocculsion)           \n",
        "            else:\n",
        "                ansThankyouFA[i,j] = [255, 0, 0]\n",
        "                Forplotingcurrentindex = Forplotingwronglypredictedplotindex\n",
        "                Forplotingwronglypredictedplotindex = Forplotingwronglypredictedplotindex + 1\n",
        "                if(Forplotingwronglypredictedplotindex >= 24 ):\n",
        "                    Forplotingwronglypredictedplotindex = 13  \n",
        "                if((isShowCorrectlyClassified==False)):\n",
        "                    Forplottingshowocculsion[i-greboxsize:i+greboxsize, j-greboxsize:j+greboxsize]= [127, 127, 127]\n",
        "                    fig.add_subplot(rows, columns, Forplotingcurrentindex)\n",
        "                    plt.title(labelsnames[predictedlabel], color='C4')\n",
        "                    plt.axis('off')\n",
        "                    plt.imshow(Forplottingshowocculsion)\n",
        "\n",
        "                \n",
        "            if((i==10)&(j==10)):\n",
        "                sampleocculusion = myimageJ\n",
        "\n",
        "    plt.show()\n"
      ],
      "execution_count": 0,
      "outputs": []
    },
    {
      "metadata": {
        "id": "yJkEQA3tQOpd",
        "colab_type": "code",
        "colab": {
          "base_uri": "https://localhost:8080/",
          "height": 419
        },
        "outputId": "e7f9c762-86d0-47ee-a5b7-6b41749c7eca"
      },
      "cell_type": "code",
      "source": [
        "illustrateocculusionsenstivity(model1, xtrain1[119], ytrain1[119], 5, stepsize = 2, isShowCorrectlyClassified=False)\n"
      ],
      "execution_count": 54,
      "outputs": [
        {
          "output_type": "stream",
          "text": [
            "Box size is 11\n"
          ],
          "name": "stdout"
        },
        {
          "output_type": "stream",
          "text": [
            "/usr/local/lib/python3.6/dist-packages/matplotlib/cbook/deprecation.py:106: MatplotlibDeprecationWarning: Adding an axes using the same arguments as a previous axes currently reuses the earlier instance.  In a future version, a new instance will always be created and returned.  Meanwhile, this warning can be suppressed, and the future behavior ensured, by passing a unique label to each axes instance.\n",
            "  warnings.warn(message, mplDeprecation, stacklevel=1)\n"
          ],
          "name": "stderr"
        },
        {
          "output_type": "display_data",
          "data": {
            "image/png": "[encoded data removed]",
            "text/plain": [
              "<matplotlib.figure.Figure at 0x7f32de345240>"
            ]
          },
          "metadata": {
            "tags": []
          }
        }
      ]
    },
    {
      "metadata": {
        "id": "UWExh_HOkdhK",
        "colab_type": "code",
        "colab": {
          "base_uri": "https://localhost:8080/",
          "height": 1500
        },
        "outputId": "07fae5a2-601e-47a6-bc0c-5c49a7445c3d"
      },
      "cell_type": "code",
      "source": [
        "xtest = xtest[2:200]\n",
        "xtest = xtest[2:200]\n",
        "getAccuracyWhenOcculdedForaDataSet(xtest, xtest, 4, model2)"
      ],
      "execution_count": 64,
      "outputs": [
        {
          "output_type": "stream",
          "text": [
            "Analyzing number of artificially occuluded images 196\n"
          ],
          "name": "stdout"
        },
        {
          "output_type": "error",
          "ename": "KeyboardInterrupt",
          "evalue": "ignored",
          "traceback": [
            "\u001b[0;31m---------------------------------------------------------------------------\u001b[0m",
            "\u001b[0;31mKeyboardInterrupt\u001b[0m                         Traceback (most recent call last)",
            "\u001b[0;32m<ipython-input-64-cee7d3f1d304>\u001b[0m in \u001b[0;36m<module>\u001b[0;34m()\u001b[0m\n\u001b[1;32m      1\u001b[0m \u001b[0mxtest\u001b[0m \u001b[0;34m=\u001b[0m \u001b[0mxtest\u001b[0m\u001b[0;34m[\u001b[0m\u001b[0;36m2\u001b[0m\u001b[0;34m:\u001b[0m\u001b[0;36m200\u001b[0m\u001b[0;34m]\u001b[0m\u001b[0;34m\u001b[0m\u001b[0m\n\u001b[1;32m      2\u001b[0m \u001b[0mxtest\u001b[0m \u001b[0;34m=\u001b[0m \u001b[0mxtest\u001b[0m\u001b[0;34m[\u001b[0m\u001b[0;36m2\u001b[0m\u001b[0;34m:\u001b[0m\u001b[0;36m200\u001b[0m\u001b[0;34m]\u001b[0m\u001b[0;34m\u001b[0m\u001b[0m\n\u001b[0;32m----> 3\u001b[0;31m \u001b[0mgetAccuracyWhenOcculdedForaDataSet\u001b[0m\u001b[0;34m(\u001b[0m\u001b[0mxtest\u001b[0m\u001b[0;34m,\u001b[0m \u001b[0mxtest\u001b[0m\u001b[0;34m,\u001b[0m \u001b[0;36m4\u001b[0m\u001b[0;34m,\u001b[0m \u001b[0mmodel2\u001b[0m\u001b[0;34m)\u001b[0m\u001b[0;34m\u001b[0m\u001b[0m\n\u001b[0m",
            "\u001b[0;32m<ipython-input-61-b0414b7dc4fc>\u001b[0m in \u001b[0;36mgetAccuracyWhenOcculdedForaDataSet\u001b[0;34m(testX, testY, greboxsize, myloadedmodel)\u001b[0m\n\u001b[1;32m      5\u001b[0m   \u001b[0mprint\u001b[0m\u001b[0;34m(\u001b[0m\u001b[0;34m'Analyzing number of artificially occuluded images '\u001b[0m \u001b[0;34m+\u001b[0m \u001b[0mstr\u001b[0m\u001b[0;34m(\u001b[0m\u001b[0mnumberofimages\u001b[0m\u001b[0;34m)\u001b[0m\u001b[0;34m)\u001b[0m\u001b[0;34m\u001b[0m\u001b[0m\n\u001b[1;32m      6\u001b[0m   \u001b[0;32mfor\u001b[0m \u001b[0mi\u001b[0m \u001b[0;32min\u001b[0m \u001b[0mrange\u001b[0m\u001b[0;34m(\u001b[0m\u001b[0mnumberofimages\u001b[0m\u001b[0;34m)\u001b[0m\u001b[0;34m:\u001b[0m\u001b[0;34m\u001b[0m\u001b[0m\n\u001b[0;32m----> 7\u001b[0;31m     \u001b[0mperimageaccuracy\u001b[0m\u001b[0;34m,\u001b[0m \u001b[0mperimagetotal\u001b[0m \u001b[0;34m=\u001b[0m  \u001b[0mgetAccuracyWhenOcculded\u001b[0m\u001b[0;34m(\u001b[0m\u001b[0mxtest\u001b[0m\u001b[0;34m[\u001b[0m\u001b[0mi\u001b[0m\u001b[0;34m]\u001b[0m\u001b[0;34m,\u001b[0m \u001b[0mytest\u001b[0m\u001b[0;34m[\u001b[0m\u001b[0mi\u001b[0m\u001b[0;34m]\u001b[0m\u001b[0;34m,\u001b[0m \u001b[0mgreboxsize\u001b[0m\u001b[0;34m,\u001b[0m \u001b[0mmyloadedmodel\u001b[0m\u001b[0;34m)\u001b[0m\u001b[0;34m\u001b[0m\u001b[0m\n\u001b[0m\u001b[1;32m      8\u001b[0m     \u001b[0maccuratepredictioncount\u001b[0m \u001b[0;34m=\u001b[0m \u001b[0maccuratepredictioncount\u001b[0m \u001b[0;34m+\u001b[0m \u001b[0mperimageaccuracy\u001b[0m\u001b[0;34m\u001b[0m\u001b[0m\n\u001b[1;32m      9\u001b[0m     \u001b[0mtotalcount\u001b[0m \u001b[0;34m=\u001b[0m \u001b[0mperimagetotal\u001b[0m \u001b[0;34m+\u001b[0m \u001b[0mtotalcount\u001b[0m\u001b[0;34m\u001b[0m\u001b[0m\n",
            "\u001b[0;32m<ipython-input-46-ad103fe145ef>\u001b[0m in \u001b[0;36mgetAccuracyWhenOcculded\u001b[0;34m(myimageforconisderation, mygroundtruth, greboxsize, myloadedmodel)\u001b[0m\n\u001b[1;32m     20\u001b[0m             \u001b[0mmyimageJnormalized\u001b[0m \u001b[0;34m=\u001b[0m \u001b[0mmyimageJ\u001b[0m\u001b[0;34m.\u001b[0m\u001b[0mastype\u001b[0m\u001b[0;34m(\u001b[0m\u001b[0;34m'float16'\u001b[0m\u001b[0;34m)\u001b[0m \u001b[0;34m*\u001b[0m \u001b[0;36m1\u001b[0m\u001b[0;34m/\u001b[0m\u001b[0;36m255\u001b[0m\u001b[0;34m\u001b[0m\u001b[0m\n\u001b[1;32m     21\u001b[0m             \u001b[0mimageforprediction\u001b[0m \u001b[0;34m=\u001b[0m \u001b[0mnp\u001b[0m\u001b[0;34m.\u001b[0m\u001b[0mexpand_dims\u001b[0m\u001b[0;34m(\u001b[0m\u001b[0mmyimageJnormalized\u001b[0m\u001b[0;34m,\u001b[0m \u001b[0maxis\u001b[0m\u001b[0;34m=\u001b[0m\u001b[0;36m0\u001b[0m\u001b[0;34m)\u001b[0m\u001b[0;34m\u001b[0m\u001b[0m\n\u001b[0;32m---> 22\u001b[0;31m             \u001b[0mresult\u001b[0m \u001b[0;34m=\u001b[0m \u001b[0mmyloadedmodel\u001b[0m\u001b[0;34m.\u001b[0m\u001b[0mpredict\u001b[0m\u001b[0;34m(\u001b[0m\u001b[0mimageforprediction\u001b[0m\u001b[0;34m)\u001b[0m\u001b[0;34m\u001b[0m\u001b[0m\n\u001b[0m\u001b[1;32m     23\u001b[0m             \u001b[0my_classes\u001b[0m \u001b[0;34m=\u001b[0m \u001b[0mresult\u001b[0m\u001b[0;34m[\u001b[0m\u001b[0;36m0\u001b[0m\u001b[0;34m]\u001b[0m\u001b[0;34m.\u001b[0m\u001b[0mround\u001b[0m\u001b[0;34m(\u001b[0m\u001b[0;36m1\u001b[0m\u001b[0;34m)\u001b[0m\u001b[0;34m.\u001b[0m\u001b[0margmax\u001b[0m\u001b[0;34m(\u001b[0m\u001b[0maxis\u001b[0m\u001b[0;34m=\u001b[0m\u001b[0;34m-\u001b[0m\u001b[0;36m1\u001b[0m\u001b[0;34m)\u001b[0m\u001b[0;34m\u001b[0m\u001b[0m\n\u001b[1;32m     24\u001b[0m             \u001b[0mconfidence\u001b[0m \u001b[0;34m=\u001b[0m \u001b[0mresult\u001b[0m\u001b[0;34m[\u001b[0m\u001b[0;36m0\u001b[0m\u001b[0;34m]\u001b[0m\u001b[0;34m[\u001b[0m\u001b[0my_classes\u001b[0m\u001b[0;34m]\u001b[0m\u001b[0;34m*\u001b[0m\u001b[0;36m100\u001b[0m\u001b[0;34m\u001b[0m\u001b[0m\n",
            "\u001b[0;32m/usr/local/lib/python3.6/dist-packages/keras/engine/training.py\u001b[0m in \u001b[0;36mpredict\u001b[0;34m(self, x, batch_size, verbose, steps)\u001b[0m\n\u001b[1;32m   1833\u001b[0m         \u001b[0mf\u001b[0m \u001b[0;34m=\u001b[0m \u001b[0mself\u001b[0m\u001b[0;34m.\u001b[0m\u001b[0mpredict_function\u001b[0m\u001b[0;34m\u001b[0m\u001b[0m\n\u001b[1;32m   1834\u001b[0m         return self._predict_loop(f, ins, batch_size=batch_size,\n\u001b[0;32m-> 1835\u001b[0;31m                                   verbose=verbose, steps=steps)\n\u001b[0m\u001b[1;32m   1836\u001b[0m \u001b[0;34m\u001b[0m\u001b[0m\n\u001b[1;32m   1837\u001b[0m     def train_on_batch(self, x, y,\n",
            "\u001b[0;32m/usr/local/lib/python3.6/dist-packages/keras/engine/training.py\u001b[0m in \u001b[0;36m_predict_loop\u001b[0;34m(self, f, ins, batch_size, verbose, steps)\u001b[0m\n\u001b[1;32m   1329\u001b[0m                     \u001b[0mins_batch\u001b[0m\u001b[0;34m[\u001b[0m\u001b[0mi\u001b[0m\u001b[0;34m]\u001b[0m \u001b[0;34m=\u001b[0m \u001b[0mins_batch\u001b[0m\u001b[0;34m[\u001b[0m\u001b[0mi\u001b[0m\u001b[0;34m]\u001b[0m\u001b[0;34m.\u001b[0m\u001b[0mtoarray\u001b[0m\u001b[0;34m(\u001b[0m\u001b[0;34m)\u001b[0m\u001b[0;34m\u001b[0m\u001b[0m\n\u001b[1;32m   1330\u001b[0m \u001b[0;34m\u001b[0m\u001b[0m\n\u001b[0;32m-> 1331\u001b[0;31m                 \u001b[0mbatch_outs\u001b[0m \u001b[0;34m=\u001b[0m \u001b[0mf\u001b[0m\u001b[0;34m(\u001b[0m\u001b[0mins_batch\u001b[0m\u001b[0;34m)\u001b[0m\u001b[0;34m\u001b[0m\u001b[0m\n\u001b[0m\u001b[1;32m   1332\u001b[0m                 \u001b[0;32mif\u001b[0m \u001b[0;32mnot\u001b[0m \u001b[0misinstance\u001b[0m\u001b[0;34m(\u001b[0m\u001b[0mbatch_outs\u001b[0m\u001b[0;34m,\u001b[0m \u001b[0mlist\u001b[0m\u001b[0;34m)\u001b[0m\u001b[0;34m:\u001b[0m\u001b[0;34m\u001b[0m\u001b[0m\n\u001b[1;32m   1333\u001b[0m                     \u001b[0mbatch_outs\u001b[0m \u001b[0;34m=\u001b[0m \u001b[0;34m[\u001b[0m\u001b[0mbatch_outs\u001b[0m\u001b[0;34m]\u001b[0m\u001b[0;34m\u001b[0m\u001b[0m\n",
            "\u001b[0;32m/usr/local/lib/python3.6/dist-packages/keras/backend/tensorflow_backend.py\u001b[0m in \u001b[0;36m__call__\u001b[0;34m(self, inputs)\u001b[0m\n\u001b[1;32m   2480\u001b[0m         \u001b[0msession\u001b[0m \u001b[0;34m=\u001b[0m \u001b[0mget_session\u001b[0m\u001b[0;34m(\u001b[0m\u001b[0;34m)\u001b[0m\u001b[0;34m\u001b[0m\u001b[0m\n\u001b[1;32m   2481\u001b[0m         updated = session.run(fetches=fetches, feed_dict=feed_dict,\n\u001b[0;32m-> 2482\u001b[0;31m                               **self.session_kwargs)\n\u001b[0m\u001b[1;32m   2483\u001b[0m         \u001b[0;32mreturn\u001b[0m \u001b[0mupdated\u001b[0m\u001b[0;34m[\u001b[0m\u001b[0;34m:\u001b[0m\u001b[0mlen\u001b[0m\u001b[0;34m(\u001b[0m\u001b[0mself\u001b[0m\u001b[0;34m.\u001b[0m\u001b[0moutputs\u001b[0m\u001b[0;34m)\u001b[0m\u001b[0;34m]\u001b[0m\u001b[0;34m\u001b[0m\u001b[0m\n\u001b[1;32m   2484\u001b[0m \u001b[0;34m\u001b[0m\u001b[0m\n",
            "\u001b[0;32m/usr/local/lib/python3.6/dist-packages/tensorflow/python/client/session.py\u001b[0m in \u001b[0;36mrun\u001b[0;34m(self, fetches, feed_dict, options, run_metadata)\u001b[0m\n\u001b[1;32m    875\u001b[0m     \u001b[0;32mtry\u001b[0m\u001b[0;34m:\u001b[0m\u001b[0;34m\u001b[0m\u001b[0m\n\u001b[1;32m    876\u001b[0m       result = self._run(None, fetches, feed_dict, options_ptr,\n\u001b[0;32m--> 877\u001b[0;31m                          run_metadata_ptr)\n\u001b[0m\u001b[1;32m    878\u001b[0m       \u001b[0;32mif\u001b[0m \u001b[0mrun_metadata\u001b[0m\u001b[0;34m:\u001b[0m\u001b[0;34m\u001b[0m\u001b[0m\n\u001b[1;32m    879\u001b[0m         \u001b[0mproto_data\u001b[0m \u001b[0;34m=\u001b[0m \u001b[0mtf_session\u001b[0m\u001b[0;34m.\u001b[0m\u001b[0mTF_GetBuffer\u001b[0m\u001b[0;34m(\u001b[0m\u001b[0mrun_metadata_ptr\u001b[0m\u001b[0;34m)\u001b[0m\u001b[0;34m\u001b[0m\u001b[0m\n",
            "\u001b[0;32m/usr/local/lib/python3.6/dist-packages/tensorflow/python/client/session.py\u001b[0m in \u001b[0;36m_run\u001b[0;34m(self, handle, fetches, feed_dict, options, run_metadata)\u001b[0m\n\u001b[1;32m   1098\u001b[0m     \u001b[0;32mif\u001b[0m \u001b[0mfinal_fetches\u001b[0m \u001b[0;32mor\u001b[0m \u001b[0mfinal_targets\u001b[0m \u001b[0;32mor\u001b[0m \u001b[0;34m(\u001b[0m\u001b[0mhandle\u001b[0m \u001b[0;32mand\u001b[0m \u001b[0mfeed_dict_tensor\u001b[0m\u001b[0;34m)\u001b[0m\u001b[0;34m:\u001b[0m\u001b[0;34m\u001b[0m\u001b[0m\n\u001b[1;32m   1099\u001b[0m       results = self._do_run(handle, final_targets, final_fetches,\n\u001b[0;32m-> 1100\u001b[0;31m                              feed_dict_tensor, options, run_metadata)\n\u001b[0m\u001b[1;32m   1101\u001b[0m     \u001b[0;32melse\u001b[0m\u001b[0;34m:\u001b[0m\u001b[0;34m\u001b[0m\u001b[0m\n\u001b[1;32m   1102\u001b[0m       \u001b[0mresults\u001b[0m \u001b[0;34m=\u001b[0m \u001b[0;34m[\u001b[0m\u001b[0;34m]\u001b[0m\u001b[0;34m\u001b[0m\u001b[0m\n",
            "\u001b[0;32m/usr/local/lib/python3.6/dist-packages/tensorflow/python/client/session.py\u001b[0m in \u001b[0;36m_do_run\u001b[0;34m(self, handle, target_list, fetch_list, feed_dict, options, run_metadata)\u001b[0m\n\u001b[1;32m   1270\u001b[0m     \u001b[0;32mif\u001b[0m \u001b[0mhandle\u001b[0m \u001b[0;32mis\u001b[0m \u001b[0;32mNone\u001b[0m\u001b[0;34m:\u001b[0m\u001b[0;34m\u001b[0m\u001b[0m\n\u001b[1;32m   1271\u001b[0m       return self._do_call(_run_fn, feeds, fetches, targets, options,\n\u001b[0;32m-> 1272\u001b[0;31m                            run_metadata)\n\u001b[0m\u001b[1;32m   1273\u001b[0m     \u001b[0;32melse\u001b[0m\u001b[0;34m:\u001b[0m\u001b[0;34m\u001b[0m\u001b[0m\n\u001b[1;32m   1274\u001b[0m       \u001b[0;32mreturn\u001b[0m \u001b[0mself\u001b[0m\u001b[0;34m.\u001b[0m\u001b[0m_do_call\u001b[0m\u001b[0;34m(\u001b[0m\u001b[0m_prun_fn\u001b[0m\u001b[0;34m,\u001b[0m \u001b[0mhandle\u001b[0m\u001b[0;34m,\u001b[0m \u001b[0mfeeds\u001b[0m\u001b[0;34m,\u001b[0m \u001b[0mfetches\u001b[0m\u001b[0;34m)\u001b[0m\u001b[0;34m\u001b[0m\u001b[0m\n",
            "\u001b[0;32m/usr/local/lib/python3.6/dist-packages/tensorflow/python/client/session.py\u001b[0m in \u001b[0;36m_do_call\u001b[0;34m(self, fn, *args)\u001b[0m\n\u001b[1;32m   1276\u001b[0m   \u001b[0;32mdef\u001b[0m \u001b[0m_do_call\u001b[0m\u001b[0;34m(\u001b[0m\u001b[0mself\u001b[0m\u001b[0;34m,\u001b[0m \u001b[0mfn\u001b[0m\u001b[0;34m,\u001b[0m \u001b[0;34m*\u001b[0m\u001b[0margs\u001b[0m\u001b[0;34m)\u001b[0m\u001b[0;34m:\u001b[0m\u001b[0;34m\u001b[0m\u001b[0m\n\u001b[1;32m   1277\u001b[0m     \u001b[0;32mtry\u001b[0m\u001b[0;34m:\u001b[0m\u001b[0;34m\u001b[0m\u001b[0m\n\u001b[0;32m-> 1278\u001b[0;31m       \u001b[0;32mreturn\u001b[0m \u001b[0mfn\u001b[0m\u001b[0;34m(\u001b[0m\u001b[0;34m*\u001b[0m\u001b[0margs\u001b[0m\u001b[0;34m)\u001b[0m\u001b[0;34m\u001b[0m\u001b[0m\n\u001b[0m\u001b[1;32m   1279\u001b[0m     \u001b[0;32mexcept\u001b[0m \u001b[0merrors\u001b[0m\u001b[0;34m.\u001b[0m\u001b[0mOpError\u001b[0m \u001b[0;32mas\u001b[0m \u001b[0me\u001b[0m\u001b[0;34m:\u001b[0m\u001b[0;34m\u001b[0m\u001b[0m\n\u001b[1;32m   1280\u001b[0m       \u001b[0mmessage\u001b[0m \u001b[0;34m=\u001b[0m \u001b[0mcompat\u001b[0m\u001b[0;34m.\u001b[0m\u001b[0mas_text\u001b[0m\u001b[0;34m(\u001b[0m\u001b[0me\u001b[0m\u001b[0;34m.\u001b[0m\u001b[0mmessage\u001b[0m\u001b[0;34m)\u001b[0m\u001b[0;34m\u001b[0m\u001b[0m\n",
            "\u001b[0;32m/usr/local/lib/python3.6/dist-packages/tensorflow/python/client/session.py\u001b[0m in \u001b[0;36m_run_fn\u001b[0;34m(feed_dict, fetch_list, target_list, options, run_metadata)\u001b[0m\n\u001b[1;32m   1261\u001b[0m       \u001b[0mself\u001b[0m\u001b[0;34m.\u001b[0m\u001b[0m_extend_graph\u001b[0m\u001b[0;34m(\u001b[0m\u001b[0;34m)\u001b[0m\u001b[0;34m\u001b[0m\u001b[0m\n\u001b[1;32m   1262\u001b[0m       return self._call_tf_sessionrun(\n\u001b[0;32m-> 1263\u001b[0;31m           options, feed_dict, fetch_list, target_list, run_metadata)\n\u001b[0m\u001b[1;32m   1264\u001b[0m \u001b[0;34m\u001b[0m\u001b[0m\n\u001b[1;32m   1265\u001b[0m     \u001b[0;32mdef\u001b[0m \u001b[0m_prun_fn\u001b[0m\u001b[0;34m(\u001b[0m\u001b[0mhandle\u001b[0m\u001b[0;34m,\u001b[0m \u001b[0mfeed_dict\u001b[0m\u001b[0;34m,\u001b[0m \u001b[0mfetch_list\u001b[0m\u001b[0;34m)\u001b[0m\u001b[0;34m:\u001b[0m\u001b[0;34m\u001b[0m\u001b[0m\n",
            "\u001b[0;32m/usr/local/lib/python3.6/dist-packages/tensorflow/python/client/session.py\u001b[0m in \u001b[0;36m_call_tf_sessionrun\u001b[0;34m(self, options, feed_dict, fetch_list, target_list, run_metadata)\u001b[0m\n\u001b[1;32m   1348\u001b[0m     return tf_session.TF_SessionRun_wrapper(\n\u001b[1;32m   1349\u001b[0m         \u001b[0mself\u001b[0m\u001b[0;34m.\u001b[0m\u001b[0m_session\u001b[0m\u001b[0;34m,\u001b[0m \u001b[0moptions\u001b[0m\u001b[0;34m,\u001b[0m \u001b[0mfeed_dict\u001b[0m\u001b[0;34m,\u001b[0m \u001b[0mfetch_list\u001b[0m\u001b[0;34m,\u001b[0m \u001b[0mtarget_list\u001b[0m\u001b[0;34m,\u001b[0m\u001b[0;34m\u001b[0m\u001b[0m\n\u001b[0;32m-> 1350\u001b[0;31m         run_metadata)\n\u001b[0m\u001b[1;32m   1351\u001b[0m \u001b[0;34m\u001b[0m\u001b[0m\n\u001b[1;32m   1352\u001b[0m   \u001b[0;32mdef\u001b[0m \u001b[0m_call_tf_sessionprun\u001b[0m\u001b[0;34m(\u001b[0m\u001b[0mself\u001b[0m\u001b[0;34m,\u001b[0m \u001b[0mhandle\u001b[0m\u001b[0;34m,\u001b[0m \u001b[0mfeed_dict\u001b[0m\u001b[0;34m,\u001b[0m \u001b[0mfetch_list\u001b[0m\u001b[0;34m)\u001b[0m\u001b[0;34m:\u001b[0m\u001b[0;34m\u001b[0m\u001b[0m\n",
            "\u001b[0;31mKeyboardInterrupt\u001b[0m: "
          ]
        }
      ]
    }
  ]
}