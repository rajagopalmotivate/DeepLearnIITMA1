{
  "nbformat": 4,
  "nbformat_minor": 0,
  "metadata": {
    "colab": {
      "name": "Generate images like the one customer likes Color CNN VAE with Visualizer LatentSize  v7.ipynb",
      "version": "0.3.2",
      "provenance": [],
      "collapsed_sections": [],
      "include_colab_link": true
    },
    "kernelspec": {
      "name": "python3",
      "display_name": "Python 3"
    },
    "accelerator": "GPU"
  },
  "cells": [
    {
      "cell_type": "markdown",
      "metadata": {
        "id": "view-in-github",
        "colab_type": "text"
      },
      "source": [
        "<a href=\"https://colab.research.google.com/github/rajagopalmotivate/DeepLearnIITMA1/blob/master/Generate_images_like_the_one_customer_likes_Color_CNN_VAE_with_Visualizer_LatentSize_v7.ipynb\" target=\"_parent\"><img src=\"https://colab.research.google.com/assets/colab-badge.svg\" alt=\"Open In Colab\"/></a>"
      ]
    },
    {
      "metadata": {
        "id": "v8JaBMP6xQ6n",
        "colab_type": "text"
      },
      "cell_type": "markdown",
      "source": [
        "\n",
        "\n",
        "```\n",
        "`# This is formatted as code`\n",
        "```\n",
        "\n",
        "adjust latent dim to reduce reconstruction loss \n",
        "\n",
        "Generate images similar to 2 images that customer likes. \n",
        "\n",
        "Get the latent space of the the 2 images, and sample in that vicinity \n",
        "\n",
        "Find similar images \n",
        "\n",
        "Find image with common featutes\n",
        "\n",
        "Image substraction and addition ..(add 2 images and subtract 1 in latent space to find new image)\n",
        "\n",
        "Edit a video (drag slider to edit video in latent space)\n",
        "\n",
        "Edit a multispectral image (3 channel or 7 channel image)\n",
        "\n",
        "Real time audio denoising for cell phones\n",
        "\n",
        "Multicondition\n",
        "\n",
        "Cycle VAE (go from A to B using a encoderN/decoderM, then B to A using encoderM/decoderN. So eventually you are doing from A to A for the reconstruction loss that is across 2 vae combined). Hence given a image in A, this can generate a corresponding image in B. \n"
      ]
    },
    {
      "metadata": {
        "id": "cQCt014GpI_U",
        "colab_type": "text"
      },
      "cell_type": "markdown",
      "source": [
        "The VAE has a modular design. The encoder, decoder and VAE\n",
        "are 3 models that share weights. After training the VAE model,\n",
        "the encoder can be used to  generate latent vectors.\n",
        "The decoder can be used to generate MNIST digits by sampling the\n",
        "latent vector from a Gaussian distribution with mean=0 and std=1"
      ]
    },
    {
      "metadata": {
        "id": "PyRQXgMOo01A",
        "colab_type": "code",
        "outputId": "36dc31fe-16f0-449e-d331-036a9ea81633",
        "colab": {
          "base_uri": "https://localhost:8080/",
          "height": 34
        }
      },
      "cell_type": "code",
      "source": [
        "\n",
        "\n",
        "from keras.layers import Dense, Input\n",
        "from keras.layers import Conv2D, Flatten, Lambda\n",
        "from keras.layers import Reshape, Conv2DTranspose\n",
        "from keras.models import Model\n",
        "from keras.datasets import mnist, fashion_mnist, cifar10\n",
        "from keras.losses import mse, binary_crossentropy\n",
        "from keras.utils import plot_model\n",
        "from keras import backend as K\n",
        "\n",
        "import numpy as np\n",
        "import matplotlib.pyplot as plt\n",
        "import argparse\n",
        "import os\n",
        "\n",
        "\n",
        "# reparameterization trick\n",
        "# instead of sampling from Q(z|X), sample eps = N(0,I)\n",
        "# then z = z_mean + sqrt(var)*eps\n",
        "def sampling(args):\n",
        "    \"\"\"Reparameterization trick by sampling fr an isotropic unit Gaussian.\n",
        "    # Arguments:\n",
        "        args (tensor): mean and log of variance of Q(z|X)\n",
        "    # Returns:\n",
        "        z (tensor): sampled latent vector\n",
        "    \"\"\"\n",
        "\n",
        "    z_mean, z_log_var = args\n",
        "    batch = K.shape(z_mean)[0]\n",
        "    dim = K.int_shape(z_mean)[1]\n",
        "    # by default, random_normal has mean=0 and std=1.0\n",
        "    epsilon = 0 * K.random_normal(shape=(batch, dim))\n",
        "    return z_mean + K.exp(0.5 * z_log_var) * epsilon\n",
        "\n",
        "\n",
        "\n",
        "\n",
        "\n"
      ],
      "execution_count": 1,
      "outputs": [
        {
          "output_type": "stream",
          "text": [
            "Using TensorFlow backend.\n"
          ],
          "name": "stderr"
        }
      ]
    },
    {
      "metadata": {
        "id": "Kcao9tGmxetY",
        "colab_type": "code",
        "colab": {}
      },
      "cell_type": "code",
      "source": [
        "def plot_results2(models,\n",
        "                 data,\n",
        "                 batch_size=128,\n",
        "                 model_name=\"vae_mnist\"):\n",
        "    \"\"\"Plots labels and MNIST digits as function of 2-dim latent vector\n",
        "    # Arguments:\n",
        "        models (tuple): encoder and decoder models\n",
        "        data (tuple): test data and label\n",
        "        batch_size (int): prediction batch size\n",
        "        model_name (string): which model is using this function\n",
        "    \"\"\"\n",
        "\n",
        "    encoder, decoder = models\n",
        "    x_test, y_test = data\n",
        "    \n",
        "   # os.makedirs(model_name, exist_ok=True)\n",
        "\n",
        "    filename = os.path.join(model_name, \"vae_mean.png\")\n",
        "    # display a 2D plot of the digit classes in the latent space\n",
        "    z_mean, _, z = encoder.predict(x_test,\n",
        "                                   batch_size=batch_size)\n",
        "    \n",
        "    print(z_mean[:, 0])\n",
        "    plt.figure(figsize=(12, 10))\n",
        "    plt.scatter(z_mean[:, 0], z_mean[:, 1], c='r')\n",
        "\n",
        "#    plt.colorbar()\n",
        "    plt.xlabel(\"z[0]\")\n",
        "    plt.ylabel(\"z[1]\")\n",
        " #   plt.savefig(filename)\n",
        "    plt.show()\n",
        "    plt.scatter(z[:, 0], z[:, 1], c='g')\n",
        "    plt.show()\n",
        "\n",
        "\n",
        "\n",
        "\n",
        "\n"
      ],
      "execution_count": 0,
      "outputs": []
    },
    {
      "metadata": {
        "id": "J2zfhPL5rkeU",
        "colab_type": "code",
        "colab": {}
      },
      "cell_type": "code",
      "source": [
        "def plot_results(models,\n",
        "                 data,\n",
        "                 batch_size=128,\n",
        "                 model_name=\"vae_mnist\"):\n",
        "    \"\"\"Plots labels and MNIST digits as function of 2-dim latent vector\n",
        "    # Arguments:\n",
        "        models (tuple): encoder and decoder models\n",
        "        data (tuple): test data and label\n",
        "        batch_size (int): prediction batch size\n",
        "        model_name (string): which model is using this function\n",
        "    \"\"\"\n",
        "\n",
        "    encoder, decoder = models\n",
        "    x_test, y_test = data\n",
        "    os.makedirs(model_name, exist_ok=True)\n",
        "\n",
        "    filename = os.path.join(model_name, \"vae_mean.png\")\n",
        "    # display a 2D plot of the digit classes in the latent space\n",
        "    z_mean, _, _ = encoder.predict(x_test,\n",
        "                                   batch_size=batch_size)\n",
        "  #  plt.figure(figsize=(12, 10))\n",
        "  #  plt.scatter(z_mean[:, 0], z_mean[:, 1], c=y_test)\n",
        "  #  plt.colorbar()\n",
        "  #  plt.xlabel(\"z[0]\")\n",
        "  #  plt.ylabel(\"z[1]\")\n",
        "   # plt.savefig(filename)\n",
        "   # plt.show()\n",
        "\n",
        "    filename = os.path.join(model_name, \"digits_over_latent.png\")\n",
        "    # display a 30x30 2D manifold of digits\n",
        "    n = 30\n",
        "    digit_size = 32\n",
        "    figure = np.zeros((digit_size * n, digit_size * n, 3))\n",
        "    # linearly spaced coordinates corresponding to the 2D plot\n",
        "    # of digit classes in the latent space\n",
        "    grid_x = np.linspace(-4, 4, n)\n",
        "    grid_y = np.linspace(-4, 4, n)[::-1]\n",
        "\n",
        "    for i, yi in enumerate(grid_y):\n",
        "        for j, xi in enumerate(grid_x):\n",
        "            z_sample = np.array([[xi, yi]])\n",
        "            x_decoded = decoder.predict(z_sample)\n",
        "            digit = x_decoded[0].reshape(digit_size, digit_size, 3)\n",
        "            figure[i * digit_size: (i + 1) * digit_size,\n",
        "                   j * digit_size: (j + 1) * digit_size] = digit\n",
        "\n",
        "    plt.figure(figsize=(10, 10))\n",
        "    start_range = digit_size // 2\n",
        "    end_range = n * digit_size + start_range + 1\n",
        "    pixel_range = np.arange(start_range, end_range, digit_size)\n",
        "    sample_range_x = np.round(grid_x, 1)\n",
        "    sample_range_y = np.round(grid_y, 1)\n",
        "    plt.xticks(pixel_range, sample_range_x)\n",
        "    plt.yticks(pixel_range, sample_range_y)\n",
        "    plt.xlabel(\"z[0]\")\n",
        "    plt.ylabel(\"z[1]\")\n",
        "    plt.imshow(figure, cmap='Greys_r')\n",
        "    plt.savefig(filename)\n",
        "    plt.show()"
      ],
      "execution_count": 0,
      "outputs": []
    },
    {
      "metadata": {
        "id": "BOMShpXypQ3D",
        "colab_type": "code",
        "colab": {}
      },
      "cell_type": "code",
      "source": [
        "# MNIST dataset\n",
        "(x_train, y_train), (x_test, y_test) = cifar10.load_data()\n",
        "\n",
        "image_size = x_train.shape[1]\n",
        "x_train = np.reshape(x_train, [-1, image_size, image_size, 3])\n",
        "x_test = np.reshape(x_test, [-1, image_size, image_size, 3])\n",
        "x_train = x_train.astype('float32') / 255\n",
        "x_test = x_test.astype('float32') / 255\n",
        "\n",
        "# network parameters\n",
        "input_shape = (image_size, image_size, 3)\n",
        "batch_size = 128\n",
        "kernel_size = 3\n",
        "filters = 16\n",
        "latent_dim = 1024\n",
        "epochs = 30\n",
        "\n",
        "# VAE model = encoder + decoder\n",
        "# build encoder model\n",
        "inputs = Input(shape=input_shape, name='encoder_input')\n",
        "x = inputs\n",
        "for i in range(2):\n",
        "    filters *= 2\n",
        "    x = Conv2D(filters=filters,\n",
        "               kernel_size=kernel_size,\n",
        "               activation='relu',\n",
        "               strides=2,\n",
        "               padding='same')(x)\n",
        "\n",
        "# shape info needed to build decoder model\n",
        "shape = K.int_shape(x)\n",
        "\n"
      ],
      "execution_count": 0,
      "outputs": []
    },
    {
      "metadata": {
        "id": "hM5XFfzLpXem",
        "colab_type": "code",
        "colab": {}
      },
      "cell_type": "code",
      "source": [
        "# generate latent vector Q(z|X)\n",
        "x = Flatten()(x)\n",
        "x = Dense(1024, activation='relu')(x)\n",
        "z_mean = Dense(latent_dim, name='z_mean')(x)\n",
        "z_log_var = Dense(latent_dim, name='z_log_var')(x)\n",
        "\n"
      ],
      "execution_count": 0,
      "outputs": []
    },
    {
      "metadata": {
        "id": "pW0N_X6apb8u",
        "colab_type": "code",
        "colab": {}
      },
      "cell_type": "code",
      "source": [
        "# use reparameterization trick to push the sampling out as input\n",
        "# note that \"output_shape\" isn't necessary with the TensorFlow backend\n",
        "z = Lambda(sampling, output_shape=(latent_dim,), name='z')([z_mean, z_log_var])\n",
        "\n"
      ],
      "execution_count": 0,
      "outputs": []
    },
    {
      "metadata": {
        "id": "9Lvu9BTFpeHG",
        "colab_type": "code",
        "outputId": "dc335539-35ea-4b71-9211-2fc285b6c969",
        "colab": {
          "base_uri": "https://localhost:8080/",
          "height": 432
        }
      },
      "cell_type": "code",
      "source": [
        "# instantiate encoder model\n",
        "encoder = Model(inputs, [z_mean, z_log_var, z], name='encoder')\n",
        "encoder.summary()\n",
        "plot_model(encoder, to_file='vae_cnn_encoder.png', show_shapes=True)\n",
        "\n"
      ],
      "execution_count": 7,
      "outputs": [
        {
          "output_type": "stream",
          "text": [
            "__________________________________________________________________________________________________\n",
            "Layer (type)                    Output Shape         Param #     Connected to                     \n",
            "==================================================================================================\n",
            "encoder_input (InputLayer)      (None, 32, 32, 3)    0                                            \n",
            "__________________________________________________________________________________________________\n",
            "conv2d_1 (Conv2D)               (None, 16, 16, 32)   896         encoder_input[0][0]              \n",
            "__________________________________________________________________________________________________\n",
            "conv2d_2 (Conv2D)               (None, 8, 8, 64)     18496       conv2d_1[0][0]                   \n",
            "__________________________________________________________________________________________________\n",
            "flatten_1 (Flatten)             (None, 4096)         0           conv2d_2[0][0]                   \n",
            "__________________________________________________________________________________________________\n",
            "dense_1 (Dense)                 (None, 1024)         4195328     flatten_1[0][0]                  \n",
            "__________________________________________________________________________________________________\n",
            "z_mean (Dense)                  (None, 1024)         1049600     dense_1[0][0]                    \n",
            "__________________________________________________________________________________________________\n",
            "z_log_var (Dense)               (None, 1024)         1049600     dense_1[0][0]                    \n",
            "__________________________________________________________________________________________________\n",
            "z (Lambda)                      (None, 1024)         0           z_mean[0][0]                     \n",
            "                                                                 z_log_var[0][0]                  \n",
            "==================================================================================================\n",
            "Total params: 6,313,920\n",
            "Trainable params: 6,313,920\n",
            "Non-trainable params: 0\n",
            "__________________________________________________________________________________________________\n"
          ],
          "name": "stdout"
        }
      ]
    },
    {
      "metadata": {
        "id": "_4UtA5F4pgox",
        "colab_type": "code",
        "outputId": "da369113-a15e-4862-b612-d484e66903a4",
        "colab": {
          "base_uri": "https://localhost:8080/",
          "height": 345
        }
      },
      "cell_type": "code",
      "source": [
        "# build decoder model\n",
        "latent_inputs = Input(shape=(latent_dim,), name='z_sampling')\n",
        "x = Dense(shape[1] * shape[2] * shape[3], activation='relu')(latent_inputs)\n",
        "x = Reshape((shape[1], shape[2], shape[3]))(x)\n",
        "\n",
        "for i in range(2):\n",
        "    x = Conv2DTranspose(filters=filters,\n",
        "                        kernel_size=kernel_size,\n",
        "                        activation='relu',\n",
        "                        strides=2,\n",
        "                        padding='same')(x)\n",
        "    filters //= 2\n",
        "\n",
        "outputs = Conv2DTranspose(filters=3,\n",
        "                          kernel_size=kernel_size,\n",
        "                          activation='sigmoid',\n",
        "                          padding='same',\n",
        "                          name='decoder_output')(x)\n",
        "\n",
        "# instantiate decoder model\n",
        "decoder = Model(latent_inputs, outputs, name='decoder')\n",
        "decoder.summary()\n",
        "plot_model(decoder, to_file='vae_cnn_decoder.png', show_shapes=True)\n",
        "\n",
        "\n",
        "decoderVisvalizer = Model(latent_inputs, x, name='decoderVisuvalizer')\n",
        "plot_model(decoderVisvalizer, to_file='decoderVisuvalizer.png', show_shapes=True)\n",
        "\n",
        "\n"
      ],
      "execution_count": 8,
      "outputs": [
        {
          "output_type": "stream",
          "text": [
            "_________________________________________________________________\n",
            "Layer (type)                 Output Shape              Param #   \n",
            "=================================================================\n",
            "z_sampling (InputLayer)      (None, 1024)              0         \n",
            "_________________________________________________________________\n",
            "dense_2 (Dense)              (None, 4096)              4198400   \n",
            "_________________________________________________________________\n",
            "reshape_1 (Reshape)          (None, 8, 8, 64)          0         \n",
            "_________________________________________________________________\n",
            "conv2d_transpose_1 (Conv2DTr (None, 16, 16, 64)        36928     \n",
            "_________________________________________________________________\n",
            "conv2d_transpose_2 (Conv2DTr (None, 32, 32, 32)        18464     \n",
            "_________________________________________________________________\n",
            "decoder_output (Conv2DTransp (None, 32, 32, 3)         867       \n",
            "=================================================================\n",
            "Total params: 4,254,659\n",
            "Trainable params: 4,254,659\n",
            "Non-trainable params: 0\n",
            "_________________________________________________________________\n"
          ],
          "name": "stdout"
        }
      ]
    },
    {
      "metadata": {
        "id": "qZI9D-04pmHy",
        "colab_type": "code",
        "colab": {}
      },
      "cell_type": "code",
      "source": [
        "# instantiate VAE model\n",
        "outputs = decoder(encoder(inputs)[2])\n",
        "vae = Model(inputs, outputs, name='vae')\n",
        "\n"
      ],
      "execution_count": 0,
      "outputs": []
    },
    {
      "metadata": {
        "id": "BGa3z73HswEu",
        "colab_type": "code",
        "outputId": "f26d112f-ff54-4fa3-acfa-e15a5060009d",
        "colab": {
          "base_uri": "https://localhost:8080/",
          "height": 72
        }
      },
      "cell_type": "code",
      "source": [
        "whatisthis = encoder(inputs)\n",
        "print(whatisthis)\n",
        "\n",
        "print(whatisthis[2])"
      ],
      "execution_count": 10,
      "outputs": [
        {
          "output_type": "stream",
          "text": [
            "[<tf.Tensor 'encoder/z_mean/BiasAdd:0' shape=(?, 1024) dtype=float32>, <tf.Tensor 'encoder/z_log_var/BiasAdd:0' shape=(?, 1024) dtype=float32>, <tf.Tensor 'encoder/z/add:0' shape=(?, 1024) dtype=float32>]\n",
            "Tensor(\"encoder/z/add:0\", shape=(?, 1024), dtype=float32)\n"
          ],
          "name": "stdout"
        }
      ]
    },
    {
      "metadata": {
        "id": "fhH5HHfJpomq",
        "colab_type": "code",
        "outputId": "9bf2385f-cba6-4207-a36a-f5356cbf00fb",
        "colab": {
          "base_uri": "https://localhost:8080/",
          "height": 345
        }
      },
      "cell_type": "code",
      "source": [
        "\n",
        "models = (encoder, decoder)\n",
        "data = (x_test, y_test)\n",
        "\n",
        "typeoflossfun = True \n",
        "    # VAE loss = mse_loss or xent_loss + kl_loss\n",
        "if typeoflossfun:\n",
        "        reconstruction_loss = mse(K.flatten(inputs), K.flatten(outputs))\n",
        "else:\n",
        "        reconstruction_loss = binary_crossentropy(K.flatten(inputs),\n",
        "                                                  K.flatten(outputs))\n",
        "\n",
        "reconstruction_loss *= image_size * image_size\n",
        "kl_loss = 1 + z_log_var - K.square(z_mean) - K.exp(z_log_var)\n",
        "kl_loss = K.sum(kl_loss, axis=-1)\n",
        "kl_loss *= -0.5\n",
        "vae_loss = K.mean(reconstruction_loss + kl_loss)\n",
        "vae.add_loss(vae_loss)\n",
        "vae.compile(optimizer='rmsprop')\n",
        "vae.summary()\n",
        "    \n",
        "plot_model(vae, to_file='vae_cnn.png', show_shapes=True)\n",
        "\n",
        "        # train the autoencoder\n",
        "vae.fit(x_train,\n",
        "                epochs=2,\n",
        "                batch_size=batch_size,\n",
        "                validation_data=(x_test, None))\n",
        "        \n",
        "#vae.save_weights('vae_cnn_mnist.h5')\n",
        "\n"
      ],
      "execution_count": 11,
      "outputs": [
        {
          "output_type": "stream",
          "text": [
            "_________________________________________________________________\n",
            "Layer (type)                 Output Shape              Param #   \n",
            "=================================================================\n",
            "encoder_input (InputLayer)   (None, 32, 32, 3)         0         \n",
            "_________________________________________________________________\n",
            "encoder (Model)              [(None, 1024), (None, 102 6313920   \n",
            "_________________________________________________________________\n",
            "decoder (Model)              (None, 32, 32, 3)         4254659   \n",
            "=================================================================\n",
            "Total params: 10,568,579\n",
            "Trainable params: 10,568,579\n",
            "Non-trainable params: 0\n",
            "_________________________________________________________________\n",
            "Train on 50000 samples, validate on 10000 samples\n",
            "Epoch 1/2\n",
            "50000/50000 [==============================] - 18s 364us/step - loss: 34.7262 - val_loss: 23.7036\n",
            "Epoch 2/2\n",
            "50000/50000 [==============================] - 16s 320us/step - loss: 20.2395 - val_loss: 16.6036\n"
          ],
          "name": "stdout"
        },
        {
          "output_type": "execute_result",
          "data": {
            "text/plain": [
              "<keras.callbacks.History at 0x7f7061256908>"
            ]
          },
          "metadata": {
            "tags": []
          },
          "execution_count": 11
        }
      ]
    },
    {
      "metadata": {
        "id": "huF5I_Cb5n8a",
        "colab_type": "code",
        "colab": {}
      },
      "cell_type": "code",
      "source": [
        "#additional training\n"
      ],
      "execution_count": 0,
      "outputs": []
    },
    {
      "metadata": {
        "id": "pMwwC-xSszji",
        "colab_type": "code",
        "colab": {}
      },
      "cell_type": "code",
      "source": [
        "from google.colab import files\n",
        "files.download('vae_cnn_decoder.png')\n",
        "files.download('vae_cnn_encoder.png')\n",
        "files.download('vae_cnn.png')\n",
        "files.download('decoderVisuvalizer.png')\n",
        "\n"
      ],
      "execution_count": 0,
      "outputs": []
    },
    {
      "metadata": {
        "id": "wvpCWW3uV2va",
        "colab_type": "code",
        "colab": {
          "base_uri": "https://localhost:8080/",
          "height": 224
        },
        "outputId": "d0e6771f-1f7d-462d-dd18-20599f89f91b"
      },
      "cell_type": "code",
      "source": [
        "vae.fit(x_train,\n",
        "                epochs=5,\n",
        "                batch_size=batch_size,\n",
        "                validation_data=(x_test, None))"
      ],
      "execution_count": 16,
      "outputs": [
        {
          "output_type": "stream",
          "text": [
            "Train on 50000 samples, validate on 10000 samples\n",
            "Epoch 1/5\n",
            "50000/50000 [==============================] - 16s 325us/step - loss: 16.8714 - val_loss: 14.4058\n",
            "Epoch 2/5\n",
            "50000/50000 [==============================] - 16s 322us/step - loss: 15.1505 - val_loss: 14.3891\n",
            "Epoch 3/5\n",
            "50000/50000 [==============================] - 16s 321us/step - loss: 13.9485 - val_loss: 15.7464\n",
            "Epoch 4/5\n",
            "50000/50000 [==============================] - 16s 321us/step - loss: 12.9596 - val_loss: 14.5967\n",
            "Epoch 5/5\n",
            "50000/50000 [==============================] - 16s 321us/step - loss: 12.2141 - val_loss: 11.6540\n"
          ],
          "name": "stdout"
        },
        {
          "output_type": "execute_result",
          "data": {
            "text/plain": [
              "<keras.callbacks.History at 0x7f705729ae80>"
            ]
          },
          "metadata": {
            "tags": []
          },
          "execution_count": 16
        }
      ]
    },
    {
      "metadata": {
        "id": "sR7AK0HUuhgb",
        "colab_type": "code",
        "colab": {
          "base_uri": "https://localhost:8080/",
          "height": 397
        },
        "outputId": "9ad16126-d885-4a6f-8850-df5a10b96a62"
      },
      "cell_type": "code",
      "source": [
        "vae.fit(x_train,\n",
        "                epochs=10,\n",
        "                batch_size=batch_size,\n",
        "                validation_data=(x_test, None))"
      ],
      "execution_count": 17,
      "outputs": [
        {
          "output_type": "stream",
          "text": [
            "Train on 50000 samples, validate on 10000 samples\n",
            "Epoch 1/10\n",
            "50000/50000 [==============================] - 16s 324us/step - loss: 11.5813 - val_loss: 11.9624\n",
            "Epoch 2/10\n",
            "50000/50000 [==============================] - 16s 323us/step - loss: 11.0727 - val_loss: 11.9481\n",
            "Epoch 3/10\n",
            "50000/50000 [==============================] - 16s 321us/step - loss: 10.6728 - val_loss: 10.9427\n",
            "Epoch 4/10\n",
            "50000/50000 [==============================] - 16s 321us/step - loss: 10.2765 - val_loss: 10.3206\n",
            "Epoch 5/10\n",
            "50000/50000 [==============================] - 16s 321us/step - loss: 9.9029 - val_loss: 9.5929\n",
            "Epoch 6/10\n",
            "50000/50000 [==============================] - 16s 322us/step - loss: 9.6347 - val_loss: 10.2157\n",
            "Epoch 7/10\n",
            "50000/50000 [==============================] - 16s 322us/step - loss: 9.3403 - val_loss: 8.7224\n",
            "Epoch 8/10\n",
            "50000/50000 [==============================] - 16s 318us/step - loss: 9.0883 - val_loss: 9.1530\n",
            "Epoch 9/10\n",
            "50000/50000 [==============================] - 16s 318us/step - loss: 8.8435 - val_loss: 8.8879\n",
            "Epoch 10/10\n",
            "50000/50000 [==============================] - 16s 321us/step - loss: 8.6162 - val_loss: 8.2189\n"
          ],
          "name": "stdout"
        },
        {
          "output_type": "execute_result",
          "data": {
            "text/plain": [
              "<keras.callbacks.History at 0x7f70af2cde10>"
            ]
          },
          "metadata": {
            "tags": []
          },
          "execution_count": 17
        }
      ]
    },
    {
      "metadata": {
        "id": "65RnGGv0sVIg",
        "colab_type": "code",
        "colab": {}
      },
      "cell_type": "code",
      "source": [
        "#plot_results(models, data, batch_size=batch_size, model_name=\"vae_cnn\")"
      ],
      "execution_count": 0,
      "outputs": []
    },
    {
      "metadata": {
        "id": "k5urYbqqt7U6",
        "colab_type": "code",
        "colab": {
          "base_uri": "https://localhost:8080/",
          "height": 971
        },
        "outputId": "344d8e44-8199-46ad-9e8c-5781c985a182"
      },
      "cell_type": "code",
      "source": [
        "plot_results2(models, data, batch_size=batch_size, model_name=\"vae_cnn\")"
      ],
      "execution_count": 18,
      "outputs": [
        {
          "output_type": "stream",
          "text": [
            "[ 0.02294509 -0.0028751   0.02781731 ...  0.02691717 -0.01721063\n",
            " -0.00985186]\n"
          ],
          "name": "stdout"
        },
        {
          "output_type": "display_data",
          "data": {
            "image/png": "[encoded data removed]",
            "text/plain": [
              "<matplotlib.figure.Figure at 0x7f705724c2b0>"
            ]
          },
          "metadata": {
            "tags": []
          }
        },
        {
          "output_type": "display_data",
          "data": {
            "image/png": "[encoded data removed]",
            "text/plain": [
              "<matplotlib.figure.Figure at 0x7f70571f2320>"
            ]
          },
          "metadata": {
            "tags": []
          }
        }
      ]
    },
    {
      "metadata": {
        "id": "WX_9XNA0a1tx",
        "colab_type": "code",
        "colab": {}
      },
      "cell_type": "code",
      "source": [
        ""
      ],
      "execution_count": 0,
      "outputs": []
    },
    {
      "metadata": {
        "id": "1AmSUrt4d8Tt",
        "colab_type": "code",
        "colab": {}
      },
      "cell_type": "code",
      "source": [
        ""
      ],
      "execution_count": 0,
      "outputs": []
    },
    {
      "metadata": {
        "id": "ZIppQqjYv1oe",
        "colab_type": "code",
        "outputId": "35f8ea6b-7579-4ce0-8dec-7f9edbcdbc1b",
        "colab": {
          "base_uri": "https://localhost:8080/",
          "height": 697
        }
      },
      "cell_type": "code",
      "source": [
        "#@title 1. Select the image and find its latent vector. { run: \"auto\" }\n",
        "\n",
        "sampleimage = \"4\" #@param [\"1\", \"2\", \"3\"] {allow-input: true}\n",
        "\n",
        "imagenumber = int(sampleimage)\n",
        "\n",
        "whatisthis = encoder.predict(x_train[0+imagenumber:1+imagenumber])\n",
        "\n",
        "thislatentvector = whatisthis[2]\n",
        "\n",
        "imagenumber = imagenumber\n",
        "aimageset = x_train[0+imagenumber:1+imagenumber]\n",
        "aimage = aimageset[0]\n",
        "\n",
        "#print(aimage.shape)\n",
        "\n",
        "plt.figure(figsize=(8, 2))\n",
        "plt.imshow(aimage)\n",
        "plt.show()\n",
        "\n",
        "#print( whatisthis[2])\n",
        "\n",
        "  \n",
        "\n",
        "z_sample = thislatentvector\n",
        "\n",
        "x_decoded = decoder.predict( [z_sample] )\n",
        "digit = x_decoded[0].reshape(digit_size, digit_size, 3)\n",
        "\n",
        "for i in range(12):\n",
        "  print(int(round( thislatentvector[0][i]) ))\n",
        "\n",
        "plt.axis('off')\n",
        "plt.imshow(digit)\n",
        "plt.show()"
      ],
      "execution_count": 23,
      "outputs": [
        {
          "output_type": "display_data",
          "data": {
            "image/png": "[encoded data removed]",
            "text/plain": [
              "<matplotlib.figure.Figure at 0x7f70611f0ac8>"
            ]
          },
          "metadata": {
            "tags": []
          }
        },
        {
          "output_type": "stream",
          "text": [
            "0\n",
            "0\n",
            "0\n",
            "0\n",
            "0\n",
            "0\n",
            "0\n",
            "0\n",
            "0\n",
            "0\n",
            "0\n",
            "0\n"
          ],
          "name": "stdout"
        },
        {
          "output_type": "display_data",
          "data": {
            "image/png": "[encoded data removed]",
            "text/plain": [
              "<matplotlib.figure.Figure at 0x7f705690eba8>"
            ]
          },
          "metadata": {
            "tags": []
          }
        }
      ]
    },
    {
      "metadata": {
        "id": "4On_m-rN5df2",
        "colab_type": "code",
        "cellView": "form",
        "colab": {}
      },
      "cell_type": "code",
      "source": [
        "#@title\n",
        "def createaimage(i1, i2, i3, i4 , i5, i6, i7, i8 , i9, i10, i11, i12):\n",
        "  digit_size = 32\n",
        "\n",
        "\n",
        "  plt.figure(figsize=(10, 4))\n",
        "  for i in range(20):\n",
        "      c = np_utils.to_categorical(0, 10)\n",
        "    #  z_sample = np.random.rand(1, 2, 3, 4 , 1, 2 , 3, 4, 1, 1, 1, 1) # random \n",
        "\n",
        "      z_sample = np.array( [[-4, 0.1*i*10, 0, 0, 0, 0 ,0 ,0 ,0 ,0, 0, 0]] )\n",
        "      z_sample = np.array( [[i1, i2, i3, i4, i5, i6, i7, i8, i9, i10, i11, i12]] )\n",
        "\n",
        "    #  print(z_sample.shape)\n",
        "    #  print(z_sample)\n",
        "      c = c.reshape(1, 10)\n",
        "\n",
        "      x_decoded = decoder.predict( [z_sample] )\n",
        "      digit = x_decoded[0].reshape(digit_size, digit_size, 3)\n",
        "\n",
        "      plt.subplot(1, 20, i+1)\n",
        "      plt.axis('off')\n",
        "      plt.imshow(digit)\n",
        "  plt.show()"
      ],
      "execution_count": 0,
      "outputs": []
    },
    {
      "metadata": {
        "id": "Vqvxbzlr8vNH",
        "colab_type": "code",
        "cellView": "both",
        "colab": {}
      },
      "cell_type": "code",
      "source": [
        ""
      ],
      "execution_count": 0,
      "outputs": []
    },
    {
      "metadata": {
        "id": "pZRtrpOiXzq5",
        "colab_type": "code",
        "colab": {}
      },
      "cell_type": "code",
      "source": [
        "def createaimage(i1, i2, i3, i4 , i5, i6, i7, i8 , i9, i10, i11, i12):\n",
        "  digit_size = 32\n",
        "\n",
        "\n",
        "  plt.figure(figsize=(10, 10))\n",
        "  for i in range(1):\n",
        "      c = np_utils.to_categorical(0, 10)\n",
        "    #  z_sample = np.random.rand(1, 2, 3, 4 , 1, 2 , 3, 4, 1, 1, 1, 1) # random \n",
        "\n",
        "      z_sample = np.array( [[-4, 0.1*i*10, 0, 0, 0, 0 ,0 ,0 ,0 ,0, 0, 0]] )\n",
        "      z_sample = np.array( [[i1, i2, i3, i4, i5, i6, i7, i8, i9, i10, i11, i12]] )\n",
        "\n",
        "    #  print(z_sample.shape)\n",
        "    #  print(z_sample)\n",
        "      c = c.reshape(1, 10)\n",
        "\n",
        "      x_decoded = decoder.predict( [z_sample] )\n",
        "      digit = x_decoded[0].reshape(digit_size, digit_size, 3)\n",
        "\n",
        "      plt.subplot(1, 1, i+1)\n",
        "      plt.axis('off')\n",
        "      plt.imshow(digit)\n",
        "  plt.show()"
      ],
      "execution_count": 0,
      "outputs": []
    },
    {
      "metadata": {
        "id": "dkzynH_75YeA",
        "colab_type": "code",
        "cellView": "both",
        "colab": {}
      },
      "cell_type": "code",
      "source": [
        ""
      ],
      "execution_count": 0,
      "outputs": []
    },
    {
      "metadata": {
        "id": "Po_wMKPw75rm",
        "colab_type": "code",
        "colab": {}
      },
      "cell_type": "code",
      "source": [
        "#@title 1. Select the image and find its latent vector. { run: \"auto\" }\n",
        "\n",
        "sampleimage = \"1\" #@param [\"1\", \"2\", \"3\"] {allow-input: true}\n",
        "\n",
        "imagenumber = int(sampleimage)\n",
        "\n",
        "whatisthis = encoder.predict(x_train[0+imagenumber:1+imagenumber])\n",
        "\n",
        "thislatentvector = whatisthis[2]\n",
        "\n",
        "imagenumber = imagenumber\n",
        "aimageset = x_train[0+imagenumber:1+imagenumber]\n",
        "aimage = aimageset[0]\n",
        "\n",
        "#print(aimage.shape)\n",
        "\n",
        "plt.figure(figsize=(8, 2))\n",
        "plt.imshow(aimage)\n",
        "plt.show()\n",
        "\n",
        "#print( whatisthis[2])\n",
        "\n",
        "  \n",
        "z_sample = np.array( [[i1, i2, i3, i4, i5, i6, i7, i8, i9, i10, i11, i12]] )\n",
        "\n",
        "z_sample = thislatentvector\n",
        "\n",
        "x_decoded = decoder.predict( [z_sample] )\n",
        "digit = x_decoded[0].reshape(digit_size, digit_size, 3)\n",
        "\n",
        "for i in range(12):\n",
        "  print(int(round( thislatentvector[0][i]) ))\n",
        "\n",
        "plt.axis('off')\n",
        "plt.imshow(digit)\n",
        "plt.show()"
      ],
      "execution_count": 0,
      "outputs": []
    },
    {
      "metadata": {
        "id": "5uQPifJ-X7sU",
        "colab_type": "code",
        "colab": {}
      },
      "cell_type": "code",
      "source": [
        "imagenumber = 1\n",
        "aimageset = x_train[0+imagenumber:1+imagenumber]\n",
        "aimage = aimageset[0]\n",
        "\n",
        "#print(aimage.shape)\n",
        "\n",
        "print(y_train[0+imagenumber])\n",
        "plt.figure(figsize=(8, 2))\n",
        "plt.imshow(aimage)\n",
        "plt.show()\n",
        "\n",
        "\n",
        "\n",
        "\n",
        "\n"
      ],
      "execution_count": 0,
      "outputs": []
    },
    {
      "metadata": {
        "id": "vDyqD3efYgDy",
        "colab_type": "code",
        "colab": {}
      },
      "cell_type": "code",
      "source": [
        "latentrepresentationofthisimage = encoder.predict(x_train[0+imagenumber:1+imagenumber])\n",
        "thislatentvector = latentrepresentationofthisimage[2]\n",
        "\n",
        "print(latentrepresentationofthisimage)\n"
      ],
      "execution_count": 0,
      "outputs": []
    },
    {
      "metadata": {
        "id": "hbSdO8Om5UON",
        "colab_type": "code",
        "colab": {}
      },
      "cell_type": "code",
      "source": [
        "from keras.utils import np_utils\n",
        "digit_size = 32\n",
        "\n",
        "\n",
        "plt.figure(figsize=(10, 8))\n",
        "for i in range(20):\n",
        "    c = np_utils.to_categorical(0, 10)\n",
        "    z_sample = np.random.rand(1, 2) # random \n",
        "\n",
        "    z_sample = np.array( [[-4, 0.1*i*10, 0, 0, 0, 0 ,0 ,0 ,0 ,0, 0, 0]] )\n",
        "  #   print(z_sample.shape)\n",
        "  #  print(z_sample)\n",
        "    c = c.reshape(1, 10)\n",
        "\n",
        "    x_decoded32 = decoderVisvalizer.predict( [z_sample] )\n",
        "   # print(x_decoded32.shape)\n",
        "   # print(x_decoded32.shape[3])\n",
        "    noofchannels = x_decoded32.shape[3] \n",
        "    \n",
        "        #say 32\n",
        "    heightoftensor = x_decoded32.shape[1] \n",
        "    widthoftensor = x_decoded32.shape[2] \n",
        "    channelPplotcount = 0\n",
        "    for channelP in range(0, 30, 3):\n",
        "      x_decoded = np.copy(x_decoded32)\n",
        "     # print(channelP)\n",
        "      x_decoded = x_decoded[:,:,:, channelP:channelP+3]  \n",
        "     # print(x_decoded.shape)\n",
        "      digit = x_decoded[0].reshape(heightoftensor, widthoftensor, 3) \n",
        "      channelPplotcount = channelPplotcount + 1\n",
        "      plt.subplot(10, 20, i*30/3  + channelPplotcount)\n",
        "      plt.axis('off')\n",
        "      plt.imshow(digit)\n",
        "plt.show()"
      ],
      "execution_count": 0,
      "outputs": []
    }
  ]
}