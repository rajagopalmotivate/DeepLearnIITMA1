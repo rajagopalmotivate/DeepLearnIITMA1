{
  "nbformat": 4,
  "nbformat_minor": 0,
  "metadata": {
    "colab": {
      "name": "Untitled2.ipynb",
      "version": "0.3.2",
      "provenance": [],
      "include_colab_link": true
    },
    "kernelspec": {
      "name": "python3",
      "display_name": "Python 3"
    },
    "accelerator": "GPU"
  },
  "cells": [
    {
      "cell_type": "markdown",
      "metadata": {
        "id": "view-in-github",
        "colab_type": "text"
      },
      "source": [
        "[View in Colaboratory](https://colab.research.google.com/github/rajagopalmotivate/DeepLearnIITMA1/blob/master/LoadmodelandVisuvalizeOcculusion.ipynb)"
      ]
    },
    {
      "metadata": {
        "id": "G4JcjSMkCr72",
        "colab_type": "code",
        "colab": {}
      },
      "cell_type": "code",
      "source": [
        ""
      ],
      "execution_count": 0,
      "outputs": []
    },
    {
      "metadata": {
        "id": "vKwRu2mxCtDP",
        "colab_type": "code",
        "colab": {
          "base_uri": "https://localhost:8080/",
          "height": 284
        },
        "outputId": "908ec07d-4eca-42db-8028-220d03ea21ac"
      },
      "cell_type": "code",
      "source": [
        "!wget \"https://github.com/rajagopalmotivate/DeepLearnIITMA1/blob/master/mycifar_1B_model2101s.h5?raw=true\"\n",
        "!wget \"https://github.com/rajagopalmotivate/DeepLearnIITMA1/raw/master/mycifar_1B_model2101s.h5\"\n",
        "!wget \"https://newonedisks177.blob.core.windows.net/visualimpariedlearningaudio/cifar_1B_model2101s.json\"\n",
        "!wget \"https://newonedisks177.blob.core.windows.net/visualimpariedlearningaudio/cifar_1B_model2101s.h5\"\n",
        "!wget \"https://github.com/rajagopalmotivate/DeepLearnIITMA1/blob/master/cifar_1B_model2201s.json\"\n",
        "!wget \"https://github.com/rajagopalmotivate/DeepLearnIITMA1/blob/master/cifar_1B_model2201s.h5\"\n",
        "!wget \"https://github.com/rajagopalmotivate/DeepLearnIITMA1/blob/master/cifar_1B_model2301s.json\"\n",
        "!wget \"https://github.com/rajagopalmotivate/DeepLearnIITMA1/blob/master/cifar_1B_model2301s.h5\"\n",
        "\n"
      ],
      "execution_count": 4,
      "outputs": [
        {
          "output_type": "stream",
          "text": [
            "\n",
            "Redirecting output to ‘wget-log.7’.\n",
            "\n",
            "Redirecting output to ‘wget-log.8’.\n",
            "\n",
            "Redirecting output to ‘wget-log.9’.\n",
            "\n",
            "Redirecting output to ‘wget-log.10’.\n",
            "\n",
            "Redirecting output to ‘wget-log.11’.\n",
            "\n",
            "Redirecting output to ‘wget-log.12’.\n",
            "\n",
            "Redirecting output to ‘wget-log.13’.\n",
            "\n",
            "Redirecting output to ‘wget-log.14’.\n"
          ],
          "name": "stdout"
        }
      ]
    },
    {
      "metadata": {
        "id": "rB1GaCgMC9sB",
        "colab_type": "code",
        "colab": {
          "base_uri": "https://localhost:8080/",
          "height": 33
        },
        "outputId": "4ef9fbcb-d0d8-4b8c-8f8a-c1464f09cb52"
      },
      "cell_type": "code",
      "source": [
        "from keras import backend as K\n",
        "import tensorflow as tf\n",
        "from keras import Input\n",
        "from keras import layers\n",
        "from keras import datasets\n",
        "import numpy as np\n",
        "from keras import utils\n",
        "from keras.models import  Model\n",
        "from keras.utils import plot_model\n",
        "import keras\n",
        "import os\n",
        "from keras.callbacks import TensorBoard, ModelCheckpoint, EarlyStopping\n",
        "from keras.models import model_from_json\n",
        "\n",
        "from sklearn.metrics import classification_report\n",
        "from decimal import Decimal\n",
        "import  matplotlib.pyplot as plt\n",
        "from scipy.misc import toimage\n",
        "from keras.preprocessing.image import ImageDataGenerator\n",
        "import copy\n",
        "import numpy as np\n",
        "\n",
        "import matplotlib.pyplot as plt\n",
        "from keras.models import load_model\n",
        "\n"
      ],
      "execution_count": 2,
      "outputs": [
        {
          "output_type": "stream",
          "text": [
            "Using TensorFlow backend.\n"
          ],
          "name": "stderr"
        }
      ]
    },
    {
      "metadata": {
        "id": "grBYyWVU11qs",
        "colab_type": "code",
        "colab": {}
      },
      "cell_type": "code",
      "source": [
        "model = load_model('mycifar_1B_model2101s.h5')\n"
      ],
      "execution_count": 0,
      "outputs": []
    },
    {
      "metadata": {
        "id": "qoM3L_9crtdJ",
        "colab_type": "code",
        "colab": {
          "base_uri": "https://localhost:8080/",
          "height": 516
        },
        "outputId": "ea50f947-a1b4-4061-dfc8-74d8226e530e"
      },
      "cell_type": "code",
      "source": [
        "import json\n",
        "import urllib.request\n",
        "import requests\n",
        "\n",
        "\n",
        "connection = urllib.request.urlopen('https://newonedisks177.blob.core.windows.net/visualimpariedlearningaudio/cifar_1B_model2101s.json')\n",
        "\n",
        "js = connection.read()\n",
        "\n",
        "print(js)\n",
        "\n",
        "\n",
        "\n",
        "info = json.loads(js.decode(\"utf-8\"))\n",
        "\n",
        "print(info)\n",
        "myloadedmodel = model_from_json(info)\n",
        "\n",
        "connection.close()\n",
        "\n",
        "\n",
        "\n",
        "\n",
        "\n"
      ],
      "execution_count": 43,
      "outputs": [
        {
          "output_type": "stream",
          "text": [
            "b'{\"class_name\": \"Model\", \"config\": {\"name\": \"model_2\", \"layers\": [{\"name\": \"1\", \"class_name\": \"InputLayer\", \"config\": {\"batch_input_shape\": [null, 32, 32, 3], \"dtype\": \"float32\", \"sparse\": false, \"name\": \"1\"}, \"inbound_nodes\": []}, {\"name\": \"CNNlayer1\", \"class_name\": \"Conv2D\", \"config\": {\"name\": \"CNNlayer1\", \"trainable\": true, \"filters\": 32, \"kernel_size\": [3, 3], \"strides\": [1, 1], \"padding\": \"valid\", \"data_format\": \"channels_last\", \"dilation_rate\": [1, 1], \"activation\": \"relu\", \"use_bias\": true, \"kernel_initializer\": {\"class_name\": \"VarianceScaling\", \"config\": {\"scale\": 1.0, \"mode\": \"fan_avg\", \"distribution\": \"uniform\", \"seed\": null}}, \"bias_initializer\": {\"class_name\": \"Zeros\", \"config\": {}}, \"kernel_regularizer\": null, \"bias_regularizer\": null, \"activity_regularizer\": null, \"kernel_constraint\": null, \"bias_constraint\": null}, \"inbound_nodes\": [[[\"1\", 0, 0, {}]]]}, {\"name\": \"batch_normalization_7\", \"class_name\": \"BatchNormalization\", \"config\": {\"name\": \"batch_normalization_7\", \"trainable\": true, \"axis\": -1, \"momentum\": 0.99, \"epsilon\": 0.001, \"center\": true, \"scale\": true, \"beta_initializer\": {\"class_name\": \"Zeros\", \"config\": {}}, \"gamma_initializer\": {\"class_name\": \"Ones\", \"config\": {}}, \"moving_mean_initializer\": {\"class_name\": \"Zeros\", \"config\": {}}, \"moving_variance_initializer\": {\"class_name\": \"Ones\", \"config\": {}}, \"beta_regularizer\": null, \"gamma_regularizer\": null, \"beta_constraint\": null, \"gamma_constraint\": null}, \"inbound_nodes\": [[[\"CNNlayer1\", 0, 0, {}]]]}, {\"name\": \"CNNlayer2\", \"class_name\": \"Conv2D\", \"config\": {\"name\": \"CNNlayer2\", \"trainable\": true, \"filters\": 32, \"kernel_size\": [3, 3], \"strides\": [1, 1], \"padding\": \"valid\", \"data_format\": \"channels_last\", \"dilation_rate\": [1, 1], \"activation\": \"relu\", \"use_bias\": true, \"kernel_initializer\": {\"class_name\": \"VarianceScaling\", \"config\": {\"scale\": 1.0, \"mode\": \"fan_avg\", \"distribution\": \"uniform\", \"seed\": null}}, \"bias_initializer\": {\"class_name\": \"Zeros\", \"config\": {}}, \"kernel_regularizer\": null, \"bias_regularizer\": null, \"activity_regularizer\": null, \"kernel_constraint\": null, \"bias_constraint\": null}, \"inbound_nodes\": [[[\"batch_normalization_7\", 0, 0, {}]]]}, {\"name\": \"batch_normalization_8\", \"class_name\": \"BatchNormalization\", \"config\": {\"name\": \"batch_normalization_8\", \"trainable\": true, \"axis\": -1, \"momentum\": 0.99, \"epsilon\": 0.001, \"center\": true, \"scale\": true, \"beta_initializer\": {\"class_name\": \"Zeros\", \"config\": {}}, \"gamma_initializer\": {\"class_name\": \"Ones\", \"config\": {}}, \"moving_mean_initializer\": {\"class_name\": \"Zeros\", \"config\": {}}, \"moving_variance_initializer\": {\"class_name\": \"Ones\", \"config\": {}}, \"beta_regularizer\": null, \"gamma_regularizer\": null, \"beta_constraint\": null, \"gamma_constraint\": null}, \"inbound_nodes\": [[[\"CNNlayer2\", 0, 0, {}]]]}, {\"name\": \"MaxPool3\", \"class_name\": \"MaxPooling2D\", \"config\": {\"name\": \"MaxPool3\", \"trainable\": true, \"pool_size\": [2, 2], \"padding\": \"valid\", \"strides\": [2, 2], \"data_format\": \"channels_last\"}, \"inbound_nodes\": [[[\"batch_normalization_8\", 0, 0, {}]]]}, {\"name\": \"dropout_6\", \"class_name\": \"Dropout\", \"config\": {\"name\": \"dropout_6\", \"trainable\": true, \"rate\": 0.0, \"noise_shape\": null, \"seed\": null}, \"inbound_nodes\": [[[\"MaxPool3\", 0, 0, {}]]]}, {\"name\": \"CNNlayer4\", \"class_name\": \"Conv2D\", \"config\": {\"name\": \"CNNlayer4\", \"trainable\": true, \"filters\": 64, \"kernel_size\": [3, 3], \"strides\": [1, 1], \"padding\": \"valid\", \"data_format\": \"channels_last\", \"dilation_rate\": [1, 1], \"activation\": \"relu\", \"use_bias\": true, \"kernel_initializer\": {\"class_name\": \"VarianceScaling\", \"config\": {\"scale\": 1.0, \"mode\": \"fan_avg\", \"distribution\": \"uniform\", \"seed\": null}}, \"bias_initializer\": {\"class_name\": \"Zeros\", \"config\": {}}, \"kernel_regularizer\": null, \"bias_regularizer\": null, \"activity_regularizer\": null, \"kernel_constraint\": null, \"bias_constraint\": null}, \"inbound_nodes\": [[[\"dropout_6\", 0, 0, {}]]]}, {\"name\": \"batch_normalization_9\", \"class_name\": \"BatchNormalization\", \"config\": {\"name\": \"batch_normalization_9\", \"trainable\": true, \"axis\": -1, \"momentum\": 0.99, \"epsilon\": 0.001, \"center\": true, \"scale\": true, \"beta_initializer\": {\"class_name\": \"Zeros\", \"config\": {}}, \"gamma_initializer\": {\"class_name\": \"Ones\", \"config\": {}}, \"moving_mean_initializer\": {\"class_name\": \"Zeros\", \"config\": {}}, \"moving_variance_initializer\": {\"class_name\": \"Ones\", \"config\": {}}, \"beta_regularizer\": null, \"gamma_regularizer\": null, \"beta_constraint\": null, \"gamma_constraint\": null}, \"inbound_nodes\": [[[\"CNNlayer4\", 0, 0, {}]]]}, {\"name\": \"CNNlayer5\", \"class_name\": \"Conv2D\", \"config\": {\"name\": \"CNNlayer5\", \"trainable\": true, \"filters\": 64, \"kernel_size\": [3, 3], \"strides\": [1, 1], \"padding\": \"valid\", \"data_format\": \"channels_last\", \"dilation_rate\": [1, 1], \"activation\": \"relu\", \"use_bias\": true, \"kernel_initializer\": {\"class_name\": \"VarianceScaling\", \"config\": {\"scale\": 1.0, \"mode\": \"fan_avg\", \"distribution\": \"uniform\", \"seed\": null}}, \"bias_initializer\": {\"class_name\": \"Zeros\", \"config\": {}}, \"kernel_regularizer\": null, \"bias_regularizer\": null, \"activity_regularizer\": null, \"kernel_constraint\": null, \"bias_constraint\": null}, \"inbound_nodes\": [[[\"batch_normalization_9\", 0, 0, {}]]]}, {\"name\": \"batch_normalization_10\", \"class_name\": \"BatchNormalization\", \"config\": {\"name\": \"batch_normalization_10\", \"trainable\": true, \"axis\": -1, \"momentum\": 0.99, \"epsilon\": 0.001, \"center\": true, \"scale\": true, \"beta_initializer\": {\"class_name\": \"Zeros\", \"config\": {}}, \"gamma_initializer\": {\"class_name\": \"Ones\", \"config\": {}}, \"moving_mean_initializer\": {\"class_name\": \"Zeros\", \"config\": {}}, \"moving_variance_initializer\": {\"class_name\": \"Ones\", \"config\": {}}, \"beta_regularizer\": null, \"gamma_regularizer\": null, \"beta_constraint\": null, \"gamma_constraint\": null}, \"inbound_nodes\": [[[\"CNNlayer5\", 0, 0, {}]]]}, {\"name\": \"MaxPool6\", \"class_name\": \"MaxPooling2D\", \"config\": {\"name\": \"MaxPool6\", \"trainable\": true, \"pool_size\": [1, 1], \"padding\": \"valid\", \"strides\": [1, 1], \"data_format\": \"channels_last\"}, \"inbound_nodes\": [[[\"batch_normalization_10\", 0, 0, {}]]]}, {\"name\": \"dropout_7\", \"class_name\": \"Dropout\", \"config\": {\"name\": \"dropout_7\", \"trainable\": true, \"rate\": 0.0, \"noise_shape\": null, \"seed\": null}, \"inbound_nodes\": [[[\"MaxPool6\", 0, 0, {}]]]}, {\"name\": \"CNNlayer7\", \"class_name\": \"Conv2D\", \"config\": {\"name\": \"CNNlayer7\", \"trainable\": true, \"filters\": 128, \"kernel_size\": [3, 3], \"strides\": [1, 1], \"padding\": \"valid\", \"data_format\": \"channels_last\", \"dilation_rate\": [1, 1], \"activation\": \"relu\", \"use_bias\": true, \"kernel_initializer\": {\"class_name\": \"VarianceScaling\", \"config\": {\"scale\": 1.0, \"mode\": \"fan_avg\", \"distribution\": \"uniform\", \"seed\": null}}, \"bias_initializer\": {\"class_name\": \"Zeros\", \"config\": {}}, \"kernel_regularizer\": null, \"bias_regularizer\": null, \"activity_regularizer\": null, \"kernel_constraint\": null, \"bias_constraint\": null}, \"inbound_nodes\": [[[\"dropout_7\", 0, 0, {}]]]}, {\"name\": \"batch_normalization_11\", \"class_name\": \"BatchNormalization\", \"config\": {\"name\": \"batch_normalization_11\", \"trainable\": true, \"axis\": -1, \"momentum\": 0.99, \"epsilon\": 0.001, \"center\": true, \"scale\": true, \"beta_initializer\": {\"class_name\": \"Zeros\", \"config\": {}}, \"gamma_initializer\": {\"class_name\": \"Ones\", \"config\": {}}, \"moving_mean_initializer\": {\"class_name\": \"Zeros\", \"config\": {}}, \"moving_variance_initializer\": {\"class_name\": \"Ones\", \"config\": {}}, \"beta_regularizer\": null, \"gamma_regularizer\": null, \"beta_constraint\": null, \"gamma_constraint\": null}, \"inbound_nodes\": [[[\"CNNlayer7\", 0, 0, {}]]]}, {\"name\": \"CNNlayer8\", \"class_name\": \"Conv2D\", \"config\": {\"name\": \"CNNlayer8\", \"trainable\": true, \"filters\": 128, \"kernel_size\": [3, 3], \"strides\": [1, 1], \"padding\": \"valid\", \"data_format\": \"channels_last\", \"dilation_rate\": [1, 1], \"activation\": \"relu\", \"use_bias\": true, \"kernel_initializer\": {\"class_name\": \"VarianceScaling\", \"config\": {\"scale\": 1.0, \"mode\": \"fan_avg\", \"distribution\": \"uniform\", \"seed\": null}}, \"bias_initializer\": {\"class_name\": \"Zeros\", \"config\": {}}, \"kernel_regularizer\": null, \"bias_regularizer\": null, \"activity_regularizer\": null, \"kernel_constraint\": null, \"bias_constraint\": null}, \"inbound_nodes\": [[[\"batch_normalization_11\", 0, 0, {}]]]}, {\"name\": \"batch_normalization_12\", \"class_name\": \"BatchNormalization\", \"config\": {\"name\": \"batch_normalization_12\", \"trainable\": true, \"axis\": -1, \"momentum\": 0.99, \"epsilon\": 0.001, \"center\": true, \"scale\": true, \"beta_initializer\": {\"class_name\": \"Zeros\", \"config\": {}}, \"gamma_initializer\": {\"class_name\": \"Ones\", \"config\": {}}, \"moving_mean_initializer\": {\"class_name\": \"Zeros\", \"config\": {}}, \"moving_variance_initializer\": {\"class_name\": \"Ones\", \"config\": {}}, \"beta_regularizer\": null, \"gamma_regularizer\": null, \"beta_constraint\": null, \"gamma_constraint\": null}, \"inbound_nodes\": [[[\"CNNlayer8\", 0, 0, {}]]]}, {\"name\": \"MaxPool9\", \"class_name\": \"MaxPooling2D\", \"config\": {\"name\": \"MaxPool9\", \"trainable\": true, \"pool_size\": [1, 1], \"padding\": \"valid\", \"strides\": [1, 1], \"data_format\": \"channels_last\"}, \"inbound_nodes\": [[[\"batch_normalization_12\", 0, 0, {}]]]}, {\"name\": \"dropout_8\", \"class_name\": \"Dropout\", \"config\": {\"name\": \"dropout_8\", \"trainable\": true, \"rate\": 0.0, \"noise_shape\": null, \"seed\": null}, \"inbound_nodes\": [[[\"MaxPool9\", 0, 0, {}]]]}, {\"name\": \"Flatten10\", \"class_name\": \"Flatten\", \"config\": {\"name\": \"Flatten10\", \"trainable\": true, \"data_format\": \"channels_last\"}, \"inbound_nodes\": [[[\"dropout_8\", 0, 0, {}]]]}, {\"name\": \"Dense11\", \"class_name\": \"Dense\", \"config\": {\"name\": \"Dense11\", \"trainable\": true, \"units\": 64, \"activation\": \"relu\", \"use_bias\": true, \"kernel_initializer\": {\"class_name\": \"VarianceScaling\", \"config\": {\"scale\": 1.0, \"mode\": \"fan_avg\", \"distribution\": \"uniform\", \"seed\": null}}, \"bias_initializer\": {\"class_name\": \"Zeros\", \"config\": {}}, \"kernel_regularizer\": null, \"bias_regularizer\": null, \"activity_regularizer\": null, \"kernel_constraint\": null, \"bias_constraint\": null}, \"inbound_nodes\": [[[\"Flatten10\", 0, 0, {}]]]}, {\"name\": \"dropout_9\", \"class_name\": \"Dropout\", \"config\": {\"name\": \"dropout_9\", \"trainable\": true, \"rate\": 0.2, \"noise_shape\": null, \"seed\": null}, \"inbound_nodes\": [[[\"Dense11\", 0, 0, {}]]]}, {\"name\": \"Dense13\", \"class_name\": \"Dense\", \"config\": {\"name\": \"Dense13\", \"trainable\": true, \"units\": 32, \"activation\": \"relu\", \"use_bias\": true, \"kernel_initializer\": {\"class_name\": \"VarianceScaling\", \"config\": {\"scale\": 1.0, \"mode\": \"fan_avg\", \"distribution\": \"uniform\", \"seed\": null}}, \"bias_initializer\": {\"class_name\": \"Zeros\", \"config\": {}}, \"kernel_regularizer\": null, \"bias_regularizer\": null, \"activity_regularizer\": null, \"kernel_constraint\": null, \"bias_constraint\": null}, \"inbound_nodes\": [[[\"dropout_9\", 0, 0, {}]]]}, {\"name\": \"dropout_10\", \"class_name\": \"Dropout\", \"config\": {\"name\": \"dropout_10\", \"trainable\": true, \"rate\": 0.2, \"noise_shape\": null, \"seed\": null}, \"inbound_nodes\": [[[\"Dense13\", 0, 0, {}]]]}, {\"name\": \"DenseMultiClassSoftmaxLayer\", \"class_name\": \"Dense\", \"config\": {\"name\": \"DenseMultiClassSoftmaxLayer\", \"trainable\": true, \"units\": 10, \"activation\": \"sigmoid\", \"use_bias\": true, \"kernel_initializer\": {\"class_name\": \"VarianceScaling\", \"config\": {\"scale\": 1.0, \"mode\": \"fan_avg\", \"distribution\": \"uniform\", \"seed\": null}}, \"bias_initializer\": {\"class_name\": \"Zeros\", \"config\": {}}, \"kernel_regularizer\": null, \"bias_regularizer\": null, \"activity_regularizer\": null, \"kernel_constraint\": null, \"bias_constraint\": null}, \"inbound_nodes\": [[[\"dropout_10\", 0, 0, {}]]]}], \"input_layers\": [[\"1\", 0, 0]], \"output_layers\": [[\"DenseMultiClassSoftmaxLayer\", 0, 0]]}, \"keras_version\": \"2.1.6\", \"backend\": \"tensorflow\"}'\n",
            "{'class_name': 'Model', 'config': {'name': 'model_2', 'layers': [{'name': '1', 'class_name': 'InputLayer', 'config': {'batch_input_shape': [None, 32, 32, 3], 'dtype': 'float32', 'sparse': False, 'name': '1'}, 'inbound_nodes': []}, {'name': 'CNNlayer1', 'class_name': 'Conv2D', 'config': {'name': 'CNNlayer1', 'trainable': True, 'filters': 32, 'kernel_size': [3, 3], 'strides': [1, 1], 'padding': 'valid', 'data_format': 'channels_last', 'dilation_rate': [1, 1], 'activation': 'relu', 'use_bias': True, 'kernel_initializer': {'class_name': 'VarianceScaling', 'config': {'scale': 1.0, 'mode': 'fan_avg', 'distribution': 'uniform', 'seed': None}}, 'bias_initializer': {'class_name': 'Zeros', 'config': {}}, 'kernel_regularizer': None, 'bias_regularizer': None, 'activity_regularizer': None, 'kernel_constraint': None, 'bias_constraint': None}, 'inbound_nodes': [[['1', 0, 0, {}]]]}, {'name': 'batch_normalization_7', 'class_name': 'BatchNormalization', 'config': {'name': 'batch_normalization_7', 'trainable': True, 'axis': -1, 'momentum': 0.99, 'epsilon': 0.001, 'center': True, 'scale': True, 'beta_initializer': {'class_name': 'Zeros', 'config': {}}, 'gamma_initializer': {'class_name': 'Ones', 'config': {}}, 'moving_mean_initializer': {'class_name': 'Zeros', 'config': {}}, 'moving_variance_initializer': {'class_name': 'Ones', 'config': {}}, 'beta_regularizer': None, 'gamma_regularizer': None, 'beta_constraint': None, 'gamma_constraint': None}, 'inbound_nodes': [[['CNNlayer1', 0, 0, {}]]]}, {'name': 'CNNlayer2', 'class_name': 'Conv2D', 'config': {'name': 'CNNlayer2', 'trainable': True, 'filters': 32, 'kernel_size': [3, 3], 'strides': [1, 1], 'padding': 'valid', 'data_format': 'channels_last', 'dilation_rate': [1, 1], 'activation': 'relu', 'use_bias': True, 'kernel_initializer': {'class_name': 'VarianceScaling', 'config': {'scale': 1.0, 'mode': 'fan_avg', 'distribution': 'uniform', 'seed': None}}, 'bias_initializer': {'class_name': 'Zeros', 'config': {}}, 'kernel_regularizer': None, 'bias_regularizer': None, 'activity_regularizer': None, 'kernel_constraint': None, 'bias_constraint': None}, 'inbound_nodes': [[['batch_normalization_7', 0, 0, {}]]]}, {'name': 'batch_normalization_8', 'class_name': 'BatchNormalization', 'config': {'name': 'batch_normalization_8', 'trainable': True, 'axis': -1, 'momentum': 0.99, 'epsilon': 0.001, 'center': True, 'scale': True, 'beta_initializer': {'class_name': 'Zeros', 'config': {}}, 'gamma_initializer': {'class_name': 'Ones', 'config': {}}, 'moving_mean_initializer': {'class_name': 'Zeros', 'config': {}}, 'moving_variance_initializer': {'class_name': 'Ones', 'config': {}}, 'beta_regularizer': None, 'gamma_regularizer': None, 'beta_constraint': None, 'gamma_constraint': None}, 'inbound_nodes': [[['CNNlayer2', 0, 0, {}]]]}, {'name': 'MaxPool3', 'class_name': 'MaxPooling2D', 'config': {'name': 'MaxPool3', 'trainable': True, 'pool_size': [2, 2], 'padding': 'valid', 'strides': [2, 2], 'data_format': 'channels_last'}, 'inbound_nodes': [[['batch_normalization_8', 0, 0, {}]]]}, {'name': 'dropout_6', 'class_name': 'Dropout', 'config': {'name': 'dropout_6', 'trainable': True, 'rate': 0.0, 'noise_shape': None, 'seed': None}, 'inbound_nodes': [[['MaxPool3', 0, 0, {}]]]}, {'name': 'CNNlayer4', 'class_name': 'Conv2D', 'config': {'name': 'CNNlayer4', 'trainable': True, 'filters': 64, 'kernel_size': [3, 3], 'strides': [1, 1], 'padding': 'valid', 'data_format': 'channels_last', 'dilation_rate': [1, 1], 'activation': 'relu', 'use_bias': True, 'kernel_initializer': {'class_name': 'VarianceScaling', 'config': {'scale': 1.0, 'mode': 'fan_avg', 'distribution': 'uniform', 'seed': None}}, 'bias_initializer': {'class_name': 'Zeros', 'config': {}}, 'kernel_regularizer': None, 'bias_regularizer': None, 'activity_regularizer': None, 'kernel_constraint': None, 'bias_constraint': None}, 'inbound_nodes': [[['dropout_6', 0, 0, {}]]]}, {'name': 'batch_normalization_9', 'class_name': 'BatchNormalization', 'config': {'name': 'batch_normalization_9', 'trainable': True, 'axis': -1, 'momentum': 0.99, 'epsilon': 0.001, 'center': True, 'scale': True, 'beta_initializer': {'class_name': 'Zeros', 'config': {}}, 'gamma_initializer': {'class_name': 'Ones', 'config': {}}, 'moving_mean_initializer': {'class_name': 'Zeros', 'config': {}}, 'moving_variance_initializer': {'class_name': 'Ones', 'config': {}}, 'beta_regularizer': None, 'gamma_regularizer': None, 'beta_constraint': None, 'gamma_constraint': None}, 'inbound_nodes': [[['CNNlayer4', 0, 0, {}]]]}, {'name': 'CNNlayer5', 'class_name': 'Conv2D', 'config': {'name': 'CNNlayer5', 'trainable': True, 'filters': 64, 'kernel_size': [3, 3], 'strides': [1, 1], 'padding': 'valid', 'data_format': 'channels_last', 'dilation_rate': [1, 1], 'activation': 'relu', 'use_bias': True, 'kernel_initializer': {'class_name': 'VarianceScaling', 'config': {'scale': 1.0, 'mode': 'fan_avg', 'distribution': 'uniform', 'seed': None}}, 'bias_initializer': {'class_name': 'Zeros', 'config': {}}, 'kernel_regularizer': None, 'bias_regularizer': None, 'activity_regularizer': None, 'kernel_constraint': None, 'bias_constraint': None}, 'inbound_nodes': [[['batch_normalization_9', 0, 0, {}]]]}, {'name': 'batch_normalization_10', 'class_name': 'BatchNormalization', 'config': {'name': 'batch_normalization_10', 'trainable': True, 'axis': -1, 'momentum': 0.99, 'epsilon': 0.001, 'center': True, 'scale': True, 'beta_initializer': {'class_name': 'Zeros', 'config': {}}, 'gamma_initializer': {'class_name': 'Ones', 'config': {}}, 'moving_mean_initializer': {'class_name': 'Zeros', 'config': {}}, 'moving_variance_initializer': {'class_name': 'Ones', 'config': {}}, 'beta_regularizer': None, 'gamma_regularizer': None, 'beta_constraint': None, 'gamma_constraint': None}, 'inbound_nodes': [[['CNNlayer5', 0, 0, {}]]]}, {'name': 'MaxPool6', 'class_name': 'MaxPooling2D', 'config': {'name': 'MaxPool6', 'trainable': True, 'pool_size': [1, 1], 'padding': 'valid', 'strides': [1, 1], 'data_format': 'channels_last'}, 'inbound_nodes': [[['batch_normalization_10', 0, 0, {}]]]}, {'name': 'dropout_7', 'class_name': 'Dropout', 'config': {'name': 'dropout_7', 'trainable': True, 'rate': 0.0, 'noise_shape': None, 'seed': None}, 'inbound_nodes': [[['MaxPool6', 0, 0, {}]]]}, {'name': 'CNNlayer7', 'class_name': 'Conv2D', 'config': {'name': 'CNNlayer7', 'trainable': True, 'filters': 128, 'kernel_size': [3, 3], 'strides': [1, 1], 'padding': 'valid', 'data_format': 'channels_last', 'dilation_rate': [1, 1], 'activation': 'relu', 'use_bias': True, 'kernel_initializer': {'class_name': 'VarianceScaling', 'config': {'scale': 1.0, 'mode': 'fan_avg', 'distribution': 'uniform', 'seed': None}}, 'bias_initializer': {'class_name': 'Zeros', 'config': {}}, 'kernel_regularizer': None, 'bias_regularizer': None, 'activity_regularizer': None, 'kernel_constraint': None, 'bias_constraint': None}, 'inbound_nodes': [[['dropout_7', 0, 0, {}]]]}, {'name': 'batch_normalization_11', 'class_name': 'BatchNormalization', 'config': {'name': 'batch_normalization_11', 'trainable': True, 'axis': -1, 'momentum': 0.99, 'epsilon': 0.001, 'center': True, 'scale': True, 'beta_initializer': {'class_name': 'Zeros', 'config': {}}, 'gamma_initializer': {'class_name': 'Ones', 'config': {}}, 'moving_mean_initializer': {'class_name': 'Zeros', 'config': {}}, 'moving_variance_initializer': {'class_name': 'Ones', 'config': {}}, 'beta_regularizer': None, 'gamma_regularizer': None, 'beta_constraint': None, 'gamma_constraint': None}, 'inbound_nodes': [[['CNNlayer7', 0, 0, {}]]]}, {'name': 'CNNlayer8', 'class_name': 'Conv2D', 'config': {'name': 'CNNlayer8', 'trainable': True, 'filters': 128, 'kernel_size': [3, 3], 'strides': [1, 1], 'padding': 'valid', 'data_format': 'channels_last', 'dilation_rate': [1, 1], 'activation': 'relu', 'use_bias': True, 'kernel_initializer': {'class_name': 'VarianceScaling', 'config': {'scale': 1.0, 'mode': 'fan_avg', 'distribution': 'uniform', 'seed': None}}, 'bias_initializer': {'class_name': 'Zeros', 'config': {}}, 'kernel_regularizer': None, 'bias_regularizer': None, 'activity_regularizer': None, 'kernel_constraint': None, 'bias_constraint': None}, 'inbound_nodes': [[['batch_normalization_11', 0, 0, {}]]]}, {'name': 'batch_normalization_12', 'class_name': 'BatchNormalization', 'config': {'name': 'batch_normalization_12', 'trainable': True, 'axis': -1, 'momentum': 0.99, 'epsilon': 0.001, 'center': True, 'scale': True, 'beta_initializer': {'class_name': 'Zeros', 'config': {}}, 'gamma_initializer': {'class_name': 'Ones', 'config': {}}, 'moving_mean_initializer': {'class_name': 'Zeros', 'config': {}}, 'moving_variance_initializer': {'class_name': 'Ones', 'config': {}}, 'beta_regularizer': None, 'gamma_regularizer': None, 'beta_constraint': None, 'gamma_constraint': None}, 'inbound_nodes': [[['CNNlayer8', 0, 0, {}]]]}, {'name': 'MaxPool9', 'class_name': 'MaxPooling2D', 'config': {'name': 'MaxPool9', 'trainable': True, 'pool_size': [1, 1], 'padding': 'valid', 'strides': [1, 1], 'data_format': 'channels_last'}, 'inbound_nodes': [[['batch_normalization_12', 0, 0, {}]]]}, {'name': 'dropout_8', 'class_name': 'Dropout', 'config': {'name': 'dropout_8', 'trainable': True, 'rate': 0.0, 'noise_shape': None, 'seed': None}, 'inbound_nodes': [[['MaxPool9', 0, 0, {}]]]}, {'name': 'Flatten10', 'class_name': 'Flatten', 'config': {'name': 'Flatten10', 'trainable': True, 'data_format': 'channels_last'}, 'inbound_nodes': [[['dropout_8', 0, 0, {}]]]}, {'name': 'Dense11', 'class_name': 'Dense', 'config': {'name': 'Dense11', 'trainable': True, 'units': 64, 'activation': 'relu', 'use_bias': True, 'kernel_initializer': {'class_name': 'VarianceScaling', 'config': {'scale': 1.0, 'mode': 'fan_avg', 'distribution': 'uniform', 'seed': None}}, 'bias_initializer': {'class_name': 'Zeros', 'config': {}}, 'kernel_regularizer': None, 'bias_regularizer': None, 'activity_regularizer': None, 'kernel_constraint': None, 'bias_constraint': None}, 'inbound_nodes': [[['Flatten10', 0, 0, {}]]]}, {'name': 'dropout_9', 'class_name': 'Dropout', 'config': {'name': 'dropout_9', 'trainable': True, 'rate': 0.2, 'noise_shape': None, 'seed': None}, 'inbound_nodes': [[['Dense11', 0, 0, {}]]]}, {'name': 'Dense13', 'class_name': 'Dense', 'config': {'name': 'Dense13', 'trainable': True, 'units': 32, 'activation': 'relu', 'use_bias': True, 'kernel_initializer': {'class_name': 'VarianceScaling', 'config': {'scale': 1.0, 'mode': 'fan_avg', 'distribution': 'uniform', 'seed': None}}, 'bias_initializer': {'class_name': 'Zeros', 'config': {}}, 'kernel_regularizer': None, 'bias_regularizer': None, 'activity_regularizer': None, 'kernel_constraint': None, 'bias_constraint': None}, 'inbound_nodes': [[['dropout_9', 0, 0, {}]]]}, {'name': 'dropout_10', 'class_name': 'Dropout', 'config': {'name': 'dropout_10', 'trainable': True, 'rate': 0.2, 'noise_shape': None, 'seed': None}, 'inbound_nodes': [[['Dense13', 0, 0, {}]]]}, {'name': 'DenseMultiClassSoftmaxLayer', 'class_name': 'Dense', 'config': {'name': 'DenseMultiClassSoftmaxLayer', 'trainable': True, 'units': 10, 'activation': 'sigmoid', 'use_bias': True, 'kernel_initializer': {'class_name': 'VarianceScaling', 'config': {'scale': 1.0, 'mode': 'fan_avg', 'distribution': 'uniform', 'seed': None}}, 'bias_initializer': {'class_name': 'Zeros', 'config': {}}, 'kernel_regularizer': None, 'bias_regularizer': None, 'activity_regularizer': None, 'kernel_constraint': None, 'bias_constraint': None}, 'inbound_nodes': [[['dropout_10', 0, 0, {}]]]}], 'input_layers': [['1', 0, 0]], 'output_layers': [['DenseMultiClassSoftmaxLayer', 0, 0]]}, 'keras_version': '2.1.6', 'backend': 'tensorflow'}\n"
          ],
          "name": "stdout"
        },
        {
          "output_type": "error",
          "ename": "TypeError",
          "evalue": "ignored",
          "traceback": [
            "\u001b[0;31m---------------------------------------------------------------------------\u001b[0m",
            "\u001b[0;31mTypeError\u001b[0m                                 Traceback (most recent call last)",
            "\u001b[0;32m<ipython-input-43-508d7f3c3339>\u001b[0m in \u001b[0;36m<module>\u001b[0;34m()\u001b[0m\n\u001b[1;32m     15\u001b[0m \u001b[0;34m\u001b[0m\u001b[0m\n\u001b[1;32m     16\u001b[0m \u001b[0mprint\u001b[0m\u001b[0;34m(\u001b[0m\u001b[0minfo\u001b[0m\u001b[0;34m)\u001b[0m\u001b[0;34m\u001b[0m\u001b[0m\n\u001b[0;32m---> 17\u001b[0;31m \u001b[0mmyloadedmodel\u001b[0m \u001b[0;34m=\u001b[0m \u001b[0mmodel_from_json\u001b[0m\u001b[0;34m(\u001b[0m\u001b[0minfo\u001b[0m\u001b[0;34m)\u001b[0m\u001b[0;34m\u001b[0m\u001b[0m\n\u001b[0m\u001b[1;32m     18\u001b[0m \u001b[0;34m\u001b[0m\u001b[0m\n\u001b[1;32m     19\u001b[0m \u001b[0mconnection\u001b[0m\u001b[0;34m.\u001b[0m\u001b[0mclose\u001b[0m\u001b[0;34m(\u001b[0m\u001b[0;34m)\u001b[0m\u001b[0;34m\u001b[0m\u001b[0m\n",
            "\u001b[0;32m/usr/local/lib/python3.6/dist-packages/keras/models.py\u001b[0m in \u001b[0;36mmodel_from_json\u001b[0;34m(json_string, custom_objects)\u001b[0m\n\u001b[1;32m    376\u001b[0m         \u001b[0mA\u001b[0m \u001b[0mKeras\u001b[0m \u001b[0mmodel\u001b[0m \u001b[0minstance\u001b[0m \u001b[0;34m(\u001b[0m\u001b[0muncompiled\u001b[0m\u001b[0;34m)\u001b[0m\u001b[0;34m.\u001b[0m\u001b[0;34m\u001b[0m\u001b[0m\n\u001b[1;32m    377\u001b[0m     \"\"\"\n\u001b[0;32m--> 378\u001b[0;31m     \u001b[0mconfig\u001b[0m \u001b[0;34m=\u001b[0m \u001b[0mjson\u001b[0m\u001b[0;34m.\u001b[0m\u001b[0mloads\u001b[0m\u001b[0;34m(\u001b[0m\u001b[0mjson_string\u001b[0m\u001b[0;34m)\u001b[0m\u001b[0;34m\u001b[0m\u001b[0m\n\u001b[0m\u001b[1;32m    379\u001b[0m     \u001b[0;32mreturn\u001b[0m \u001b[0mlayer_module\u001b[0m\u001b[0;34m.\u001b[0m\u001b[0mdeserialize\u001b[0m\u001b[0;34m(\u001b[0m\u001b[0mconfig\u001b[0m\u001b[0;34m,\u001b[0m \u001b[0mcustom_objects\u001b[0m\u001b[0;34m=\u001b[0m\u001b[0mcustom_objects\u001b[0m\u001b[0;34m)\u001b[0m\u001b[0;34m\u001b[0m\u001b[0m\n\u001b[1;32m    380\u001b[0m \u001b[0;34m\u001b[0m\u001b[0m\n",
            "\u001b[0;32m/usr/lib/python3.6/json/__init__.py\u001b[0m in \u001b[0;36mloads\u001b[0;34m(s, encoding, cls, object_hook, parse_float, parse_int, parse_constant, object_pairs_hook, **kw)\u001b[0m\n\u001b[1;32m    346\u001b[0m         \u001b[0;32mif\u001b[0m \u001b[0;32mnot\u001b[0m \u001b[0misinstance\u001b[0m\u001b[0;34m(\u001b[0m\u001b[0ms\u001b[0m\u001b[0;34m,\u001b[0m \u001b[0;34m(\u001b[0m\u001b[0mbytes\u001b[0m\u001b[0;34m,\u001b[0m \u001b[0mbytearray\u001b[0m\u001b[0;34m)\u001b[0m\u001b[0;34m)\u001b[0m\u001b[0;34m:\u001b[0m\u001b[0;34m\u001b[0m\u001b[0m\n\u001b[1;32m    347\u001b[0m             raise TypeError('the JSON object must be str, bytes or bytearray, '\n\u001b[0;32m--> 348\u001b[0;31m                             'not {!r}'.format(s.__class__.__name__))\n\u001b[0m\u001b[1;32m    349\u001b[0m         \u001b[0ms\u001b[0m \u001b[0;34m=\u001b[0m \u001b[0ms\u001b[0m\u001b[0;34m.\u001b[0m\u001b[0mdecode\u001b[0m\u001b[0;34m(\u001b[0m\u001b[0mdetect_encoding\u001b[0m\u001b[0;34m(\u001b[0m\u001b[0ms\u001b[0m\u001b[0;34m)\u001b[0m\u001b[0;34m,\u001b[0m \u001b[0;34m'surrogatepass'\u001b[0m\u001b[0;34m)\u001b[0m\u001b[0;34m\u001b[0m\u001b[0m\n\u001b[1;32m    350\u001b[0m \u001b[0;34m\u001b[0m\u001b[0m\n",
            "\u001b[0;31mTypeError\u001b[0m: the JSON object must be str, bytes or bytearray, not 'dict'"
          ]
        }
      ]
    },
    {
      "metadata": {
        "id": "JK81sgXDDQp0",
        "colab_type": "code",
        "colab": {}
      },
      "cell_type": "code",
      "source": [
        "def loadmyModelFromFile(ExpName):\n",
        "\n",
        "    myloadedmodel = generatedNetwork\n",
        "    myloadedmodel.load_weights('cifar_1B_model'+ str(ExpName) + 's.h5')\n",
        "    print(myloadedmodel.summary())\n",
        "    return myloadedmodel\n"
      ],
      "execution_count": 0,
      "outputs": []
    },
    {
      "metadata": {
        "id": "m_8OsXtIwD83",
        "colab_type": "code",
        "colab": {}
      },
      "cell_type": "code",
      "source": [
        "#Input parameters are depthofnetwork, generalization capacity , \n",
        "\n",
        "def createANetwork(ExpNo, noofCNNlayers, noofDenselayers, noofCNNFilters, noofDensenodes  ,\n",
        "                  networkwidthTamperRate, stride, maxpool, noofPARALLELbranches , kernalsize, dropoutrateinCNN=0, dropoutrateinFC=0.2):\n",
        "    myinputShape = (32, 32, 3)\n",
        "    myinputTensor = Input(shape=myinputShape, name='1')\n",
        "    x = myinputTensor\n",
        "    layerno = 1\n",
        "    isskipaddingMaxPool = True\n",
        "    \n",
        "    for i in range(noofCNNlayers):\n",
        "        x = layers.Conv2D(noofCNNFilters, kernel_size=(kernalsize,kernalsize), strides=(stride,stride), activation='relu', name='CNNlayer'+str(layerno)) (x)\n",
        "        print( str(layerno) + ' Conv2D  Filters=' + str(noofCNNFilters) + '.    kernel size=(' + str(kernalsize) + ' , ' + str(kernalsize) + ' )'  + ' . stride=' + str(stride) + '     Relu')\n",
        "        x = layers.BatchNormalization()(x)\n",
        "        layerno = layerno +1\n",
        "        if(layerno > 3):\n",
        "            maxpool = 1\n",
        "        if(layerno > 1):\n",
        "            stride = 1\n",
        "        if (isskipaddingMaxPool == False):\n",
        "            x = layers.MaxPooling2D(pool_size=(maxpool, maxpool), name='MaxPool'+str(layerno)) (x)\n",
        "            print( str(layerno) + ' MaxPool  . Poolsize=' + str(maxpool) )\n",
        "            layerno = layerno +1\n",
        "            x = layers.Dropout(dropoutrateinCNN) (x)\n",
        "            print( '  Dropout '  + str(dropoutrateinCNN) )\n",
        "            isskipaddingMaxPool = True\n",
        "            noofCNNFilters = round( noofCNNFilters * networkwidthTamperRate )\n",
        "            if(noofCNNFilters>512):\n",
        "                noofCNNFilters = 512\n",
        "        else:\n",
        "            isskipaddingMaxPool = False\n",
        "\n",
        "\n",
        "    x = layers.Flatten(name='Flatten' + str(layerno) ) (x)\n",
        "    print(str(layerno) + ' Flatten  ' )\n",
        "\n",
        "    layerno = layerno + 1\n",
        "\n",
        "    for i in range(noofDenselayers):\n",
        "        x = layers.Dense(noofDensenodes, activation='relu', name='Dense'+ str(layerno) )(x)\n",
        "        print( str(layerno) + ' Dense  ' + str(noofDensenodes) )\n",
        "        layerno = layerno +1\n",
        "        x = layers.Dropout(dropoutrateinFC) (x)\n",
        "        print( '  Dropout '  + str(dropoutrateinFC) )\n",
        "        layerno = layerno +1\n",
        "        noofDensenodes = round(noofDensenodes/2)\n",
        "\n",
        "    myoutputTensor = layers.Dense(10, activation='sigmoid', name='DenseMultiClassSoftmaxLayer') (x)\n",
        "\n",
        "    mymodel = Model(myinputTensor, myoutputTensor)\n",
        "\n",
        "    print(mymodel.summary())\n",
        "\n",
        "   # plot_model(mymodel, show_shapes=True, to_file='models'+str(ExpNo) + '.png')\n",
        "   # plot_model(mymodel, show_shapes=False, to_file='m'+str(ExpNo) + '.png')\n",
        "\n",
        "\n",
        "    return mymodel\n"
      ],
      "execution_count": 0,
      "outputs": []
    },
    {
      "metadata": {
        "id": "eShC-VIqwKzQ",
        "colab_type": "code",
        "colab": {}
      },
      "cell_type": "code",
      "source": [
        "ExpName = 2100\n",
        "islistcreated = False\n",
        "ListofNetworks = list()\n",
        "nooffiltersstarting =  32\n",
        "networkwidthTamperRate = 2\n",
        "noofDenselayers = 2\n",
        "noofDensenodes = 64 \n",
        "stride = 1\n",
        "maxpool = 2\n",
        "noofPARALLELbranches = 1\n",
        "noofCNNlayers = 6\n",
        "kernalsize = 3"
      ],
      "execution_count": 0,
      "outputs": []
    },
    {
      "metadata": {
        "id": "dZaMwDqpwMAS",
        "colab_type": "code",
        "colab": {
          "base_uri": "https://localhost:8080/",
          "height": 1271
        },
        "outputId": "75867fbe-0053-4697-e4f2-70797bfbfe99"
      },
      "cell_type": "code",
      "source": [
        "    ExpName = ExpName + 1\n",
        "    generatedNetwork =  createANetwork(ExpName, noofCNNlayers,noofDenselayers, nooffiltersstarting, noofDensenodes  ,networkwidthTamperRate, stride, maxpool,  noofPARALLELbranches, kernalsize, dropoutrateinCNN=0, dropoutrateinFC=0.2 )\n"
      ],
      "execution_count": 48,
      "outputs": [
        {
          "output_type": "stream",
          "text": [
            "1 Conv2D  Filters=32.    kernel size=(3 , 3 ) . stride=1     Relu\n",
            "2 Conv2D  Filters=32.    kernel size=(3 , 3 ) . stride=1     Relu\n",
            "3 MaxPool  . Poolsize=2\n",
            "  Dropout 0\n",
            "4 Conv2D  Filters=64.    kernel size=(3 , 3 ) . stride=1     Relu\n",
            "5 Conv2D  Filters=64.    kernel size=(3 , 3 ) . stride=1     Relu\n",
            "6 MaxPool  . Poolsize=1\n",
            "  Dropout 0\n",
            "7 Conv2D  Filters=128.    kernel size=(3 , 3 ) . stride=1     Relu\n",
            "8 Conv2D  Filters=128.    kernel size=(3 , 3 ) . stride=1     Relu\n",
            "9 MaxPool  . Poolsize=1\n",
            "  Dropout 0\n",
            "10 Flatten  \n",
            "11 Dense  64\n",
            "  Dropout 0.2\n",
            "13 Dense  32\n",
            "  Dropout 0.2\n",
            "_________________________________________________________________\n",
            "Layer (type)                 Output Shape              Param #   \n",
            "=================================================================\n",
            "1 (InputLayer)               (None, 32, 32, 3)         0         \n",
            "_________________________________________________________________\n",
            "CNNlayer1 (Conv2D)           (None, 30, 30, 32)        896       \n",
            "_________________________________________________________________\n",
            "batch_normalization_7 (Batch (None, 30, 30, 32)        128       \n",
            "_________________________________________________________________\n",
            "CNNlayer2 (Conv2D)           (None, 28, 28, 32)        9248      \n",
            "_________________________________________________________________\n",
            "batch_normalization_8 (Batch (None, 28, 28, 32)        128       \n",
            "_________________________________________________________________\n",
            "MaxPool3 (MaxPooling2D)      (None, 14, 14, 32)        0         \n",
            "_________________________________________________________________\n",
            "dropout_6 (Dropout)          (None, 14, 14, 32)        0         \n",
            "_________________________________________________________________\n",
            "CNNlayer4 (Conv2D)           (None, 12, 12, 64)        18496     \n",
            "_________________________________________________________________\n",
            "batch_normalization_9 (Batch (None, 12, 12, 64)        256       \n",
            "_________________________________________________________________\n",
            "CNNlayer5 (Conv2D)           (None, 10, 10, 64)        36928     \n",
            "_________________________________________________________________\n",
            "batch_normalization_10 (Batc (None, 10, 10, 64)        256       \n",
            "_________________________________________________________________\n",
            "MaxPool6 (MaxPooling2D)      (None, 10, 10, 64)        0         \n",
            "_________________________________________________________________\n",
            "dropout_7 (Dropout)          (None, 10, 10, 64)        0         \n",
            "_________________________________________________________________\n",
            "CNNlayer7 (Conv2D)           (None, 8, 8, 128)         73856     \n",
            "_________________________________________________________________\n",
            "batch_normalization_11 (Batc (None, 8, 8, 128)         512       \n",
            "_________________________________________________________________\n",
            "CNNlayer8 (Conv2D)           (None, 6, 6, 128)         147584    \n",
            "_________________________________________________________________\n",
            "batch_normalization_12 (Batc (None, 6, 6, 128)         512       \n",
            "_________________________________________________________________\n",
            "MaxPool9 (MaxPooling2D)      (None, 6, 6, 128)         0         \n",
            "_________________________________________________________________\n",
            "dropout_8 (Dropout)          (None, 6, 6, 128)         0         \n",
            "_________________________________________________________________\n",
            "Flatten10 (Flatten)          (None, 4608)              0         \n",
            "_________________________________________________________________\n",
            "Dense11 (Dense)              (None, 64)                294976    \n",
            "_________________________________________________________________\n",
            "dropout_9 (Dropout)          (None, 64)                0         \n",
            "_________________________________________________________________\n",
            "Dense13 (Dense)              (None, 32)                2080      \n",
            "_________________________________________________________________\n",
            "dropout_10 (Dropout)         (None, 32)                0         \n",
            "_________________________________________________________________\n",
            "DenseMultiClassSoftmaxLayer  (None, 10)                330       \n",
            "=================================================================\n",
            "Total params: 586,186\n",
            "Trainable params: 585,290\n",
            "Non-trainable params: 896\n",
            "_________________________________________________________________\n",
            "None\n"
          ],
          "name": "stdout"
        }
      ]
    },
    {
      "metadata": {
        "id": "J6j1FfXSohX4",
        "colab_type": "code",
        "colab": {
          "base_uri": "https://localhost:8080/",
          "height": 730
        },
        "outputId": "693a853b-c6a8-49a0-d33b-0a15be121702"
      },
      "cell_type": "code",
      "source": [
        "mymodel1 = loadmyModelFromFile(2101)"
      ],
      "execution_count": 49,
      "outputs": [
        {
          "output_type": "error",
          "ename": "OSError",
          "evalue": "ignored",
          "traceback": [
            "\u001b[0;31m---------------------------------------------------------------------------\u001b[0m",
            "\u001b[0;31mOSError\u001b[0m                                   Traceback (most recent call last)",
            "\u001b[0;32m<ipython-input-49-30e2841ee0f8>\u001b[0m in \u001b[0;36m<module>\u001b[0;34m()\u001b[0m\n\u001b[0;32m----> 1\u001b[0;31m \u001b[0mmymodel1\u001b[0m \u001b[0;34m=\u001b[0m \u001b[0mloadmyModelFromFile\u001b[0m\u001b[0;34m(\u001b[0m\u001b[0;36m2101\u001b[0m\u001b[0;34m)\u001b[0m\u001b[0;34m\u001b[0m\u001b[0m\n\u001b[0m",
            "\u001b[0;32m<ipython-input-45-31c2cbff4636>\u001b[0m in \u001b[0;36mloadmyModelFromFile\u001b[0;34m(ExpName)\u001b[0m\n\u001b[1;32m      2\u001b[0m \u001b[0;34m\u001b[0m\u001b[0m\n\u001b[1;32m      3\u001b[0m     \u001b[0mmyloadedmodel\u001b[0m \u001b[0;34m=\u001b[0m \u001b[0mgeneratedNetwork\u001b[0m\u001b[0;34m\u001b[0m\u001b[0m\n\u001b[0;32m----> 4\u001b[0;31m     \u001b[0mmyloadedmodel\u001b[0m\u001b[0;34m.\u001b[0m\u001b[0mload_weights\u001b[0m\u001b[0;34m(\u001b[0m\u001b[0;34m'cifar_1B_model'\u001b[0m\u001b[0;34m+\u001b[0m \u001b[0mstr\u001b[0m\u001b[0;34m(\u001b[0m\u001b[0mExpName\u001b[0m\u001b[0;34m)\u001b[0m \u001b[0;34m+\u001b[0m \u001b[0;34m's.h5'\u001b[0m\u001b[0;34m)\u001b[0m\u001b[0;34m\u001b[0m\u001b[0m\n\u001b[0m\u001b[1;32m      5\u001b[0m     \u001b[0mprint\u001b[0m\u001b[0;34m(\u001b[0m\u001b[0mmyloadedmodel\u001b[0m\u001b[0;34m.\u001b[0m\u001b[0msummary\u001b[0m\u001b[0;34m(\u001b[0m\u001b[0;34m)\u001b[0m\u001b[0;34m)\u001b[0m\u001b[0;34m\u001b[0m\u001b[0m\n\u001b[1;32m      6\u001b[0m     \u001b[0;32mreturn\u001b[0m \u001b[0mmyloadedmodel\u001b[0m\u001b[0;34m\u001b[0m\u001b[0m\n",
            "\u001b[0;32m/usr/local/lib/python3.6/dist-packages/keras/engine/topology.py\u001b[0m in \u001b[0;36mload_weights\u001b[0;34m(self, filepath, by_name, skip_mismatch, reshape)\u001b[0m\n\u001b[1;32m   2656\u001b[0m         \u001b[0;32mif\u001b[0m \u001b[0mh5py\u001b[0m \u001b[0;32mis\u001b[0m \u001b[0;32mNone\u001b[0m\u001b[0;34m:\u001b[0m\u001b[0;34m\u001b[0m\u001b[0m\n\u001b[1;32m   2657\u001b[0m             \u001b[0;32mraise\u001b[0m \u001b[0mImportError\u001b[0m\u001b[0;34m(\u001b[0m\u001b[0;34m'`load_weights` requires h5py.'\u001b[0m\u001b[0;34m)\u001b[0m\u001b[0;34m\u001b[0m\u001b[0m\n\u001b[0;32m-> 2658\u001b[0;31m         \u001b[0;32mwith\u001b[0m \u001b[0mh5py\u001b[0m\u001b[0;34m.\u001b[0m\u001b[0mFile\u001b[0m\u001b[0;34m(\u001b[0m\u001b[0mfilepath\u001b[0m\u001b[0;34m,\u001b[0m \u001b[0mmode\u001b[0m\u001b[0;34m=\u001b[0m\u001b[0;34m'r'\u001b[0m\u001b[0;34m)\u001b[0m \u001b[0;32mas\u001b[0m \u001b[0mf\u001b[0m\u001b[0;34m:\u001b[0m\u001b[0;34m\u001b[0m\u001b[0m\n\u001b[0m\u001b[1;32m   2659\u001b[0m             \u001b[0;32mif\u001b[0m \u001b[0;34m'layer_names'\u001b[0m \u001b[0;32mnot\u001b[0m \u001b[0;32min\u001b[0m \u001b[0mf\u001b[0m\u001b[0;34m.\u001b[0m\u001b[0mattrs\u001b[0m \u001b[0;32mand\u001b[0m \u001b[0;34m'model_weights'\u001b[0m \u001b[0;32min\u001b[0m \u001b[0mf\u001b[0m\u001b[0;34m:\u001b[0m\u001b[0;34m\u001b[0m\u001b[0m\n\u001b[1;32m   2660\u001b[0m                 \u001b[0mf\u001b[0m \u001b[0;34m=\u001b[0m \u001b[0mf\u001b[0m\u001b[0;34m[\u001b[0m\u001b[0;34m'model_weights'\u001b[0m\u001b[0;34m]\u001b[0m\u001b[0;34m\u001b[0m\u001b[0m\n",
            "\u001b[0;32m/usr/local/lib/python3.6/dist-packages/h5py/_hl/files.py\u001b[0m in \u001b[0;36m__init__\u001b[0;34m(self, name, mode, driver, libver, userblock_size, swmr, **kwds)\u001b[0m\n\u001b[1;32m    310\u001b[0m             \u001b[0;32mwith\u001b[0m \u001b[0mphil\u001b[0m\u001b[0;34m:\u001b[0m\u001b[0;34m\u001b[0m\u001b[0m\n\u001b[1;32m    311\u001b[0m                 \u001b[0mfapl\u001b[0m \u001b[0;34m=\u001b[0m \u001b[0mmake_fapl\u001b[0m\u001b[0;34m(\u001b[0m\u001b[0mdriver\u001b[0m\u001b[0;34m,\u001b[0m \u001b[0mlibver\u001b[0m\u001b[0;34m,\u001b[0m \u001b[0;34m**\u001b[0m\u001b[0mkwds\u001b[0m\u001b[0;34m)\u001b[0m\u001b[0;34m\u001b[0m\u001b[0m\n\u001b[0;32m--> 312\u001b[0;31m                 \u001b[0mfid\u001b[0m \u001b[0;34m=\u001b[0m \u001b[0mmake_fid\u001b[0m\u001b[0;34m(\u001b[0m\u001b[0mname\u001b[0m\u001b[0;34m,\u001b[0m \u001b[0mmode\u001b[0m\u001b[0;34m,\u001b[0m \u001b[0muserblock_size\u001b[0m\u001b[0;34m,\u001b[0m \u001b[0mfapl\u001b[0m\u001b[0;34m,\u001b[0m \u001b[0mswmr\u001b[0m\u001b[0;34m=\u001b[0m\u001b[0mswmr\u001b[0m\u001b[0;34m)\u001b[0m\u001b[0;34m\u001b[0m\u001b[0m\n\u001b[0m\u001b[1;32m    313\u001b[0m \u001b[0;34m\u001b[0m\u001b[0m\n\u001b[1;32m    314\u001b[0m                 \u001b[0;32mif\u001b[0m \u001b[0mswmr_support\u001b[0m\u001b[0;34m:\u001b[0m\u001b[0;34m\u001b[0m\u001b[0m\n",
            "\u001b[0;32m/usr/local/lib/python3.6/dist-packages/h5py/_hl/files.py\u001b[0m in \u001b[0;36mmake_fid\u001b[0;34m(name, mode, userblock_size, fapl, fcpl, swmr)\u001b[0m\n\u001b[1;32m    140\u001b[0m         \u001b[0;32mif\u001b[0m \u001b[0mswmr\u001b[0m \u001b[0;32mand\u001b[0m \u001b[0mswmr_support\u001b[0m\u001b[0;34m:\u001b[0m\u001b[0;34m\u001b[0m\u001b[0m\n\u001b[1;32m    141\u001b[0m             \u001b[0mflags\u001b[0m \u001b[0;34m|=\u001b[0m \u001b[0mh5f\u001b[0m\u001b[0;34m.\u001b[0m\u001b[0mACC_SWMR_READ\u001b[0m\u001b[0;34m\u001b[0m\u001b[0m\n\u001b[0;32m--> 142\u001b[0;31m         \u001b[0mfid\u001b[0m \u001b[0;34m=\u001b[0m \u001b[0mh5f\u001b[0m\u001b[0;34m.\u001b[0m\u001b[0mopen\u001b[0m\u001b[0;34m(\u001b[0m\u001b[0mname\u001b[0m\u001b[0;34m,\u001b[0m \u001b[0mflags\u001b[0m\u001b[0;34m,\u001b[0m \u001b[0mfapl\u001b[0m\u001b[0;34m=\u001b[0m\u001b[0mfapl\u001b[0m\u001b[0;34m)\u001b[0m\u001b[0;34m\u001b[0m\u001b[0m\n\u001b[0m\u001b[1;32m    143\u001b[0m     \u001b[0;32melif\u001b[0m \u001b[0mmode\u001b[0m \u001b[0;34m==\u001b[0m \u001b[0;34m'r+'\u001b[0m\u001b[0;34m:\u001b[0m\u001b[0;34m\u001b[0m\u001b[0m\n\u001b[1;32m    144\u001b[0m         \u001b[0mfid\u001b[0m \u001b[0;34m=\u001b[0m \u001b[0mh5f\u001b[0m\u001b[0;34m.\u001b[0m\u001b[0mopen\u001b[0m\u001b[0;34m(\u001b[0m\u001b[0mname\u001b[0m\u001b[0;34m,\u001b[0m \u001b[0mh5f\u001b[0m\u001b[0;34m.\u001b[0m\u001b[0mACC_RDWR\u001b[0m\u001b[0;34m,\u001b[0m \u001b[0mfapl\u001b[0m\u001b[0;34m=\u001b[0m\u001b[0mfapl\u001b[0m\u001b[0;34m)\u001b[0m\u001b[0;34m\u001b[0m\u001b[0m\n",
            "\u001b[0;32mh5py/_objects.pyx\u001b[0m in \u001b[0;36mh5py._objects.with_phil.wrapper\u001b[0;34m()\u001b[0m\n",
            "\u001b[0;32mh5py/_objects.pyx\u001b[0m in \u001b[0;36mh5py._objects.with_phil.wrapper\u001b[0;34m()\u001b[0m\n",
            "\u001b[0;32mh5py/h5f.pyx\u001b[0m in \u001b[0;36mh5py.h5f.open\u001b[0;34m()\u001b[0m\n",
            "\u001b[0;31mOSError\u001b[0m: Unable to open file (file signature not found)"
          ]
        }
      ]
    },
    {
      "metadata": {
        "id": "BcfXMDXjzbKw",
        "colab_type": "code",
        "colab": {
          "base_uri": "https://localhost:8080/",
          "height": 630
        },
        "outputId": "591f31fe-08fc-4a19-ccc8-d4b01c093362"
      },
      "cell_type": "code",
      "source": [
        "import keras \n",
        "model = keras.models.load_model(\"cifar_1B_model2101s.h5\")"
      ],
      "execution_count": 52,
      "outputs": [
        {
          "output_type": "error",
          "ename": "OSError",
          "evalue": "ignored",
          "traceback": [
            "\u001b[0;31m---------------------------------------------------------------------------\u001b[0m",
            "\u001b[0;31mOSError\u001b[0m                                   Traceback (most recent call last)",
            "\u001b[0;32m<ipython-input-52-6d37fdb64035>\u001b[0m in \u001b[0;36m<module>\u001b[0;34m()\u001b[0m\n\u001b[1;32m      1\u001b[0m \u001b[0;32mimport\u001b[0m \u001b[0mkeras\u001b[0m\u001b[0;34m\u001b[0m\u001b[0m\n\u001b[0;32m----> 2\u001b[0;31m \u001b[0mmodel\u001b[0m \u001b[0;34m=\u001b[0m \u001b[0mkeras\u001b[0m\u001b[0;34m.\u001b[0m\u001b[0mmodels\u001b[0m\u001b[0;34m.\u001b[0m\u001b[0mload_model\u001b[0m\u001b[0;34m(\u001b[0m\u001b[0;34m\"cifar_1B_model2101s.h5\"\u001b[0m\u001b[0;34m)\u001b[0m\u001b[0;34m\u001b[0m\u001b[0m\n\u001b[0m",
            "\u001b[0;32m/usr/local/lib/python3.6/dist-packages/keras/models.py\u001b[0m in \u001b[0;36mload_model\u001b[0;34m(filepath, custom_objects, compile)\u001b[0m\n\u001b[1;32m    258\u001b[0m     \u001b[0mopened_new_file\u001b[0m \u001b[0;34m=\u001b[0m \u001b[0;32mnot\u001b[0m \u001b[0misinstance\u001b[0m\u001b[0;34m(\u001b[0m\u001b[0mfilepath\u001b[0m\u001b[0;34m,\u001b[0m \u001b[0mh5py\u001b[0m\u001b[0;34m.\u001b[0m\u001b[0mFile\u001b[0m\u001b[0;34m)\u001b[0m\u001b[0;34m\u001b[0m\u001b[0m\n\u001b[1;32m    259\u001b[0m     \u001b[0;32mif\u001b[0m \u001b[0mopened_new_file\u001b[0m\u001b[0;34m:\u001b[0m\u001b[0;34m\u001b[0m\u001b[0m\n\u001b[0;32m--> 260\u001b[0;31m         \u001b[0mf\u001b[0m \u001b[0;34m=\u001b[0m \u001b[0mh5py\u001b[0m\u001b[0;34m.\u001b[0m\u001b[0mFile\u001b[0m\u001b[0;34m(\u001b[0m\u001b[0mfilepath\u001b[0m\u001b[0;34m,\u001b[0m \u001b[0mmode\u001b[0m\u001b[0;34m=\u001b[0m\u001b[0;34m'r'\u001b[0m\u001b[0;34m)\u001b[0m\u001b[0;34m\u001b[0m\u001b[0m\n\u001b[0m\u001b[1;32m    261\u001b[0m     \u001b[0;32melse\u001b[0m\u001b[0;34m:\u001b[0m\u001b[0;34m\u001b[0m\u001b[0m\n\u001b[1;32m    262\u001b[0m         \u001b[0mf\u001b[0m \u001b[0;34m=\u001b[0m \u001b[0mfilepath\u001b[0m\u001b[0;34m\u001b[0m\u001b[0m\n",
            "\u001b[0;32m/usr/local/lib/python3.6/dist-packages/h5py/_hl/files.py\u001b[0m in \u001b[0;36m__init__\u001b[0;34m(self, name, mode, driver, libver, userblock_size, swmr, **kwds)\u001b[0m\n\u001b[1;32m    310\u001b[0m             \u001b[0;32mwith\u001b[0m \u001b[0mphil\u001b[0m\u001b[0;34m:\u001b[0m\u001b[0;34m\u001b[0m\u001b[0m\n\u001b[1;32m    311\u001b[0m                 \u001b[0mfapl\u001b[0m \u001b[0;34m=\u001b[0m \u001b[0mmake_fapl\u001b[0m\u001b[0;34m(\u001b[0m\u001b[0mdriver\u001b[0m\u001b[0;34m,\u001b[0m \u001b[0mlibver\u001b[0m\u001b[0;34m,\u001b[0m \u001b[0;34m**\u001b[0m\u001b[0mkwds\u001b[0m\u001b[0;34m)\u001b[0m\u001b[0;34m\u001b[0m\u001b[0m\n\u001b[0;32m--> 312\u001b[0;31m                 \u001b[0mfid\u001b[0m \u001b[0;34m=\u001b[0m \u001b[0mmake_fid\u001b[0m\u001b[0;34m(\u001b[0m\u001b[0mname\u001b[0m\u001b[0;34m,\u001b[0m \u001b[0mmode\u001b[0m\u001b[0;34m,\u001b[0m \u001b[0muserblock_size\u001b[0m\u001b[0;34m,\u001b[0m \u001b[0mfapl\u001b[0m\u001b[0;34m,\u001b[0m \u001b[0mswmr\u001b[0m\u001b[0;34m=\u001b[0m\u001b[0mswmr\u001b[0m\u001b[0;34m)\u001b[0m\u001b[0;34m\u001b[0m\u001b[0m\n\u001b[0m\u001b[1;32m    313\u001b[0m \u001b[0;34m\u001b[0m\u001b[0m\n\u001b[1;32m    314\u001b[0m                 \u001b[0;32mif\u001b[0m \u001b[0mswmr_support\u001b[0m\u001b[0;34m:\u001b[0m\u001b[0;34m\u001b[0m\u001b[0m\n",
            "\u001b[0;32m/usr/local/lib/python3.6/dist-packages/h5py/_hl/files.py\u001b[0m in \u001b[0;36mmake_fid\u001b[0;34m(name, mode, userblock_size, fapl, fcpl, swmr)\u001b[0m\n\u001b[1;32m    140\u001b[0m         \u001b[0;32mif\u001b[0m \u001b[0mswmr\u001b[0m \u001b[0;32mand\u001b[0m \u001b[0mswmr_support\u001b[0m\u001b[0;34m:\u001b[0m\u001b[0;34m\u001b[0m\u001b[0m\n\u001b[1;32m    141\u001b[0m             \u001b[0mflags\u001b[0m \u001b[0;34m|=\u001b[0m \u001b[0mh5f\u001b[0m\u001b[0;34m.\u001b[0m\u001b[0mACC_SWMR_READ\u001b[0m\u001b[0;34m\u001b[0m\u001b[0m\n\u001b[0;32m--> 142\u001b[0;31m         \u001b[0mfid\u001b[0m \u001b[0;34m=\u001b[0m \u001b[0mh5f\u001b[0m\u001b[0;34m.\u001b[0m\u001b[0mopen\u001b[0m\u001b[0;34m(\u001b[0m\u001b[0mname\u001b[0m\u001b[0;34m,\u001b[0m \u001b[0mflags\u001b[0m\u001b[0;34m,\u001b[0m \u001b[0mfapl\u001b[0m\u001b[0;34m=\u001b[0m\u001b[0mfapl\u001b[0m\u001b[0;34m)\u001b[0m\u001b[0;34m\u001b[0m\u001b[0m\n\u001b[0m\u001b[1;32m    143\u001b[0m     \u001b[0;32melif\u001b[0m \u001b[0mmode\u001b[0m \u001b[0;34m==\u001b[0m \u001b[0;34m'r+'\u001b[0m\u001b[0;34m:\u001b[0m\u001b[0;34m\u001b[0m\u001b[0m\n\u001b[1;32m    144\u001b[0m         \u001b[0mfid\u001b[0m \u001b[0;34m=\u001b[0m \u001b[0mh5f\u001b[0m\u001b[0;34m.\u001b[0m\u001b[0mopen\u001b[0m\u001b[0;34m(\u001b[0m\u001b[0mname\u001b[0m\u001b[0;34m,\u001b[0m \u001b[0mh5f\u001b[0m\u001b[0;34m.\u001b[0m\u001b[0mACC_RDWR\u001b[0m\u001b[0;34m,\u001b[0m \u001b[0mfapl\u001b[0m\u001b[0;34m=\u001b[0m\u001b[0mfapl\u001b[0m\u001b[0;34m)\u001b[0m\u001b[0;34m\u001b[0m\u001b[0m\n",
            "\u001b[0;32mh5py/_objects.pyx\u001b[0m in \u001b[0;36mh5py._objects.with_phil.wrapper\u001b[0;34m()\u001b[0m\n",
            "\u001b[0;32mh5py/_objects.pyx\u001b[0m in \u001b[0;36mh5py._objects.with_phil.wrapper\u001b[0;34m()\u001b[0m\n",
            "\u001b[0;32mh5py/h5f.pyx\u001b[0m in \u001b[0;36mh5py.h5f.open\u001b[0;34m()\u001b[0m\n",
            "\u001b[0;31mOSError\u001b[0m: Unable to open file (file signature not found)"
          ]
        }
      ]
    },
    {
      "metadata": {
        "id": "Qe_zJFe0ou4g",
        "colab_type": "code",
        "colab": {
          "base_uri": "https://localhost:8080/",
          "height": 50
        },
        "outputId": "8d71a329-d32a-4f0a-d214-334dbec36c92"
      },
      "cell_type": "code",
      "source": [
        "(xtrain1, ytrain1), (xtest, ytest) = datasets.cifar10.load_data()\n",
        "labelsnames =  ['airplane','automobile','bird','cat','deer','dog','frog','horse','ship','truck']"
      ],
      "execution_count": 6,
      "outputs": [
        {
          "output_type": "stream",
          "text": [
            "Downloading data from https://www.cs.toronto.edu/~kriz/cifar-10-python.tar.gz\n",
            "170500096/170498071 [==============================] - 46s 0us/step\n"
          ],
          "name": "stdout"
        }
      ]
    },
    {
      "metadata": {
        "id": "AvUIbOhXo2Ja",
        "colab_type": "code",
        "colab": {
          "base_uri": "https://localhost:8080/",
          "height": 67
        },
        "outputId": "16fd87b7-fd6e-482f-ac6b-7dfcf7dfafc9"
      },
      "cell_type": "code",
      "source": [
        "myloadedmodel = model\n",
        "result = myloadedmodel.predict(xtrain1[108:109].astype('float16') * 1/255)\n",
        "print(result)\n",
        "print(result[0].round(1))\n"
      ],
      "execution_count": 10,
      "outputs": [
        {
          "output_type": "stream",
          "text": [
            "[[3.7144367e-19 0.0000000e+00 1.0000000e+00 4.8730431e-20 1.5907469e-21\n",
            "  3.5070101e-24 7.8994395e-22 1.6416125e-28 0.0000000e+00 0.0000000e+00]]\n",
            "[0. 0. 1. 0. 0. 0. 0. 0. 0. 0.]\n"
          ],
          "name": "stdout"
        }
      ]
    },
    {
      "metadata": {
        "id": "V1qfFnCyEzTi",
        "colab_type": "code",
        "colab": {}
      },
      "cell_type": "code",
      "source": [
        "#Find insights about a network such as how deep is the network, memorizationcapacity, generalizationcapacity, noofCNNs, kernalsize, amountofnonlinearity\n",
        "def extractNetworkInsights(anetwork, verbose=0):\n",
        "    #print('Analzing the Network insights')\n",
        "    layercount = 0\n",
        "    layercountCNN = 0\n",
        "    for alayer in anetwork.layers:\n",
        "      layercount = layercount + 1\n",
        "      aconfig = alayer.get_config()\n",
        "      if (verbose==0):\n",
        "        print(str(aconfig) )\n",
        "      if (verbose==1):  \n",
        "        if 'CNN' in str(aconfig.get(\"name\")):\n",
        "          layercountCNN = layercountCNN + 1 \n",
        "          print( str(layercount) + '   ' + str(aconfig.get(\"name\") +  '   Filters=' + str(aconfig.get(\"filters\") )))\n",
        "        elif ('Pool' in str(aconfig.get(\"name\"))):\n",
        "          print( str(layercount) + '   ' + str(aconfig.get(\"name\") +  '   PoolSize=' + str(aconfig.get(\"pool_size\") )))\n",
        "        elif 'dropout' in aconfig.get(\"name\"):\n",
        "          print( str(layercount) + '   ' + str(aconfig.get(\"name\") +  '   Rate=' + str(aconfig.get(\"rate\") )))\n",
        "        elif 'Dense' in aconfig.get(\"name\"):\n",
        "          print( str(layercount) + '   ' + str(aconfig.get(\"name\") +  '   Units=' + str(aconfig.get(\"units\") )) )         \n",
        "        else:\n",
        "          print( str(layercount) + '   ' + str(aconfig.get(\"name\")))\n",
        "    return str(layercountCNN) + ' CNN layers'"
      ],
      "execution_count": 0,
      "outputs": []
    },
    {
      "metadata": {
        "id": "md6j-gtOE9NF",
        "colab_type": "code",
        "colab": {
          "base_uri": "https://localhost:8080/",
          "height": 452
        },
        "outputId": "78f598a9-b460-409e-a8f6-91c4063f26da"
      },
      "cell_type": "code",
      "source": [
        "extractNetworkInsights(myloadedmodel, verbose=1)"
      ],
      "execution_count": 12,
      "outputs": [
        {
          "output_type": "stream",
          "text": [
            "1   1\n",
            "2   CNNlayer1   Filters=32\n",
            "3   batch_normalization_1\n",
            "4   CNNlayer2   Filters=32\n",
            "5   batch_normalization_2\n",
            "6   MaxPool3   PoolSize=(2, 2)\n",
            "7   dropout_1   Rate=0.0\n",
            "8   CNNlayer4   Filters=64\n",
            "9   batch_normalization_3\n",
            "10   CNNlayer5   Filters=64\n",
            "11   batch_normalization_4\n",
            "12   MaxPool6   PoolSize=(1, 1)\n",
            "13   dropout_2   Rate=0.0\n",
            "14   CNNlayer7   Filters=128\n",
            "15   batch_normalization_5\n",
            "16   CNNlayer8   Filters=128\n",
            "17   batch_normalization_6\n",
            "18   MaxPool9   PoolSize=(1, 1)\n",
            "19   dropout_3   Rate=0.0\n",
            "20   Flatten10\n",
            "21   Dense11   Units=64\n",
            "22   dropout_4   Rate=0.2\n",
            "23   Dense13   Units=32\n",
            "24   dropout_5   Rate=0.2\n",
            "25   DenseMultiClassSoftmaxLayer   Units=10\n"
          ],
          "name": "stdout"
        },
        {
          "output_type": "execute_result",
          "data": {
            "text/plain": [
              "'6 CNN layers'"
            ]
          },
          "metadata": {
            "tags": []
          },
          "execution_count": 12
        }
      ]
    }
  ]
}